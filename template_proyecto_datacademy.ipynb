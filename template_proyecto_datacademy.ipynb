{
 "cells": [
  {
   "cell_type": "markdown",
   "source": "# Análisis de los 25 retailers más grandes de Estados Unidos",
   "metadata": {
    "cell_id": "1df879a0-53cd-4031-a50b-2c2fe17304a4",
    "tags": [],
    "is_collapsed": false,
    "deepnote_cell_height": 134.15625,
    "deepnote_cell_type": "text-cell-h1"
   }
  },
  {
   "cell_type": "code",
   "metadata": {
    "tags": [],
    "cell_id": "3347a937-91c3-4305-b06c-213bb2f3bcaf",
    "deepnote_to_be_reexecuted": false,
    "source_hash": "24b26b86",
    "execution_start": 1645725256356,
    "execution_millis": 2232,
    "deepnote_cell_height": 137.15625,
    "deepnote_cell_type": "code"
   },
   "source": "import pandas as pd\nimport numpy as np\nimport matplotlib.pyplot as plt\nimport seaborn as sns",
   "outputs": [],
   "execution_count": null
  },
  {
   "cell_type": "code",
   "metadata": {
    "cell_id": "081fdaf2-888a-4a54-9495-467464cfc400",
    "tags": [],
    "deepnote_to_be_reexecuted": false,
    "source_hash": "c278e58e",
    "execution_start": 1645725258599,
    "execution_millis": 75,
    "deepnote_cell_height": 379.375,
    "deepnote_cell_type": "code"
   },
   "source": "datos = pd.read_csv (\"/work/largest_us_retailers.csv\")\ndatos.head()",
   "outputs": [
    {
     "output_type": "execute_result",
     "execution_count": 2,
     "data": {
      "application/vnd.deepnote.dataframe.v3+json": {
       "column_count": 6,
       "row_count": 5,
       "columns": [
        {
         "name": "Company",
         "dtype": "object",
         "stats": {
          "unique_count": 5,
          "nan_count": 0,
          "categories": [
           {
            "name": "Walmart US",
            "count": 1
           },
           {
            "name": "Kroger",
            "count": 1
           },
           {
            "name": "3 others",
            "count": 3
           }
          ]
         }
        },
        {
         "name": "Sales",
         "dtype": "int64",
         "stats": {
          "unique_count": 5,
          "nan_count": 0,
          "min": "78924",
          "max": "658119",
          "histogram": [
           {
            "bin_start": 78924,
            "bin_end": 136843.5,
            "count": 4
           },
           {
            "bin_start": 136843.5,
            "bin_end": 194763,
            "count": 0
           },
           {
            "bin_start": 194763,
            "bin_end": 252682.5,
            "count": 0
           },
           {
            "bin_start": 252682.5,
            "bin_end": 310602,
            "count": 0
           },
           {
            "bin_start": 310602,
            "bin_end": 368521.5,
            "count": 0
           },
           {
            "bin_start": 368521.5,
            "bin_end": 426441,
            "count": 0
           },
           {
            "bin_start": 426441,
            "bin_end": 484360.5,
            "count": 0
           },
           {
            "bin_start": 484360.5,
            "bin_end": 542280,
            "count": 0
           },
           {
            "bin_start": 542280,
            "bin_end": 600199.5,
            "count": 0
           },
           {
            "bin_start": 600199.5,
            "bin_end": 658119,
            "count": 1
           }
          ]
         }
        },
        {
         "name": "Stores",
         "dtype": "float64",
         "stats": {
          "unique_count": 5,
          "nan_count": 0,
          "min": "495.0",
          "max": "8002.0",
          "histogram": [
           {
            "bin_start": 495,
            "bin_end": 1245.7,
            "count": 1
           },
           {
            "bin_start": 1245.7,
            "bin_end": 1996.4,
            "count": 1
           },
           {
            "bin_start": 1996.4,
            "bin_end": 2747.1000000000004,
            "count": 0
           },
           {
            "bin_start": 2747.1000000000004,
            "bin_end": 3497.8,
            "count": 0
           },
           {
            "bin_start": 3497.8,
            "bin_end": 4248.5,
            "count": 1
           },
           {
            "bin_start": 4248.5,
            "bin_end": 4999.200000000001,
            "count": 1
           },
           {
            "bin_start": 4999.200000000001,
            "bin_end": 5749.900000000001,
            "count": 0
           },
           {
            "bin_start": 5749.900000000001,
            "bin_end": 6500.6,
            "count": 0
           },
           {
            "bin_start": 6500.6,
            "bin_end": 7251.3,
            "count": 0
           },
           {
            "bin_start": 7251.3,
            "bin_end": 8002,
            "count": 1
           }
          ]
         }
        },
        {
         "name": "Sales/Avg. Store",
         "dtype": "float64",
         "stats": {
          "unique_count": 5,
          "nan_count": 0,
          "min": "9.81092672",
          "max": "187.7956204",
          "histogram": [
           {
            "bin_start": 9.81092672,
            "bin_end": 27.609396087999997,
            "count": 1
           },
           {
            "bin_start": 27.609396087999997,
            "bin_end": 45.407865455999996,
            "count": 2
           },
           {
            "bin_start": 45.407865455999996,
            "bin_end": 63.206334823999995,
            "count": 0
           },
           {
            "bin_start": 63.206334823999995,
            "bin_end": 81.004804192,
            "count": 1
           },
           {
            "bin_start": 81.004804192,
            "bin_end": 98.80327356,
            "count": 0
           },
           {
            "bin_start": 98.80327356,
            "bin_end": 116.601742928,
            "count": 0
           },
           {
            "bin_start": 116.601742928,
            "bin_end": 134.400212296,
            "count": 0
           },
           {
            "bin_start": 134.400212296,
            "bin_end": 152.198681664,
            "count": 0
           },
           {
            "bin_start": 152.198681664,
            "bin_end": 169.99715103199998,
            "count": 0
           },
           {
            "bin_start": 169.99715103199998,
            "bin_end": 187.7956204,
            "count": 1
           }
          ]
         }
        },
        {
         "name": "Store Count Growth",
         "dtype": "float64",
         "stats": {
          "unique_count": 5,
          "nan_count": 0,
          "min": "-0.01051069618",
          "max": "0.06681034483",
          "histogram": [
           {
            "bin_start": -0.01051069618,
            "bin_end": -0.0027785920789999983,
            "count": 1
           },
           {
            "bin_start": -0.0027785920789999983,
            "bin_end": 0.004953512022000003,
            "count": 1
           },
           {
            "bin_start": 0.004953512022000003,
            "bin_end": 0.012685616123000005,
            "count": 0
           },
           {
            "bin_start": 0.012685616123000005,
            "bin_end": 0.020417720224000006,
            "count": 1
           },
           {
            "bin_start": 0.020417720224000006,
            "bin_end": 0.028149824325000003,
            "count": 0
           },
           {
            "bin_start": 0.028149824325000003,
            "bin_end": 0.03588192842600001,
            "count": 0
           },
           {
            "bin_start": 0.03588192842600001,
            "bin_end": 0.043614032527,
            "count": 0
           },
           {
            "bin_start": 0.043614032527,
            "bin_end": 0.05134613662800001,
            "count": 0
           },
           {
            "bin_start": 0.05134613662800001,
            "bin_end": 0.059078240729,
            "count": 1
           },
           {
            "bin_start": 0.059078240729,
            "bin_end": 0.06681034483,
            "count": 1
           }
          ]
         }
        },
        {
         "name": "Category",
         "dtype": "object",
         "stats": {
          "unique_count": 5,
          "nan_count": 0,
          "categories": [
           {
            "name": "Supercenters",
            "count": 1
           },
           {
            "name": "Grocery",
            "count": 1
           },
           {
            "name": "3 others",
            "count": 3
           }
          ]
         }
        },
        {
         "name": "_deepnote_index_column",
         "dtype": "int64"
        }
       ],
       "rows": [
        {
         "Company": "Walmart US",
         "Sales": 658119,
         "Stores": 4574,
         "Sales/Avg. Store": 65.64972497,
         "Store Count Growth": 0.01284322409,
         "Category": "Supercenters",
         "_deepnote_index_column": 0
        },
        {
         "Company": "Kroger",
         "Sales": 115037,
         "Stores": 3931,
         "Sales/Avg. Store": 30.03184963,
         "Store Count Growth": 0.05388739946,
         "Category": "Grocery",
         "_deepnote_index_column": 1
        },
        {
         "Company": "Costco",
         "Sales": 90048,
         "Stores": 495,
         "Sales/Avg. Store": 187.7956204,
         "Store Count Growth": 0.06681034483,
         "Category": "Warehouse Club",
         "_deepnote_index_column": 2
        },
        {
         "Company": "Home Depot",
         "Sales": 83976,
         "Stores": 1965,
         "Sales/Avg. Store": 42.73587786,
         "Store Count Growth": 0,
         "Category": "Home Improvement",
         "_deepnote_index_column": 3
        },
        {
         "Company": "Walgreen Boots",
         "Sales": 78924,
         "Stores": 8002,
         "Sales/Avg. Store": 9.81092672,
         "Store Count Growth": -0.01051069618,
         "Category": "Drug Stores",
         "_deepnote_index_column": 4
        }
       ]
      },
      "text/plain": "          Company   Sales  Stores  Sales/Avg. Store  Store Count Growth  \\\n0      Walmart US  658119  4574.0         65.649725            0.012843   \n1          Kroger  115037  3931.0         30.031850            0.053887   \n2          Costco   90048   495.0        187.795620            0.066810   \n3      Home Depot   83976  1965.0         42.735878            0.000000   \n4  Walgreen Boots   78924  8002.0          9.810927           -0.010511   \n\n           Category  \n0      Supercenters  \n1           Grocery  \n2    Warehouse Club  \n3  Home Improvement  \n4       Drug Stores  ",
      "text/html": "<div>\n<style scoped>\n    .dataframe tbody tr th:only-of-type {\n        vertical-align: middle;\n    }\n\n    .dataframe tbody tr th {\n        vertical-align: top;\n    }\n\n    .dataframe thead th {\n        text-align: right;\n    }\n</style>\n<table border=\"1\" class=\"dataframe\">\n  <thead>\n    <tr style=\"text-align: right;\">\n      <th></th>\n      <th>Company</th>\n      <th>Sales</th>\n      <th>Stores</th>\n      <th>Sales/Avg. Store</th>\n      <th>Store Count Growth</th>\n      <th>Category</th>\n    </tr>\n  </thead>\n  <tbody>\n    <tr>\n      <th>0</th>\n      <td>Walmart US</td>\n      <td>658119</td>\n      <td>4574.0</td>\n      <td>65.649725</td>\n      <td>0.012843</td>\n      <td>Supercenters</td>\n    </tr>\n    <tr>\n      <th>1</th>\n      <td>Kroger</td>\n      <td>115037</td>\n      <td>3931.0</td>\n      <td>30.031850</td>\n      <td>0.053887</td>\n      <td>Grocery</td>\n    </tr>\n    <tr>\n      <th>2</th>\n      <td>Costco</td>\n      <td>90048</td>\n      <td>495.0</td>\n      <td>187.795620</td>\n      <td>0.066810</td>\n      <td>Warehouse Club</td>\n    </tr>\n    <tr>\n      <th>3</th>\n      <td>Home Depot</td>\n      <td>83976</td>\n      <td>1965.0</td>\n      <td>42.735878</td>\n      <td>0.000000</td>\n      <td>Home Improvement</td>\n    </tr>\n    <tr>\n      <th>4</th>\n      <td>Walgreen Boots</td>\n      <td>78924</td>\n      <td>8002.0</td>\n      <td>9.810927</td>\n      <td>-0.010511</td>\n      <td>Drug Stores</td>\n    </tr>\n  </tbody>\n</table>\n</div>"
     },
     "metadata": {}
    }
   ],
   "execution_count": null
  },
  {
   "cell_type": "markdown",
   "source": "#### 1) Analizamos las ventas:",
   "metadata": {
    "cell_id": "e2c9ad66-a56f-4362-ab37-1195f101a664",
    "tags": [],
    "deepnote_cell_height": 54.15625,
    "deepnote_cell_type": "markdown"
   }
  },
  {
   "cell_type": "code",
   "metadata": {
    "cell_id": "79020111-40d4-4d2c-aeb7-673570f0f061",
    "tags": [],
    "deepnote_to_be_reexecuted": false,
    "source_hash": "7842b835",
    "execution_start": 1645725258747,
    "execution_millis": 465,
    "deepnote_cell_height": 616.671875,
    "deepnote_table_state": {
     "pageSize": 10,
     "pageIndex": 2,
     "filters": [],
     "sortBy": []
    },
    "deepnote_table_loading": false,
    "deepnote_cell_type": "code"
   },
   "source": "datos_sorted = datos.sort_values('Sales', ascending=0)\ndatos_sorted",
   "outputs": [
    {
     "output_type": "execute_result",
     "execution_count": 3,
     "data": {
      "application/vnd.deepnote.dataframe.v3+json": {
       "column_count": 6,
       "row_count": 25,
       "columns": [
        {
         "name": "Company",
         "dtype": "object",
         "stats": {
          "unique_count": 25,
          "nan_count": 0,
          "categories": [
           {
            "name": "Walmart US",
            "count": 1
           },
           {
            "name": "Kroger",
            "count": 1
           },
           {
            "name": "23 others",
            "count": 23
           }
          ]
         }
        },
        {
         "name": "Sales",
         "dtype": "int64",
         "stats": {
          "unique_count": 25,
          "nan_count": 0,
          "min": "16592",
          "max": "658119",
          "histogram": [
           {
            "bin_start": 16592,
            "bin_end": 80744.7,
            "count": 21
           },
           {
            "bin_start": 80744.7,
            "bin_end": 144897.4,
            "count": 3
           },
           {
            "bin_start": 144897.4,
            "bin_end": 209050.09999999998,
            "count": 0
           },
           {
            "bin_start": 209050.09999999998,
            "bin_end": 273202.8,
            "count": 0
           },
           {
            "bin_start": 273202.8,
            "bin_end": 337355.5,
            "count": 0
           },
           {
            "bin_start": 337355.5,
            "bin_end": 401508.19999999995,
            "count": 0
           },
           {
            "bin_start": 401508.19999999995,
            "bin_end": 465660.89999999997,
            "count": 0
           },
           {
            "bin_start": 465660.89999999997,
            "bin_end": 529813.6,
            "count": 0
           },
           {
            "bin_start": 529813.6,
            "bin_end": 593966.2999999999,
            "count": 0
           },
           {
            "bin_start": 593966.2999999999,
            "bin_end": 658119,
            "count": 1
           }
          ]
         }
        },
        {
         "name": "Stores",
         "dtype": "float64",
         "stats": {
          "unique_count": 23,
          "nan_count": 2,
          "min": "231.0",
          "max": "14250.0",
          "histogram": [
           {
            "bin_start": 231,
            "bin_end": 1632.9,
            "count": 10
           },
           {
            "bin_start": 1632.9,
            "bin_end": 3034.8,
            "count": 6
           },
           {
            "bin_start": 3034.8,
            "bin_end": 4436.700000000001,
            "count": 1
           },
           {
            "bin_start": 4436.700000000001,
            "bin_end": 5838.6,
            "count": 2
           },
           {
            "bin_start": 5838.6,
            "bin_end": 7240.5,
            "count": 0
           },
           {
            "bin_start": 7240.5,
            "bin_end": 8642.400000000001,
            "count": 1
           },
           {
            "bin_start": 8642.400000000001,
            "bin_end": 10044.300000000001,
            "count": 1
           },
           {
            "bin_start": 10044.300000000001,
            "bin_end": 11446.2,
            "count": 0
           },
           {
            "bin_start": 11446.2,
            "bin_end": 12848.1,
            "count": 0
           },
           {
            "bin_start": 12848.1,
            "bin_end": 14250,
            "count": 2
           }
          ]
         }
        },
        {
         "name": "Sales/Avg. Store",
         "dtype": "float64",
         "stats": {
          "unique_count": 23,
          "nan_count": 2,
          "min": "1.56391854",
          "max": "187.7956204",
          "histogram": [
           {
            "bin_start": 1.56391854,
            "bin_end": 20.187088726,
            "count": 9
           },
           {
            "bin_start": 20.187088726,
            "bin_end": 38.810258912,
            "count": 7
           },
           {
            "bin_start": 38.810258912,
            "bin_end": 57.433429098000005,
            "count": 2
           },
           {
            "bin_start": 57.433429098000005,
            "bin_end": 76.056599284,
            "count": 3
           },
           {
            "bin_start": 76.056599284,
            "bin_end": 94.67976947,
            "count": 1
           },
           {
            "bin_start": 94.67976947,
            "bin_end": 113.302939656,
            "count": 0
           },
           {
            "bin_start": 113.302939656,
            "bin_end": 131.926109842,
            "count": 0
           },
           {
            "bin_start": 131.926109842,
            "bin_end": 150.549280028,
            "count": 0
           },
           {
            "bin_start": 150.549280028,
            "bin_end": 169.172450214,
            "count": 0
           },
           {
            "bin_start": 169.172450214,
            "bin_end": 187.7956204,
            "count": 1
           }
          ]
         }
        },
        {
         "name": "Store Count Growth",
         "dtype": "float64",
         "stats": {
          "unique_count": 23,
          "nan_count": 2,
          "min": "-0.05951506245",
          "max": "0.2556621881",
          "histogram": [
           {
            "bin_start": -0.05951506245,
            "bin_end": -0.027997337395000002,
            "count": 3
           },
           {
            "bin_start": -0.027997337395000002,
            "bin_end": 0.003520387659999999,
            "count": 4
           },
           {
            "bin_start": 0.003520387659999999,
            "bin_end": 0.035038112715,
            "count": 6
           },
           {
            "bin_start": 0.035038112715,
            "bin_end": 0.06655583777,
            "count": 2
           },
           {
            "bin_start": 0.06655583777,
            "bin_end": 0.098073562825,
            "count": 5
           },
           {
            "bin_start": 0.098073562825,
            "bin_end": 0.12959128788000002,
            "count": 1
           },
           {
            "bin_start": 0.12959128788000002,
            "bin_end": 0.16110901293500002,
            "count": 1
           },
           {
            "bin_start": 0.16110901293500002,
            "bin_end": 0.19262673799000002,
            "count": 0
           },
           {
            "bin_start": 0.19262673799000002,
            "bin_end": 0.22414446304500002,
            "count": 0
           },
           {
            "bin_start": 0.22414446304500002,
            "bin_end": 0.2556621881,
            "count": 1
           }
          ]
         }
        },
        {
         "name": "Category",
         "dtype": "object",
         "stats": {
          "unique_count": 11,
          "nan_count": 1,
          "categories": [
           {
            "name": "Grocery",
            "count": 7
           },
           {
            "name": "10 others",
            "count": 17
           },
           {
            "name": "Missing",
            "count": 1
           }
          ]
         }
        },
        {
         "name": "_deepnote_index_column",
         "dtype": "int64"
        }
       ],
       "rows": [
        {
         "Company": "Dollar Tree",
         "Sales": 21464,
         "Stores": 14250,
         "Sales/Avg. Store": 1.56391854,
         "Store Count Growth": 0.07962724449,
         "Category": "Dollar Stores",
         "_deepnote_index_column": 20
        },
        {
         "Company": "HEB",
         "Sales": 21384,
         "Stores": 323,
         "Sales/Avg. Store": 66.825,
         "Store Count Growth": 0.01892744479,
         "Category": "Grocery",
         "_deepnote_index_column": 21
        },
        {
         "Company": "Kohl's",
         "Sales": 19060,
         "Stores": 1169,
         "Sales/Avg. Store": 16.35349635,
         "Store Count Growth": 0.006024096386,
         "Category": "Department Stores",
         "_deepnote_index_column": 22
        },
        {
         "Company": "Delhaize",
         "Sales": 18201,
         "Stores": 1280,
         "Sales/Avg. Store": 13.78341537,
         "Store Count Growth": -0.05951506245,
         "Category": "Grocery",
         "_deepnote_index_column": 23
        },
        {
         "Company": "Meijer",
         "Sales": 16592,
         "Stores": 231,
         "Sales/Avg. Store": 74.73873874,
         "Store Count Growth": 0.08450704225,
         "Category": "Supercenters",
         "_deepnote_index_column": 24
        }
       ]
      },
      "text/plain": "               Company   Sales   Stores  Sales/Avg. Store  Store Count Growth  \\\n0           Walmart US  658119   4574.0         65.649725            0.012843   \n1               Kroger  115037   3931.0         30.031850            0.053887   \n2               Costco   90048    495.0        187.795620            0.066810   \n3           Home Depot   83976   1965.0         42.735878            0.000000   \n4       Walgreen Boots   78924   8002.0          9.810927           -0.010511   \n5     CVS incl. Target   77792   9813.0          8.825959            0.255662   \n6               Amazon   71687      NaN               NaN                 NaN   \n7               Target   71208   1772.0         39.982033           -0.010056   \n8               Lowe's   60311   1828.0         33.311792            0.019520   \n9           Albertsons   56829   2326.0         23.877731           -0.044371   \n10          Sam's Club   56828    655.0         87.293395            0.012365   \n11  Apple incl. Online   37664      NaN               NaN                 NaN   \n12            Best Buy   34980   1389.0         24.685956           -0.038754   \n13              Publix   34408   1351.0         25.997733            0.042438   \n14            Rite Aid   27486   4553.0          6.025649           -0.003720   \n15               Ahold   26903    794.0         34.446863            0.033854   \n16              Macy's   26028    889.0         30.442105            0.082826   \n17                 TJX   25012   2770.0          9.369545            0.078241   \n18                Aldi   24402   2021.0         12.715998            0.112273   \n19      Dollar General   22234  13350.0          1.768885            0.132412   \n20         Dollar Tree   21464  14250.0          1.563919            0.079627   \n21                 HEB   21384    323.0         66.825000            0.018927   \n22              Kohl's   19060   1169.0         16.353496            0.006024   \n23            Delhaize   18201   1280.0         13.783415           -0.059515   \n24              Meijer   16592    231.0         74.738739            0.084507   \n\n                 Category  \n0            Supercenters  \n1                 Grocery  \n2          Warehouse Club  \n3        Home Improvement  \n4             Drug Stores  \n5             Drug Stores  \n6   Electronic/Mail Order  \n7            Supercenters  \n8        Home Improvement  \n9                 Grocery  \n10        Warehouse Clubs  \n11                    NaN  \n12            Electronics  \n13                Grocery  \n14            Drug Stores  \n15                Grocery  \n16      Department Stores  \n17                Apparel  \n18                Grocery  \n19          Dollar Stores  \n20          Dollar Stores  \n21                Grocery  \n22      Department Stores  \n23                Grocery  \n24           Supercenters  ",
      "text/html": "<div>\n<style scoped>\n    .dataframe tbody tr th:only-of-type {\n        vertical-align: middle;\n    }\n\n    .dataframe tbody tr th {\n        vertical-align: top;\n    }\n\n    .dataframe thead th {\n        text-align: right;\n    }\n</style>\n<table border=\"1\" class=\"dataframe\">\n  <thead>\n    <tr style=\"text-align: right;\">\n      <th></th>\n      <th>Company</th>\n      <th>Sales</th>\n      <th>Stores</th>\n      <th>Sales/Avg. Store</th>\n      <th>Store Count Growth</th>\n      <th>Category</th>\n    </tr>\n  </thead>\n  <tbody>\n    <tr>\n      <th>0</th>\n      <td>Walmart US</td>\n      <td>658119</td>\n      <td>4574.0</td>\n      <td>65.649725</td>\n      <td>0.012843</td>\n      <td>Supercenters</td>\n    </tr>\n    <tr>\n      <th>1</th>\n      <td>Kroger</td>\n      <td>115037</td>\n      <td>3931.0</td>\n      <td>30.031850</td>\n      <td>0.053887</td>\n      <td>Grocery</td>\n    </tr>\n    <tr>\n      <th>2</th>\n      <td>Costco</td>\n      <td>90048</td>\n      <td>495.0</td>\n      <td>187.795620</td>\n      <td>0.066810</td>\n      <td>Warehouse Club</td>\n    </tr>\n    <tr>\n      <th>3</th>\n      <td>Home Depot</td>\n      <td>83976</td>\n      <td>1965.0</td>\n      <td>42.735878</td>\n      <td>0.000000</td>\n      <td>Home Improvement</td>\n    </tr>\n    <tr>\n      <th>4</th>\n      <td>Walgreen Boots</td>\n      <td>78924</td>\n      <td>8002.0</td>\n      <td>9.810927</td>\n      <td>-0.010511</td>\n      <td>Drug Stores</td>\n    </tr>\n    <tr>\n      <th>5</th>\n      <td>CVS incl. Target</td>\n      <td>77792</td>\n      <td>9813.0</td>\n      <td>8.825959</td>\n      <td>0.255662</td>\n      <td>Drug Stores</td>\n    </tr>\n    <tr>\n      <th>6</th>\n      <td>Amazon</td>\n      <td>71687</td>\n      <td>NaN</td>\n      <td>NaN</td>\n      <td>NaN</td>\n      <td>Electronic/Mail Order</td>\n    </tr>\n    <tr>\n      <th>7</th>\n      <td>Target</td>\n      <td>71208</td>\n      <td>1772.0</td>\n      <td>39.982033</td>\n      <td>-0.010056</td>\n      <td>Supercenters</td>\n    </tr>\n    <tr>\n      <th>8</th>\n      <td>Lowe's</td>\n      <td>60311</td>\n      <td>1828.0</td>\n      <td>33.311792</td>\n      <td>0.019520</td>\n      <td>Home Improvement</td>\n    </tr>\n    <tr>\n      <th>9</th>\n      <td>Albertsons</td>\n      <td>56829</td>\n      <td>2326.0</td>\n      <td>23.877731</td>\n      <td>-0.044371</td>\n      <td>Grocery</td>\n    </tr>\n    <tr>\n      <th>10</th>\n      <td>Sam's Club</td>\n      <td>56828</td>\n      <td>655.0</td>\n      <td>87.293395</td>\n      <td>0.012365</td>\n      <td>Warehouse Clubs</td>\n    </tr>\n    <tr>\n      <th>11</th>\n      <td>Apple incl. Online</td>\n      <td>37664</td>\n      <td>NaN</td>\n      <td>NaN</td>\n      <td>NaN</td>\n      <td>NaN</td>\n    </tr>\n    <tr>\n      <th>12</th>\n      <td>Best Buy</td>\n      <td>34980</td>\n      <td>1389.0</td>\n      <td>24.685956</td>\n      <td>-0.038754</td>\n      <td>Electronics</td>\n    </tr>\n    <tr>\n      <th>13</th>\n      <td>Publix</td>\n      <td>34408</td>\n      <td>1351.0</td>\n      <td>25.997733</td>\n      <td>0.042438</td>\n      <td>Grocery</td>\n    </tr>\n    <tr>\n      <th>14</th>\n      <td>Rite Aid</td>\n      <td>27486</td>\n      <td>4553.0</td>\n      <td>6.025649</td>\n      <td>-0.003720</td>\n      <td>Drug Stores</td>\n    </tr>\n    <tr>\n      <th>15</th>\n      <td>Ahold</td>\n      <td>26903</td>\n      <td>794.0</td>\n      <td>34.446863</td>\n      <td>0.033854</td>\n      <td>Grocery</td>\n    </tr>\n    <tr>\n      <th>16</th>\n      <td>Macy's</td>\n      <td>26028</td>\n      <td>889.0</td>\n      <td>30.442105</td>\n      <td>0.082826</td>\n      <td>Department Stores</td>\n    </tr>\n    <tr>\n      <th>17</th>\n      <td>TJX</td>\n      <td>25012</td>\n      <td>2770.0</td>\n      <td>9.369545</td>\n      <td>0.078241</td>\n      <td>Apparel</td>\n    </tr>\n    <tr>\n      <th>18</th>\n      <td>Aldi</td>\n      <td>24402</td>\n      <td>2021.0</td>\n      <td>12.715998</td>\n      <td>0.112273</td>\n      <td>Grocery</td>\n    </tr>\n    <tr>\n      <th>19</th>\n      <td>Dollar General</td>\n      <td>22234</td>\n      <td>13350.0</td>\n      <td>1.768885</td>\n      <td>0.132412</td>\n      <td>Dollar Stores</td>\n    </tr>\n    <tr>\n      <th>20</th>\n      <td>Dollar Tree</td>\n      <td>21464</td>\n      <td>14250.0</td>\n      <td>1.563919</td>\n      <td>0.079627</td>\n      <td>Dollar Stores</td>\n    </tr>\n    <tr>\n      <th>21</th>\n      <td>HEB</td>\n      <td>21384</td>\n      <td>323.0</td>\n      <td>66.825000</td>\n      <td>0.018927</td>\n      <td>Grocery</td>\n    </tr>\n    <tr>\n      <th>22</th>\n      <td>Kohl's</td>\n      <td>19060</td>\n      <td>1169.0</td>\n      <td>16.353496</td>\n      <td>0.006024</td>\n      <td>Department Stores</td>\n    </tr>\n    <tr>\n      <th>23</th>\n      <td>Delhaize</td>\n      <td>18201</td>\n      <td>1280.0</td>\n      <td>13.783415</td>\n      <td>-0.059515</td>\n      <td>Grocery</td>\n    </tr>\n    <tr>\n      <th>24</th>\n      <td>Meijer</td>\n      <td>16592</td>\n      <td>231.0</td>\n      <td>74.738739</td>\n      <td>0.084507</td>\n      <td>Supercenters</td>\n    </tr>\n  </tbody>\n</table>\n</div>"
     },
     "metadata": {}
    }
   ],
   "execution_count": null
  },
  {
   "cell_type": "code",
   "metadata": {
    "cell_id": "77ba7d8d-3400-4c62-9cd3-462cc2b8aeee",
    "tags": [],
    "deepnote_cell_height": 708.25,
    "deepnote_to_be_reexecuted": false,
    "source_hash": "9f99be2b",
    "execution_start": 1645725258804,
    "execution_millis": 412,
    "deepnote_output_heights": [
     611
    ],
    "deepnote_cell_type": "code"
   },
   "source": "datos_sorted.describe()",
   "outputs": [
    {
     "output_type": "execute_result",
     "execution_count": 4,
     "data": {
      "application/vnd.deepnote.dataframe.v3+json": {
       "column_count": 4,
       "row_count": 8,
       "columns": [
        {
         "name": "Sales",
         "dtype": "float64",
         "stats": {
          "unique_count": 8,
          "nan_count": 0,
          "min": "25.0",
          "max": "658119.0",
          "histogram": [
           {
            "bin_start": 25,
            "bin_end": 65834.4,
            "count": 4
           },
           {
            "bin_start": 65834.4,
            "bin_end": 131643.8,
            "count": 3
           },
           {
            "bin_start": 131643.8,
            "bin_end": 197453.19999999998,
            "count": 0
           },
           {
            "bin_start": 197453.19999999998,
            "bin_end": 263262.6,
            "count": 0
           },
           {
            "bin_start": 263262.6,
            "bin_end": 329072,
            "count": 0
           },
           {
            "bin_start": 329072,
            "bin_end": 394881.39999999997,
            "count": 0
           },
           {
            "bin_start": 394881.39999999997,
            "bin_end": 460690.79999999993,
            "count": 0
           },
           {
            "bin_start": 460690.79999999993,
            "bin_end": 526500.2,
            "count": 0
           },
           {
            "bin_start": 526500.2,
            "bin_end": 592309.6,
            "count": 0
           },
           {
            "bin_start": 592309.6,
            "bin_end": 658119,
            "count": 1
           }
          ]
         }
        },
        {
         "name": "Stores",
         "dtype": "float64",
         "stats": {
          "unique_count": 8,
          "nan_count": 0,
          "min": "23.0",
          "max": "14250.0",
          "histogram": [
           {
            "bin_start": 23,
            "bin_end": 1445.7,
            "count": 3
           },
           {
            "bin_start": 1445.7,
            "bin_end": 2868.4,
            "count": 1
           },
           {
            "bin_start": 2868.4,
            "bin_end": 4291.1,
            "count": 3
           },
           {
            "bin_start": 4291.1,
            "bin_end": 5713.8,
            "count": 0
           },
           {
            "bin_start": 5713.8,
            "bin_end": 7136.5,
            "count": 0
           },
           {
            "bin_start": 7136.5,
            "bin_end": 8559.2,
            "count": 0
           },
           {
            "bin_start": 8559.2,
            "bin_end": 9981.9,
            "count": 0
           },
           {
            "bin_start": 9981.9,
            "bin_end": 11404.6,
            "count": 0
           },
           {
            "bin_start": 11404.6,
            "bin_end": 12827.300000000001,
            "count": 0
           },
           {
            "bin_start": 12827.300000000001,
            "bin_end": 14250,
            "count": 1
           }
          ]
         }
        },
        {
         "name": "Sales/Avg. Store",
         "dtype": "float64",
         "stats": {
          "unique_count": 8,
          "nan_count": 0,
          "min": "1.56391854",
          "max": "187.7956204",
          "histogram": [
           {
            "bin_start": 1.56391854,
            "bin_end": 20.187088726,
            "count": 2
           },
           {
            "bin_start": 20.187088726,
            "bin_end": 38.810258912,
            "count": 3
           },
           {
            "bin_start": 38.810258912,
            "bin_end": 57.433429098000005,
            "count": 2
           },
           {
            "bin_start": 57.433429098000005,
            "bin_end": 76.056599284,
            "count": 0
           },
           {
            "bin_start": 76.056599284,
            "bin_end": 94.67976947,
            "count": 0
           },
           {
            "bin_start": 94.67976947,
            "bin_end": 113.302939656,
            "count": 0
           },
           {
            "bin_start": 113.302939656,
            "bin_end": 131.926109842,
            "count": 0
           },
           {
            "bin_start": 131.926109842,
            "bin_end": 150.549280028,
            "count": 0
           },
           {
            "bin_start": 150.549280028,
            "bin_end": 169.172450214,
            "count": 0
           },
           {
            "bin_start": 169.172450214,
            "bin_end": 187.7956204,
            "count": 1
           }
          ]
         }
        },
        {
         "name": "Store Count Growth",
         "dtype": "float64",
         "stats": {
          "unique_count": 8,
          "nan_count": 0,
          "min": "-0.05951506245",
          "max": "23.0",
          "histogram": [
           {
            "bin_start": -0.05951506245,
            "bin_end": 2.246436443795,
            "count": 7
           },
           {
            "bin_start": 2.246436443795,
            "bin_end": 4.55238795004,
            "count": 0
           },
           {
            "bin_start": 4.55238795004,
            "bin_end": 6.858339456285,
            "count": 0
           },
           {
            "bin_start": 6.858339456285,
            "bin_end": 9.16429096253,
            "count": 0
           },
           {
            "bin_start": 9.16429096253,
            "bin_end": 11.470242468775,
            "count": 0
           },
           {
            "bin_start": 11.470242468775,
            "bin_end": 13.77619397502,
            "count": 0
           },
           {
            "bin_start": 13.77619397502,
            "bin_end": 16.082145481264998,
            "count": 0
           },
           {
            "bin_start": 16.082145481264998,
            "bin_end": 18.38809698751,
            "count": 0
           },
           {
            "bin_start": 18.38809698751,
            "bin_end": 20.694048493755,
            "count": 0
           },
           {
            "bin_start": 20.694048493755,
            "bin_end": 23,
            "count": 1
           }
          ]
         }
        },
        {
         "name": "_deepnote_index_column",
         "dtype": "object"
        }
       ],
       "rows": [
        {
         "Sales": 25,
         "Stores": 23,
         "Sales/Avg. Store": 23,
         "Store Count Growth": 23,
         "_deepnote_index_column": "count"
        },
        {
         "Sales": 71063.08,
         "Stores": 3466.5652173913045,
         "Sales/Avg. Store": 36.87096578552174,
         "Store Count Growth": 0.04023000882013044,
         "_deepnote_index_column": "mean"
        },
        {
         "Sales": 125405.72764395573,
         "Stores": 4038.708713821636,
         "Sales/Avg. Store": 40.62527709398271,
         "Store Count Growth": 0.06855210542240484,
         "_deepnote_index_column": "std"
        },
        {
         "Sales": 16592,
         "Stores": 231,
         "Sales/Avg. Store": 1.56391854,
         "Store Count Growth": -0.05951506245,
         "_deepnote_index_column": "min"
        },
        {
         "Sales": 24402,
         "Stores": 1029,
         "Sales/Avg. Store": 11.263462319999999,
         "Store Count Growth": -0.0018599562365,
         "_deepnote_index_column": "25%"
        },
        {
         "Sales": 34980,
         "Stores": 1828,
         "Sales/Avg. Store": 25.99773328,
         "Store Count Growth": 0.01952035694,
         "_deepnote_index_column": "50%"
        },
        {
         "Sales": 71687,
         "Stores": 4242,
         "Sales/Avg. Store": 41.358955215,
         "Store Count Growth": 0.07893390251,
         "_deepnote_index_column": "75%"
        },
        {
         "Sales": 658119,
         "Stores": 14250,
         "Sales/Avg. Store": 187.7956204,
         "Store Count Growth": 0.2556621881,
         "_deepnote_index_column": "max"
        }
       ]
      },
      "text/plain": "               Sales        Stores  Sales/Avg. Store  Store Count Growth\ncount      25.000000     23.000000         23.000000           23.000000\nmean    71063.080000   3466.565217         36.870966            0.040230\nstd    125405.727644   4038.708714         40.625277            0.068552\nmin     16592.000000    231.000000          1.563919           -0.059515\n25%     24402.000000   1029.000000         11.263462           -0.001860\n50%     34980.000000   1828.000000         25.997733            0.019520\n75%     71687.000000   4242.000000         41.358955            0.078934\nmax    658119.000000  14250.000000        187.795620            0.255662",
      "text/html": "<div>\n<style scoped>\n    .dataframe tbody tr th:only-of-type {\n        vertical-align: middle;\n    }\n\n    .dataframe tbody tr th {\n        vertical-align: top;\n    }\n\n    .dataframe thead th {\n        text-align: right;\n    }\n</style>\n<table border=\"1\" class=\"dataframe\">\n  <thead>\n    <tr style=\"text-align: right;\">\n      <th></th>\n      <th>Sales</th>\n      <th>Stores</th>\n      <th>Sales/Avg. Store</th>\n      <th>Store Count Growth</th>\n    </tr>\n  </thead>\n  <tbody>\n    <tr>\n      <th>count</th>\n      <td>25.000000</td>\n      <td>23.000000</td>\n      <td>23.000000</td>\n      <td>23.000000</td>\n    </tr>\n    <tr>\n      <th>mean</th>\n      <td>71063.080000</td>\n      <td>3466.565217</td>\n      <td>36.870966</td>\n      <td>0.040230</td>\n    </tr>\n    <tr>\n      <th>std</th>\n      <td>125405.727644</td>\n      <td>4038.708714</td>\n      <td>40.625277</td>\n      <td>0.068552</td>\n    </tr>\n    <tr>\n      <th>min</th>\n      <td>16592.000000</td>\n      <td>231.000000</td>\n      <td>1.563919</td>\n      <td>-0.059515</td>\n    </tr>\n    <tr>\n      <th>25%</th>\n      <td>24402.000000</td>\n      <td>1029.000000</td>\n      <td>11.263462</td>\n      <td>-0.001860</td>\n    </tr>\n    <tr>\n      <th>50%</th>\n      <td>34980.000000</td>\n      <td>1828.000000</td>\n      <td>25.997733</td>\n      <td>0.019520</td>\n    </tr>\n    <tr>\n      <th>75%</th>\n      <td>71687.000000</td>\n      <td>4242.000000</td>\n      <td>41.358955</td>\n      <td>0.078934</td>\n    </tr>\n    <tr>\n      <th>max</th>\n      <td>658119.000000</td>\n      <td>14250.000000</td>\n      <td>187.795620</td>\n      <td>0.255662</td>\n    </tr>\n  </tbody>\n</table>\n</div>"
     },
     "metadata": {}
    }
   ],
   "execution_count": null
  },
  {
   "cell_type": "code",
   "metadata": {
    "cell_id": "d220fa8b-95fa-46d1-90da-88b222aef4f9",
    "tags": [],
    "deepnote_to_be_reexecuted": false,
    "source_hash": "77472393",
    "execution_start": 1645725258890,
    "execution_millis": 331,
    "deepnote_cell_height": 592.25,
    "deepnote_output_heights": [
     348.984375
    ],
    "deepnote_cell_type": "code"
   },
   "source": "x = datos_sorted['Company'][0:5] #Aplicamos slicing como en una lista de Python.\ny = datos_sorted['Sales'][0:5]\n\nplt.bar(x, y, color= \"orange\")\nplt.title('Top 5 retailers')\nplt.xlabel('Company')\nplt.ylabel('Sales')\nplt.xticks(rotation='vertical') \nplt.show()",
   "outputs": [
    {
     "data": {
      "text/plain": "<Figure size 432x288 with 1 Axes>",
      "image/png": "[encoded data removed]"
     },
     "metadata": {
      "needs_background": "light",
      "image/png": {
       "width": 407,
       "height": 347
      }
     },
     "output_type": "display_data"
    }
   ],
   "execution_count": null
  },
  {
   "cell_type": "code",
   "metadata": {
    "cell_id": "98f25d37-2a0b-4410-8fa9-f6fc278b83b6",
    "tags": [],
    "deepnote_cell_height": 118.4375,
    "deepnote_to_be_reexecuted": false,
    "source_hash": "97a27251",
    "execution_start": 1645725259154,
    "execution_millis": 68,
    "deepnote_output_heights": [
     21.171875
    ],
    "deepnote_cell_type": "code"
   },
   "source": "datos.shape",
   "outputs": [
    {
     "output_type": "execute_result",
     "execution_count": 6,
     "data": {
      "text/plain": "(25, 6)"
     },
     "metadata": {}
    }
   ],
   "execution_count": null
  },
  {
   "cell_type": "code",
   "metadata": {
    "cell_id": "32d55114-64c4-4144-94fe-09f997d2fafa",
    "tags": [],
    "deepnote_cell_height": 634.6875,
    "deepnote_to_be_reexecuted": false,
    "source_hash": "be48eb13",
    "execution_start": 1645725259155,
    "execution_millis": 69,
    "deepnote_cell_type": "code"
   },
   "source": "#DataFrame sin WallMart US\ndatos2 = pd.DataFrame(datos_sorted)\ndatos2\ndatos2 = datos [1:26]\ndatos2",
   "outputs": [
    {
     "output_type": "execute_result",
     "execution_count": 7,
     "data": {
      "application/vnd.deepnote.dataframe.v3+json": {
       "column_count": 6,
       "row_count": 24,
       "columns": [
        {
         "name": "Company",
         "dtype": "object",
         "stats": {
          "unique_count": 24,
          "nan_count": 0,
          "categories": [
           {
            "name": "Kroger",
            "count": 1
           },
           {
            "name": "Costco",
            "count": 1
           },
           {
            "name": "22 others",
            "count": 22
           }
          ]
         }
        },
        {
         "name": "Sales",
         "dtype": "int64",
         "stats": {
          "unique_count": 24,
          "nan_count": 0,
          "min": "16592",
          "max": "115037",
          "histogram": [
           {
            "bin_start": 16592,
            "bin_end": 26436.5,
            "count": 9
           },
           {
            "bin_start": 26436.5,
            "bin_end": 36281,
            "count": 4
           },
           {
            "bin_start": 36281,
            "bin_end": 46125.5,
            "count": 1
           },
           {
            "bin_start": 46125.5,
            "bin_end": 55970,
            "count": 0
           },
           {
            "bin_start": 55970,
            "bin_end": 65814.5,
            "count": 3
           },
           {
            "bin_start": 65814.5,
            "bin_end": 75659,
            "count": 2
           },
           {
            "bin_start": 75659,
            "bin_end": 85503.5,
            "count": 3
           },
           {
            "bin_start": 85503.5,
            "bin_end": 95348,
            "count": 1
           },
           {
            "bin_start": 95348,
            "bin_end": 105192.5,
            "count": 0
           },
           {
            "bin_start": 105192.5,
            "bin_end": 115037,
            "count": 1
           }
          ]
         }
        },
        {
         "name": "Stores",
         "dtype": "float64",
         "stats": {
          "unique_count": 22,
          "nan_count": 2,
          "min": "231.0",
          "max": "14250.0",
          "histogram": [
           {
            "bin_start": 231,
            "bin_end": 1632.9,
            "count": 10
           },
           {
            "bin_start": 1632.9,
            "bin_end": 3034.8,
            "count": 6
           },
           {
            "bin_start": 3034.8,
            "bin_end": 4436.700000000001,
            "count": 1
           },
           {
            "bin_start": 4436.700000000001,
            "bin_end": 5838.6,
            "count": 1
           },
           {
            "bin_start": 5838.6,
            "bin_end": 7240.5,
            "count": 0
           },
           {
            "bin_start": 7240.5,
            "bin_end": 8642.400000000001,
            "count": 1
           },
           {
            "bin_start": 8642.400000000001,
            "bin_end": 10044.300000000001,
            "count": 1
           },
           {
            "bin_start": 10044.300000000001,
            "bin_end": 11446.2,
            "count": 0
           },
           {
            "bin_start": 11446.2,
            "bin_end": 12848.1,
            "count": 0
           },
           {
            "bin_start": 12848.1,
            "bin_end": 14250,
            "count": 2
           }
          ]
         }
        },
        {
         "name": "Sales/Avg. Store",
         "dtype": "float64",
         "stats": {
          "unique_count": 22,
          "nan_count": 2,
          "min": "1.56391854",
          "max": "187.7956204",
          "histogram": [
           {
            "bin_start": 1.56391854,
            "bin_end": 20.187088726,
            "count": 9
           },
           {
            "bin_start": 20.187088726,
            "bin_end": 38.810258912,
            "count": 7
           },
           {
            "bin_start": 38.810258912,
            "bin_end": 57.433429098000005,
            "count": 2
           },
           {
            "bin_start": 57.433429098000005,
            "bin_end": 76.056599284,
            "count": 2
           },
           {
            "bin_start": 76.056599284,
            "bin_end": 94.67976947,
            "count": 1
           },
           {
            "bin_start": 94.67976947,
            "bin_end": 113.302939656,
            "count": 0
           },
           {
            "bin_start": 113.302939656,
            "bin_end": 131.926109842,
            "count": 0
           },
           {
            "bin_start": 131.926109842,
            "bin_end": 150.549280028,
            "count": 0
           },
           {
            "bin_start": 150.549280028,
            "bin_end": 169.172450214,
            "count": 0
           },
           {
            "bin_start": 169.172450214,
            "bin_end": 187.7956204,
            "count": 1
           }
          ]
         }
        },
        {
         "name": "Store Count Growth",
         "dtype": "float64",
         "stats": {
          "unique_count": 22,
          "nan_count": 2,
          "min": "-0.05951506245",
          "max": "0.2556621881",
          "histogram": [
           {
            "bin_start": -0.05951506245,
            "bin_end": -0.027997337395000002,
            "count": 3
           },
           {
            "bin_start": -0.027997337395000002,
            "bin_end": 0.003520387659999999,
            "count": 4
           },
           {
            "bin_start": 0.003520387659999999,
            "bin_end": 0.035038112715,
            "count": 5
           },
           {
            "bin_start": 0.035038112715,
            "bin_end": 0.06655583777,
            "count": 2
           },
           {
            "bin_start": 0.06655583777,
            "bin_end": 0.098073562825,
            "count": 5
           },
           {
            "bin_start": 0.098073562825,
            "bin_end": 0.12959128788000002,
            "count": 1
           },
           {
            "bin_start": 0.12959128788000002,
            "bin_end": 0.16110901293500002,
            "count": 1
           },
           {
            "bin_start": 0.16110901293500002,
            "bin_end": 0.19262673799000002,
            "count": 0
           },
           {
            "bin_start": 0.19262673799000002,
            "bin_end": 0.22414446304500002,
            "count": 0
           },
           {
            "bin_start": 0.22414446304500002,
            "bin_end": 0.2556621881,
            "count": 1
           }
          ]
         }
        },
        {
         "name": "Category",
         "dtype": "object",
         "stats": {
          "unique_count": 11,
          "nan_count": 1,
          "categories": [
           {
            "name": "Grocery",
            "count": 7
           },
           {
            "name": "10 others",
            "count": 16
           },
           {
            "name": "Missing",
            "count": 1
           }
          ]
         }
        },
        {
         "name": "_deepnote_index_column",
         "dtype": "int64"
        }
       ],
       "rows": [
        {
         "Company": "Kroger",
         "Sales": 115037,
         "Stores": 3931,
         "Sales/Avg. Store": 30.03184963,
         "Store Count Growth": 0.05388739946,
         "Category": "Grocery",
         "_deepnote_index_column": 1
        },
        {
         "Company": "Costco",
         "Sales": 90048,
         "Stores": 495,
         "Sales/Avg. Store": 187.7956204,
         "Store Count Growth": 0.06681034483,
         "Category": "Warehouse Club",
         "_deepnote_index_column": 2
        },
        {
         "Company": "Home Depot",
         "Sales": 83976,
         "Stores": 1965,
         "Sales/Avg. Store": 42.73587786,
         "Store Count Growth": 0,
         "Category": "Home Improvement",
         "_deepnote_index_column": 3
        },
        {
         "Company": "Walgreen Boots",
         "Sales": 78924,
         "Stores": 8002,
         "Sales/Avg. Store": 9.81092672,
         "Store Count Growth": -0.01051069618,
         "Category": "Drug Stores",
         "_deepnote_index_column": 4
        },
        {
         "Company": "CVS incl. Target",
         "Sales": 77792,
         "Stores": 9813,
         "Sales/Avg. Store": 8.825958702,
         "Store Count Growth": 0.2556621881,
         "Category": "Drug Stores",
         "_deepnote_index_column": 5
        },
        {
         "Company": "Amazon",
         "Sales": 71687,
         "Stores": "nan",
         "Sales/Avg. Store": "nan",
         "Store Count Growth": "nan",
         "Category": "Electronic/Mail Order",
         "_deepnote_index_column": 6
        },
        {
         "Company": "Target",
         "Sales": 71208,
         "Stores": 1772,
         "Sales/Avg. Store": 39.98203257,
         "Store Count Growth": -0.01005586592,
         "Category": "Supercenters",
         "_deepnote_index_column": 7
        },
        {
         "Company": "Lowe's",
         "Sales": 60311,
         "Stores": 1828,
         "Sales/Avg. Store": 33.31179232,
         "Store Count Growth": 0.01952035694,
         "Category": "Home Improvement",
         "_deepnote_index_column": 8
        },
        {
         "Company": "Albertsons",
         "Sales": 56829,
         "Stores": 2326,
         "Sales/Avg. Store": 23.87773109,
         "Store Count Growth": -0.04437140509,
         "Category": "Grocery",
         "_deepnote_index_column": 9
        },
        {
         "Company": "Sam's Club",
         "Sales": 56828,
         "Stores": 655,
         "Sales/Avg. Store": 87.29339478,
         "Store Count Growth": 0.01236476043,
         "Category": "Warehouse Clubs",
         "_deepnote_index_column": 10
        }
       ]
      },
      "text/plain": "               Company   Sales   Stores  Sales/Avg. Store  Store Count Growth  \\\n1               Kroger  115037   3931.0         30.031850            0.053887   \n2               Costco   90048    495.0        187.795620            0.066810   \n3           Home Depot   83976   1965.0         42.735878            0.000000   \n4       Walgreen Boots   78924   8002.0          9.810927           -0.010511   \n5     CVS incl. Target   77792   9813.0          8.825959            0.255662   \n6               Amazon   71687      NaN               NaN                 NaN   \n7               Target   71208   1772.0         39.982033           -0.010056   \n8               Lowe's   60311   1828.0         33.311792            0.019520   \n9           Albertsons   56829   2326.0         23.877731           -0.044371   \n10          Sam's Club   56828    655.0         87.293395            0.012365   \n11  Apple incl. Online   37664      NaN               NaN                 NaN   \n12            Best Buy   34980   1389.0         24.685956           -0.038754   \n13              Publix   34408   1351.0         25.997733            0.042438   \n14            Rite Aid   27486   4553.0          6.025649           -0.003720   \n15               Ahold   26903    794.0         34.446863            0.033854   \n16              Macy's   26028    889.0         30.442105            0.082826   \n17                 TJX   25012   2770.0          9.369545            0.078241   \n18                Aldi   24402   2021.0         12.715998            0.112273   \n19      Dollar General   22234  13350.0          1.768885            0.132412   \n20         Dollar Tree   21464  14250.0          1.563919            0.079627   \n21                 HEB   21384    323.0         66.825000            0.018927   \n22              Kohl's   19060   1169.0         16.353496            0.006024   \n23            Delhaize   18201   1280.0         13.783415           -0.059515   \n24              Meijer   16592    231.0         74.738739            0.084507   \n\n                 Category  \n1                 Grocery  \n2          Warehouse Club  \n3        Home Improvement  \n4             Drug Stores  \n5             Drug Stores  \n6   Electronic/Mail Order  \n7            Supercenters  \n8        Home Improvement  \n9                 Grocery  \n10        Warehouse Clubs  \n11                    NaN  \n12            Electronics  \n13                Grocery  \n14            Drug Stores  \n15                Grocery  \n16      Department Stores  \n17                Apparel  \n18                Grocery  \n19          Dollar Stores  \n20          Dollar Stores  \n21                Grocery  \n22      Department Stores  \n23                Grocery  \n24           Supercenters  ",
      "text/html": "<div>\n<style scoped>\n    .dataframe tbody tr th:only-of-type {\n        vertical-align: middle;\n    }\n\n    .dataframe tbody tr th {\n        vertical-align: top;\n    }\n\n    .dataframe thead th {\n        text-align: right;\n    }\n</style>\n<table border=\"1\" class=\"dataframe\">\n  <thead>\n    <tr style=\"text-align: right;\">\n      <th></th>\n      <th>Company</th>\n      <th>Sales</th>\n      <th>Stores</th>\n      <th>Sales/Avg. Store</th>\n      <th>Store Count Growth</th>\n      <th>Category</th>\n    </tr>\n  </thead>\n  <tbody>\n    <tr>\n      <th>1</th>\n      <td>Kroger</td>\n      <td>115037</td>\n      <td>3931.0</td>\n      <td>30.031850</td>\n      <td>0.053887</td>\n      <td>Grocery</td>\n    </tr>\n    <tr>\n      <th>2</th>\n      <td>Costco</td>\n      <td>90048</td>\n      <td>495.0</td>\n      <td>187.795620</td>\n      <td>0.066810</td>\n      <td>Warehouse Club</td>\n    </tr>\n    <tr>\n      <th>3</th>\n      <td>Home Depot</td>\n      <td>83976</td>\n      <td>1965.0</td>\n      <td>42.735878</td>\n      <td>0.000000</td>\n      <td>Home Improvement</td>\n    </tr>\n    <tr>\n      <th>4</th>\n      <td>Walgreen Boots</td>\n      <td>78924</td>\n      <td>8002.0</td>\n      <td>9.810927</td>\n      <td>-0.010511</td>\n      <td>Drug Stores</td>\n    </tr>\n    <tr>\n      <th>5</th>\n      <td>CVS incl. Target</td>\n      <td>77792</td>\n      <td>9813.0</td>\n      <td>8.825959</td>\n      <td>0.255662</td>\n      <td>Drug Stores</td>\n    </tr>\n    <tr>\n      <th>6</th>\n      <td>Amazon</td>\n      <td>71687</td>\n      <td>NaN</td>\n      <td>NaN</td>\n      <td>NaN</td>\n      <td>Electronic/Mail Order</td>\n    </tr>\n    <tr>\n      <th>7</th>\n      <td>Target</td>\n      <td>71208</td>\n      <td>1772.0</td>\n      <td>39.982033</td>\n      <td>-0.010056</td>\n      <td>Supercenters</td>\n    </tr>\n    <tr>\n      <th>8</th>\n      <td>Lowe's</td>\n      <td>60311</td>\n      <td>1828.0</td>\n      <td>33.311792</td>\n      <td>0.019520</td>\n      <td>Home Improvement</td>\n    </tr>\n    <tr>\n      <th>9</th>\n      <td>Albertsons</td>\n      <td>56829</td>\n      <td>2326.0</td>\n      <td>23.877731</td>\n      <td>-0.044371</td>\n      <td>Grocery</td>\n    </tr>\n    <tr>\n      <th>10</th>\n      <td>Sam's Club</td>\n      <td>56828</td>\n      <td>655.0</td>\n      <td>87.293395</td>\n      <td>0.012365</td>\n      <td>Warehouse Clubs</td>\n    </tr>\n    <tr>\n      <th>11</th>\n      <td>Apple incl. Online</td>\n      <td>37664</td>\n      <td>NaN</td>\n      <td>NaN</td>\n      <td>NaN</td>\n      <td>NaN</td>\n    </tr>\n    <tr>\n      <th>12</th>\n      <td>Best Buy</td>\n      <td>34980</td>\n      <td>1389.0</td>\n      <td>24.685956</td>\n      <td>-0.038754</td>\n      <td>Electronics</td>\n    </tr>\n    <tr>\n      <th>13</th>\n      <td>Publix</td>\n      <td>34408</td>\n      <td>1351.0</td>\n      <td>25.997733</td>\n      <td>0.042438</td>\n      <td>Grocery</td>\n    </tr>\n    <tr>\n      <th>14</th>\n      <td>Rite Aid</td>\n      <td>27486</td>\n      <td>4553.0</td>\n      <td>6.025649</td>\n      <td>-0.003720</td>\n      <td>Drug Stores</td>\n    </tr>\n    <tr>\n      <th>15</th>\n      <td>Ahold</td>\n      <td>26903</td>\n      <td>794.0</td>\n      <td>34.446863</td>\n      <td>0.033854</td>\n      <td>Grocery</td>\n    </tr>\n    <tr>\n      <th>16</th>\n      <td>Macy's</td>\n      <td>26028</td>\n      <td>889.0</td>\n      <td>30.442105</td>\n      <td>0.082826</td>\n      <td>Department Stores</td>\n    </tr>\n    <tr>\n      <th>17</th>\n      <td>TJX</td>\n      <td>25012</td>\n      <td>2770.0</td>\n      <td>9.369545</td>\n      <td>0.078241</td>\n      <td>Apparel</td>\n    </tr>\n    <tr>\n      <th>18</th>\n      <td>Aldi</td>\n      <td>24402</td>\n      <td>2021.0</td>\n      <td>12.715998</td>\n      <td>0.112273</td>\n      <td>Grocery</td>\n    </tr>\n    <tr>\n      <th>19</th>\n      <td>Dollar General</td>\n      <td>22234</td>\n      <td>13350.0</td>\n      <td>1.768885</td>\n      <td>0.132412</td>\n      <td>Dollar Stores</td>\n    </tr>\n    <tr>\n      <th>20</th>\n      <td>Dollar Tree</td>\n      <td>21464</td>\n      <td>14250.0</td>\n      <td>1.563919</td>\n      <td>0.079627</td>\n      <td>Dollar Stores</td>\n    </tr>\n    <tr>\n      <th>21</th>\n      <td>HEB</td>\n      <td>21384</td>\n      <td>323.0</td>\n      <td>66.825000</td>\n      <td>0.018927</td>\n      <td>Grocery</td>\n    </tr>\n    <tr>\n      <th>22</th>\n      <td>Kohl's</td>\n      <td>19060</td>\n      <td>1169.0</td>\n      <td>16.353496</td>\n      <td>0.006024</td>\n      <td>Department Stores</td>\n    </tr>\n    <tr>\n      <th>23</th>\n      <td>Delhaize</td>\n      <td>18201</td>\n      <td>1280.0</td>\n      <td>13.783415</td>\n      <td>-0.059515</td>\n      <td>Grocery</td>\n    </tr>\n    <tr>\n      <th>24</th>\n      <td>Meijer</td>\n      <td>16592</td>\n      <td>231.0</td>\n      <td>74.738739</td>\n      <td>0.084507</td>\n      <td>Supercenters</td>\n    </tr>\n  </tbody>\n</table>\n</div>"
     },
     "metadata": {}
    }
   ],
   "execution_count": null
  },
  {
   "cell_type": "markdown",
   "source": "## I. Preguntas del negocio",
   "metadata": {
    "cell_id": "cc141631-e246-41c7-a56b-ad74255d674f",
    "tags": [],
    "is_collapsed": false,
    "deepnote_cell_height": 70.171875,
    "deepnote_cell_type": "text-cell-h2"
   }
  },
  {
   "cell_type": "markdown",
   "source": "### 1. ¿Cuál es el promedio de ventas sin contar a la compañía dominante?",
   "metadata": {
    "cell_id": "b919b92e-0df3-4f54-b093-c1db040bc4aa",
    "tags": [],
    "deepnote_cell_height": 62.15625,
    "deepnote_cell_type": "markdown"
   }
  },
  {
   "cell_type": "markdown",
   "source": "####  Sin contar la compañia dominante (que en este caso sería WallMart US ), El promedio de total de ventas es de USD 46602.0 teniendo en cuenta las demas compañias. A continación se puede apreciar mucho mejor desde las gráficas:",
   "metadata": {
    "cell_id": "211dfc6d-92a1-4b61-a6ab-56e78865e33f",
    "tags": [],
    "deepnote_cell_height": 78.15625,
    "deepnote_cell_type": "markdown"
   }
  },
  {
   "cell_type": "code",
   "metadata": {
    "cell_id": "b4fb94fd-4010-4ac6-ac8c-e6842d1d0a39",
    "tags": [],
    "deepnote_cell_height": 483.53125,
    "deepnote_to_be_reexecuted": false,
    "source_hash": "22f84703",
    "execution_start": 1645725259177,
    "execution_millis": 48,
    "deepnote_output_heights": [
     481.578125
    ],
    "deepnote_cell_type": "code"
   },
   "source": "ventas_mayoria = datos2[['Company','Sales']]\nventas_mayoria.describe()",
   "outputs": [
    {
     "output_type": "execute_result",
     "execution_count": 8,
     "data": {
      "application/vnd.deepnote.dataframe.v3+json": {
       "column_count": 1,
       "row_count": 8,
       "columns": [
        {
         "name": "Sales",
         "dtype": "float64",
         "stats": {
          "unique_count": 8,
          "nan_count": 0,
          "min": "24.0",
          "max": "115037.0",
          "histogram": [
           {
            "bin_start": 24,
            "bin_end": 11525.3,
            "count": 1
           },
           {
            "bin_start": 11525.3,
            "bin_end": 23026.6,
            "count": 1
           },
           {
            "bin_start": 23026.6,
            "bin_end": 34527.899999999994,
            "count": 2
           },
           {
            "bin_start": 34527.899999999994,
            "bin_end": 46029.2,
            "count": 1
           },
           {
            "bin_start": 46029.2,
            "bin_end": 57530.5,
            "count": 1
           },
           {
            "bin_start": 57530.5,
            "bin_end": 69031.79999999999,
            "count": 0
           },
           {
            "bin_start": 69031.79999999999,
            "bin_end": 80533.09999999999,
            "count": 1
           },
           {
            "bin_start": 80533.09999999999,
            "bin_end": 92034.4,
            "count": 0
           },
           {
            "bin_start": 92034.4,
            "bin_end": 103535.7,
            "count": 0
           },
           {
            "bin_start": 103535.7,
            "bin_end": 115037,
            "count": 1
           }
          ]
         }
        },
        {
         "name": "_deepnote_index_column",
         "dtype": "object"
        }
       ],
       "rows": [
        {
         "Sales": 24,
         "_deepnote_index_column": "count"
        },
        {
         "Sales": 46602.416666666664,
         "_deepnote_index_column": "mean"
        },
        {
         "Sales": 28317.98184119008,
         "_deepnote_index_column": "std"
        },
        {
         "Sales": 16592,
         "_deepnote_index_column": "min"
        },
        {
         "Sales": 23860,
         "_deepnote_index_column": "25%"
        },
        {
         "Sales": 34694,
         "_deepnote_index_column": "50%"
        },
        {
         "Sales": 71327.75,
         "_deepnote_index_column": "75%"
        },
        {
         "Sales": 115037,
         "_deepnote_index_column": "max"
        }
       ]
      },
      "text/plain": "               Sales\ncount      24.000000\nmean    46602.416667\nstd     28317.981841\nmin     16592.000000\n25%     23860.000000\n50%     34694.000000\n75%     71327.750000\nmax    115037.000000",
      "text/html": "<div>\n<style scoped>\n    .dataframe tbody tr th:only-of-type {\n        vertical-align: middle;\n    }\n\n    .dataframe tbody tr th {\n        vertical-align: top;\n    }\n\n    .dataframe thead th {\n        text-align: right;\n    }\n</style>\n<table border=\"1\" class=\"dataframe\">\n  <thead>\n    <tr style=\"text-align: right;\">\n      <th></th>\n      <th>Sales</th>\n    </tr>\n  </thead>\n  <tbody>\n    <tr>\n      <th>count</th>\n      <td>24.000000</td>\n    </tr>\n    <tr>\n      <th>mean</th>\n      <td>46602.416667</td>\n    </tr>\n    <tr>\n      <th>std</th>\n      <td>28317.981841</td>\n    </tr>\n    <tr>\n      <th>min</th>\n      <td>16592.000000</td>\n    </tr>\n    <tr>\n      <th>25%</th>\n      <td>23860.000000</td>\n    </tr>\n    <tr>\n      <th>50%</th>\n      <td>34694.000000</td>\n    </tr>\n    <tr>\n      <th>75%</th>\n      <td>71327.750000</td>\n    </tr>\n    <tr>\n      <th>max</th>\n      <td>115037.000000</td>\n    </tr>\n  </tbody>\n</table>\n</div>"
     },
     "metadata": {}
    }
   ],
   "execution_count": null
  },
  {
   "cell_type": "code",
   "metadata": {
    "cell_id": "df4cc298-f379-49e4-ac36-8101cc69390d",
    "tags": [],
    "deepnote_cell_height": 137.59375,
    "deepnote_to_be_reexecuted": false,
    "source_hash": "533dbb82",
    "execution_start": 1645725259240,
    "execution_millis": 6,
    "deepnote_output_heights": [
     40.34375
    ],
    "deepnote_cell_type": "code"
   },
   "source": "promedio = ventas_mayoria.mean().round()\npromedio",
   "outputs": [
    {
     "output_type": "execute_result",
     "execution_count": 9,
     "data": {
      "text/plain": "Sales    46602.0\ndtype: float64"
     },
     "metadata": {}
    }
   ],
   "execution_count": null
  },
  {
   "cell_type": "code",
   "metadata": {
    "cell_id": "c964d38f-6bd1-4dbf-8fc2-9136896245c4",
    "tags": [],
    "deepnote_to_be_reexecuted": false,
    "source_hash": "e3a5a3a4",
    "execution_start": 1645725259241,
    "execution_millis": 639,
    "deepnote_cell_type": "code"
   },
   "source": "plt.figure(figsize=(20,9))\nplt.bar(datos2['Company'], height= datos2['Sales'], width = 0.5, color = [\"orange\", \"darkorange\", \"orangered\"],  )\nplt.grid()\nplt.axhline(datos2['Sales'].mean(skipna=True),marker='*', color =\"r\", linestyle = 'dotted', linewidth = 2.5)\nplt.xticks(rotation='vertical')\nplt.title('MAYORIA DE VENTAS', size= 25)\nplt.ylabel('Venta en dolares', size = 25)\nplt.text(x = 'Company', y = datos2['Sales'].mean(), s= 'Promedio ventas', size = 20, ha ='right')\nplt.show()\n",
   "outputs": [
    {
     "data": {
      "text/plain": "<Figure size 1440x648 with 1 Axes>",
      "image/png": "[encoded data removed]"
     },
     "metadata": {
      "needs_background": "light",
      "image/png": {
       "width": 1203,
       "height": 623
      }
     },
     "output_type": "display_data"
    }
   ],
   "execution_count": null
  },
  {
   "cell_type": "markdown",
   "source": "### 2. ¿Cuánto dinero en ventas generó la mayoría de las compañías?",
   "metadata": {
    "cell_id": "1814847a-365e-4bae-9fb9-6bed9b874b37",
    "tags": [],
    "deepnote_cell_height": 62.15625,
    "deepnote_cell_type": "markdown"
   }
  },
  {
   "cell_type": "markdown",
   "source": "#### En este caso utilizaremos la mediana para calcular la cantidad de dinero en ventas que genero la mayoría de las compañias, por lo que nos da un total de USD 34980,0 millones anuales. La justificación por la que utilizo ésta medida, tiene que ver por el contenido de datos sesgados y para que se asemeje más a datos reales.",
   "metadata": {
    "cell_id": "f67592b5-a058-4d3c-8a5c-a3a37b4110b8",
    "tags": [],
    "deepnote_cell_type": "markdown"
   }
  },
  {
   "cell_type": "code",
   "metadata": {
    "cell_id": "7c7057cc-813b-4f93-8826-caed6cc738f9",
    "tags": [],
    "deepnote_to_be_reexecuted": false,
    "source_hash": "dc591168",
    "execution_start": 1645725259876,
    "deepnote_cell_height": 81.15625,
    "execution_millis": 21,
    "deepnote_cell_type": "code"
   },
   "source": "median_ventas = datos['Sales'].median()\nmedian_ventas",
   "outputs": [
    {
     "output_type": "execute_result",
     "execution_count": 11,
     "data": {
      "text/plain": "34980.0"
     },
     "metadata": {}
    }
   ],
   "execution_count": null
  },
  {
   "cell_type": "code",
   "source": "datos2.describe()",
   "metadata": {
    "cell_id": "ddcc4d40-0ccf-49da-86ab-6f66c67527aa",
    "tags": [],
    "deepnote_to_be_reexecuted": false,
    "source_hash": "66e40398",
    "execution_start": 1645725259895,
    "execution_millis": 34,
    "deepnote_cell_type": "code"
   },
   "outputs": [
    {
     "output_type": "execute_result",
     "execution_count": 12,
     "data": {
      "application/vnd.deepnote.dataframe.v3+json": {
       "column_count": 4,
       "row_count": 8,
       "columns": [
        {
         "name": "Sales",
         "dtype": "float64",
         "stats": {
          "unique_count": 8,
          "nan_count": 0,
          "min": "24.0",
          "max": "115037.0",
          "histogram": [
           {
            "bin_start": 24,
            "bin_end": 11525.3,
            "count": 1
           },
           {
            "bin_start": 11525.3,
            "bin_end": 23026.6,
            "count": 1
           },
           {
            "bin_start": 23026.6,
            "bin_end": 34527.899999999994,
            "count": 2
           },
           {
            "bin_start": 34527.899999999994,
            "bin_end": 46029.2,
            "count": 1
           },
           {
            "bin_start": 46029.2,
            "bin_end": 57530.5,
            "count": 1
           },
           {
            "bin_start": 57530.5,
            "bin_end": 69031.79999999999,
            "count": 0
           },
           {
            "bin_start": 69031.79999999999,
            "bin_end": 80533.09999999999,
            "count": 1
           },
           {
            "bin_start": 80533.09999999999,
            "bin_end": 92034.4,
            "count": 0
           },
           {
            "bin_start": 92034.4,
            "bin_end": 103535.7,
            "count": 0
           },
           {
            "bin_start": 103535.7,
            "bin_end": 115037,
            "count": 1
           }
          ]
         }
        },
        {
         "name": "Stores",
         "dtype": "float64",
         "stats": {
          "unique_count": 8,
          "nan_count": 0,
          "min": "22.0",
          "max": "14250.0",
          "histogram": [
           {
            "bin_start": 22,
            "bin_end": 1444.8,
            "count": 3
           },
           {
            "bin_start": 1444.8,
            "bin_end": 2867.6,
            "count": 1
           },
           {
            "bin_start": 2867.6,
            "bin_end": 4290.4,
            "count": 3
           },
           {
            "bin_start": 4290.4,
            "bin_end": 5713.2,
            "count": 0
           },
           {
            "bin_start": 5713.2,
            "bin_end": 7136,
            "count": 0
           },
           {
            "bin_start": 7136,
            "bin_end": 8558.8,
            "count": 0
           },
           {
            "bin_start": 8558.8,
            "bin_end": 9981.6,
            "count": 0
           },
           {
            "bin_start": 9981.6,
            "bin_end": 11404.4,
            "count": 0
           },
           {
            "bin_start": 11404.4,
            "bin_end": 12827.199999999999,
            "count": 0
           },
           {
            "bin_start": 12827.199999999999,
            "bin_end": 14250,
            "count": 1
           }
          ]
         }
        },
        {
         "name": "Sales/Avg. Store",
         "dtype": "float64",
         "stats": {
          "unique_count": 8,
          "nan_count": 0,
          "min": "1.56391854",
          "max": "187.7956204",
          "histogram": [
           {
            "bin_start": 1.56391854,
            "bin_end": 20.187088726,
            "count": 2
           },
           {
            "bin_start": 20.187088726,
            "bin_end": 38.810258912,
            "count": 4
           },
           {
            "bin_start": 38.810258912,
            "bin_end": 57.433429098000005,
            "count": 1
           },
           {
            "bin_start": 57.433429098000005,
            "bin_end": 76.056599284,
            "count": 0
           },
           {
            "bin_start": 76.056599284,
            "bin_end": 94.67976947,
            "count": 0
           },
           {
            "bin_start": 94.67976947,
            "bin_end": 113.302939656,
            "count": 0
           },
           {
            "bin_start": 113.302939656,
            "bin_end": 131.926109842,
            "count": 0
           },
           {
            "bin_start": 131.926109842,
            "bin_end": 150.549280028,
            "count": 0
           },
           {
            "bin_start": 150.549280028,
            "bin_end": 169.172450214,
            "count": 0
           },
           {
            "bin_start": 169.172450214,
            "bin_end": 187.7956204,
            "count": 1
           }
          ]
         }
        },
        {
         "name": "Store Count Growth",
         "dtype": "float64",
         "stats": {
          "unique_count": 8,
          "nan_count": 0,
          "min": "-0.05951506245",
          "max": "22.0",
          "histogram": [
           {
            "bin_start": -0.05951506245,
            "bin_end": 2.146436443795,
            "count": 7
           },
           {
            "bin_start": 2.146436443795,
            "bin_end": 4.35238795004,
            "count": 0
           },
           {
            "bin_start": 4.35238795004,
            "bin_end": 6.558339456284999,
            "count": 0
           },
           {
            "bin_start": 6.558339456284999,
            "bin_end": 8.76429096253,
            "count": 0
           },
           {
            "bin_start": 8.76429096253,
            "bin_end": 10.970242468775,
            "count": 0
           },
           {
            "bin_start": 10.970242468775,
            "bin_end": 13.176193975019999,
            "count": 0
           },
           {
            "bin_start": 13.176193975019999,
            "bin_end": 15.382145481264999,
            "count": 0
           },
           {
            "bin_start": 15.382145481264999,
            "bin_end": 17.58809698751,
            "count": 0
           },
           {
            "bin_start": 17.58809698751,
            "bin_end": 19.794048493755,
            "count": 0
           },
           {
            "bin_start": 19.794048493755,
            "bin_end": 22,
            "count": 1
           }
          ]
         }
        },
        {
         "name": "_deepnote_index_column",
         "dtype": "object"
        }
       ],
       "rows": [
        {
         "Sales": 24,
         "Stores": 22,
         "Sales/Avg. Store": 22,
         "Store Count Growth": 22,
         "_deepnote_index_column": "count"
        },
        {
         "Sales": 46602.416666666664,
         "Stores": 3416.2272727272725,
         "Sales/Avg. Store": 35.56284036804546,
         "Store Count Growth": 0.0414748626715,
         "_deepnote_index_column": "mean"
        },
        {
         "Sales": 28317.98184119008,
         "Stores": 4126.358592221686,
         "Sales/Avg. Store": 41.08251038523538,
         "Store Count Growth": 0.0698987284271142,
         "_deepnote_index_column": "std"
        },
        {
         "Sales": 16592,
         "Stores": 231,
         "Sales/Avg. Store": 1.56391854,
         "Store Count Growth": -0.05951506245,
         "_deepnote_index_column": "min"
        },
        {
         "Sales": 23860,
         "Stores": 959,
         "Sales/Avg. Store": 10.53719452,
         "Store Count Growth": -0.00278993435475,
         "_deepnote_index_column": "25%"
        },
        {
         "Sales": 34694,
         "Stores": 1800,
         "Sales/Avg. Store": 25.341844764999998,
         "Store Count Growth": 0.026687261805,
         "_deepnote_index_column": "50%"
        },
        {
         "Sales": 71327.75,
         "Stores": 3640.75,
         "Sales/Avg. Store": 38.5982401775,
         "Store Count Growth": 0.0792805735,
         "_deepnote_index_column": "75%"
        },
        {
         "Sales": 115037,
         "Stores": 14250,
         "Sales/Avg. Store": 187.7956204,
         "Store Count Growth": 0.2556621881,
         "_deepnote_index_column": "max"
        }
       ]
      },
      "text/plain": "               Sales        Stores  Sales/Avg. Store  Store Count Growth\ncount      24.000000     22.000000         22.000000           22.000000\nmean    46602.416667   3416.227273         35.562840            0.041475\nstd     28317.981841   4126.358592         41.082510            0.069899\nmin     16592.000000    231.000000          1.563919           -0.059515\n25%     23860.000000    959.000000         10.537195           -0.002790\n50%     34694.000000   1800.000000         25.341845            0.026687\n75%     71327.750000   3640.750000         38.598240            0.079281\nmax    115037.000000  14250.000000        187.795620            0.255662",
      "text/html": "<div>\n<style scoped>\n    .dataframe tbody tr th:only-of-type {\n        vertical-align: middle;\n    }\n\n    .dataframe tbody tr th {\n        vertical-align: top;\n    }\n\n    .dataframe thead th {\n        text-align: right;\n    }\n</style>\n<table border=\"1\" class=\"dataframe\">\n  <thead>\n    <tr style=\"text-align: right;\">\n      <th></th>\n      <th>Sales</th>\n      <th>Stores</th>\n      <th>Sales/Avg. Store</th>\n      <th>Store Count Growth</th>\n    </tr>\n  </thead>\n  <tbody>\n    <tr>\n      <th>count</th>\n      <td>24.000000</td>\n      <td>22.000000</td>\n      <td>22.000000</td>\n      <td>22.000000</td>\n    </tr>\n    <tr>\n      <th>mean</th>\n      <td>46602.416667</td>\n      <td>3416.227273</td>\n      <td>35.562840</td>\n      <td>0.041475</td>\n    </tr>\n    <tr>\n      <th>std</th>\n      <td>28317.981841</td>\n      <td>4126.358592</td>\n      <td>41.082510</td>\n      <td>0.069899</td>\n    </tr>\n    <tr>\n      <th>min</th>\n      <td>16592.000000</td>\n      <td>231.000000</td>\n      <td>1.563919</td>\n      <td>-0.059515</td>\n    </tr>\n    <tr>\n      <th>25%</th>\n      <td>23860.000000</td>\n      <td>959.000000</td>\n      <td>10.537195</td>\n      <td>-0.002790</td>\n    </tr>\n    <tr>\n      <th>50%</th>\n      <td>34694.000000</td>\n      <td>1800.000000</td>\n      <td>25.341845</td>\n      <td>0.026687</td>\n    </tr>\n    <tr>\n      <th>75%</th>\n      <td>71327.750000</td>\n      <td>3640.750000</td>\n      <td>38.598240</td>\n      <td>0.079281</td>\n    </tr>\n    <tr>\n      <th>max</th>\n      <td>115037.000000</td>\n      <td>14250.000000</td>\n      <td>187.795620</td>\n      <td>0.255662</td>\n    </tr>\n  </tbody>\n</table>\n</div>"
     },
     "metadata": {}
    }
   ],
   "execution_count": null
  },
  {
   "cell_type": "code",
   "metadata": {
    "cell_id": "7f73958a-2eec-45ce-9426-cc8a277c327c",
    "tags": [],
    "deepnote_to_be_reexecuted": false,
    "source_hash": "50901b88",
    "execution_start": 1645725259934,
    "execution_millis": 381,
    "deepnote_cell_type": "code"
   },
   "source": "fig,ax=plt.subplots()\nax.axvline(median_ventas,0,7,color='red',label='Mediana %s'%median_ventas)\nax.legend()\nsns.histplot(data=datos2,x='Sales',kde=True,bins=7,ax=ax, color = \"darkorange\")\nax.grid()\ndatos2.min()\n\nplt.title(\"Dinero en ventas de la mayoria de las empresas\", size=18)\nplt.xlabel('Ventas/ingresos')\n",
   "outputs": [
    {
     "output_type": "execute_result",
     "execution_count": 13,
     "data": {
      "text/plain": "Text(0.5, 0, 'Ventas/ingresos')"
     },
     "metadata": {}
    },
    {
     "data": {
      "text/plain": "<Figure size 432x288 with 1 Axes>",
      "image/png": "[encoded data removed]"
     },
     "metadata": {
      "needs_background": "light",
      "image/png": {
       "width": 452,
       "height": 282
      }
     },
     "output_type": "display_data"
    }
   ],
   "execution_count": null
  },
  {
   "cell_type": "markdown",
   "source": "### 3. ¿Cuántas tiendas tiene la mayoría de las compañías?",
   "metadata": {
    "cell_id": "9801295a-a27d-48af-ae87-c653cabd8f67",
    "tags": [],
    "deepnote_cell_height": 62.15625,
    "deepnote_cell_type": "markdown"
   }
  },
  {
   "cell_type": "markdown",
   "source": "#### En cuánto a la mayoría de tiendas de las compañias es posible notar que aproximadamente unas 14 empresas cuentan con menos de 2000 tiendas, y eso representa a la mayoria del total de retails, incluyendo WallMart US.También utilicé la mediana para reducir datos sesgados. ",
   "metadata": {
    "cell_id": "a9d76124-711c-477a-a12b-2ae0c6152d69",
    "tags": [],
    "deepnote_cell_type": "markdown"
   }
  },
  {
   "cell_type": "code",
   "metadata": {
    "cell_id": "af94d24a-2826-4fcb-9223-c227e90d9c86",
    "tags": [],
    "deepnote_to_be_reexecuted": false,
    "source_hash": "fcee9024",
    "execution_start": 1645725260329,
    "execution_millis": 37,
    "deepnote_cell_type": "code"
   },
   "source": "datos_store = datos.sort_values('Stores',ascending=True)\ndatos_store",
   "outputs": [
    {
     "output_type": "execute_result",
     "execution_count": 14,
     "data": {
      "application/vnd.deepnote.dataframe.v3+json": {
       "column_count": 6,
       "row_count": 25,
       "columns": [
        {
         "name": "Company",
         "dtype": "object",
         "stats": {
          "unique_count": 25,
          "nan_count": 0,
          "categories": [
           {
            "name": "Meijer",
            "count": 1
           },
           {
            "name": "HEB",
            "count": 1
           },
           {
            "name": "23 others",
            "count": 23
           }
          ]
         }
        },
        {
         "name": "Sales",
         "dtype": "int64",
         "stats": {
          "unique_count": 25,
          "nan_count": 0,
          "min": "16592",
          "max": "658119",
          "histogram": [
           {
            "bin_start": 16592,
            "bin_end": 80744.7,
            "count": 21
           },
           {
            "bin_start": 80744.7,
            "bin_end": 144897.4,
            "count": 3
           },
           {
            "bin_start": 144897.4,
            "bin_end": 209050.09999999998,
            "count": 0
           },
           {
            "bin_start": 209050.09999999998,
            "bin_end": 273202.8,
            "count": 0
           },
           {
            "bin_start": 273202.8,
            "bin_end": 337355.5,
            "count": 0
           },
           {
            "bin_start": 337355.5,
            "bin_end": 401508.19999999995,
            "count": 0
           },
           {
            "bin_start": 401508.19999999995,
            "bin_end": 465660.89999999997,
            "count": 0
           },
           {
            "bin_start": 465660.89999999997,
            "bin_end": 529813.6,
            "count": 0
           },
           {
            "bin_start": 529813.6,
            "bin_end": 593966.2999999999,
            "count": 0
           },
           {
            "bin_start": 593966.2999999999,
            "bin_end": 658119,
            "count": 1
           }
          ]
         }
        },
        {
         "name": "Stores",
         "dtype": "float64",
         "stats": {
          "unique_count": 23,
          "nan_count": 2,
          "min": "231.0",
          "max": "14250.0",
          "histogram": [
           {
            "bin_start": 231,
            "bin_end": 1632.9,
            "count": 10
           },
           {
            "bin_start": 1632.9,
            "bin_end": 3034.8,
            "count": 6
           },
           {
            "bin_start": 3034.8,
            "bin_end": 4436.700000000001,
            "count": 1
           },
           {
            "bin_start": 4436.700000000001,
            "bin_end": 5838.6,
            "count": 2
           },
           {
            "bin_start": 5838.6,
            "bin_end": 7240.5,
            "count": 0
           },
           {
            "bin_start": 7240.5,
            "bin_end": 8642.400000000001,
            "count": 1
           },
           {
            "bin_start": 8642.400000000001,
            "bin_end": 10044.300000000001,
            "count": 1
           },
           {
            "bin_start": 10044.300000000001,
            "bin_end": 11446.2,
            "count": 0
           },
           {
            "bin_start": 11446.2,
            "bin_end": 12848.1,
            "count": 0
           },
           {
            "bin_start": 12848.1,
            "bin_end": 14250,
            "count": 2
           }
          ]
         }
        },
        {
         "name": "Sales/Avg. Store",
         "dtype": "float64",
         "stats": {
          "unique_count": 23,
          "nan_count": 2,
          "min": "1.56391854",
          "max": "187.7956204",
          "histogram": [
           {
            "bin_start": 1.56391854,
            "bin_end": 20.187088726,
            "count": 9
           },
           {
            "bin_start": 20.187088726,
            "bin_end": 38.810258912,
            "count": 7
           },
           {
            "bin_start": 38.810258912,
            "bin_end": 57.433429098000005,
            "count": 2
           },
           {
            "bin_start": 57.433429098000005,
            "bin_end": 76.056599284,
            "count": 3
           },
           {
            "bin_start": 76.056599284,
            "bin_end": 94.67976947,
            "count": 1
           },
           {
            "bin_start": 94.67976947,
            "bin_end": 113.302939656,
            "count": 0
           },
           {
            "bin_start": 113.302939656,
            "bin_end": 131.926109842,
            "count": 0
           },
           {
            "bin_start": 131.926109842,
            "bin_end": 150.549280028,
            "count": 0
           },
           {
            "bin_start": 150.549280028,
            "bin_end": 169.172450214,
            "count": 0
           },
           {
            "bin_start": 169.172450214,
            "bin_end": 187.7956204,
            "count": 1
           }
          ]
         }
        },
        {
         "name": "Store Count Growth",
         "dtype": "float64",
         "stats": {
          "unique_count": 23,
          "nan_count": 2,
          "min": "-0.05951506245",
          "max": "0.2556621881",
          "histogram": [
           {
            "bin_start": -0.05951506245,
            "bin_end": -0.027997337395000002,
            "count": 3
           },
           {
            "bin_start": -0.027997337395000002,
            "bin_end": 0.003520387659999999,
            "count": 4
           },
           {
            "bin_start": 0.003520387659999999,
            "bin_end": 0.035038112715,
            "count": 6
           },
           {
            "bin_start": 0.035038112715,
            "bin_end": 0.06655583777,
            "count": 2
           },
           {
            "bin_start": 0.06655583777,
            "bin_end": 0.098073562825,
            "count": 5
           },
           {
            "bin_start": 0.098073562825,
            "bin_end": 0.12959128788000002,
            "count": 1
           },
           {
            "bin_start": 0.12959128788000002,
            "bin_end": 0.16110901293500002,
            "count": 1
           },
           {
            "bin_start": 0.16110901293500002,
            "bin_end": 0.19262673799000002,
            "count": 0
           },
           {
            "bin_start": 0.19262673799000002,
            "bin_end": 0.22414446304500002,
            "count": 0
           },
           {
            "bin_start": 0.22414446304500002,
            "bin_end": 0.2556621881,
            "count": 1
           }
          ]
         }
        },
        {
         "name": "Category",
         "dtype": "object",
         "stats": {
          "unique_count": 11,
          "nan_count": 1,
          "categories": [
           {
            "name": "Grocery",
            "count": 7
           },
           {
            "name": "10 others",
            "count": 17
           },
           {
            "name": "Missing",
            "count": 1
           }
          ]
         }
        },
        {
         "name": "_deepnote_index_column",
         "dtype": "int64"
        }
       ],
       "rows": [
        {
         "Company": "Meijer",
         "Sales": 16592,
         "Stores": 231,
         "Sales/Avg. Store": 74.73873874,
         "Store Count Growth": 0.08450704225,
         "Category": "Supercenters",
         "_deepnote_index_column": 24
        },
        {
         "Company": "HEB",
         "Sales": 21384,
         "Stores": 323,
         "Sales/Avg. Store": 66.825,
         "Store Count Growth": 0.01892744479,
         "Category": "Grocery",
         "_deepnote_index_column": 21
        },
        {
         "Company": "Costco",
         "Sales": 90048,
         "Stores": 495,
         "Sales/Avg. Store": 187.7956204,
         "Store Count Growth": 0.06681034483,
         "Category": "Warehouse Club",
         "_deepnote_index_column": 2
        },
        {
         "Company": "Sam's Club",
         "Sales": 56828,
         "Stores": 655,
         "Sales/Avg. Store": 87.29339478,
         "Store Count Growth": 0.01236476043,
         "Category": "Warehouse Clubs",
         "_deepnote_index_column": 10
        },
        {
         "Company": "Ahold",
         "Sales": 26903,
         "Stores": 794,
         "Sales/Avg. Store": 34.446863,
         "Store Count Growth": 0.03385416667,
         "Category": "Grocery",
         "_deepnote_index_column": 15
        },
        {
         "Company": "Macy's",
         "Sales": 26028,
         "Stores": 889,
         "Sales/Avg. Store": 30.44210526,
         "Store Count Growth": 0.08282582217,
         "Category": "Department Stores",
         "_deepnote_index_column": 16
        },
        {
         "Company": "Kohl's",
         "Sales": 19060,
         "Stores": 1169,
         "Sales/Avg. Store": 16.35349635,
         "Store Count Growth": 0.006024096386,
         "Category": "Department Stores",
         "_deepnote_index_column": 22
        },
        {
         "Company": "Delhaize",
         "Sales": 18201,
         "Stores": 1280,
         "Sales/Avg. Store": 13.78341537,
         "Store Count Growth": -0.05951506245,
         "Category": "Grocery",
         "_deepnote_index_column": 23
        },
        {
         "Company": "Publix",
         "Sales": 34408,
         "Stores": 1351,
         "Sales/Avg. Store": 25.99773328,
         "Store Count Growth": 0.0424382716,
         "Category": "Grocery",
         "_deepnote_index_column": 13
        },
        {
         "Company": "Best Buy",
         "Sales": 34980,
         "Stores": 1389,
         "Sales/Avg. Store": 24.68595625,
         "Store Count Growth": -0.03875432526,
         "Category": "Electronics",
         "_deepnote_index_column": 12
        }
       ]
      },
      "text/plain": "               Company   Sales   Stores  Sales/Avg. Store  Store Count Growth  \\\n24              Meijer   16592    231.0         74.738739            0.084507   \n21                 HEB   21384    323.0         66.825000            0.018927   \n2               Costco   90048    495.0        187.795620            0.066810   \n10          Sam's Club   56828    655.0         87.293395            0.012365   \n15               Ahold   26903    794.0         34.446863            0.033854   \n16              Macy's   26028    889.0         30.442105            0.082826   \n22              Kohl's   19060   1169.0         16.353496            0.006024   \n23            Delhaize   18201   1280.0         13.783415           -0.059515   \n13              Publix   34408   1351.0         25.997733            0.042438   \n12            Best Buy   34980   1389.0         24.685956           -0.038754   \n7               Target   71208   1772.0         39.982033           -0.010056   \n8               Lowe's   60311   1828.0         33.311792            0.019520   \n3           Home Depot   83976   1965.0         42.735878            0.000000   \n18                Aldi   24402   2021.0         12.715998            0.112273   \n9           Albertsons   56829   2326.0         23.877731           -0.044371   \n17                 TJX   25012   2770.0          9.369545            0.078241   \n1               Kroger  115037   3931.0         30.031850            0.053887   \n14            Rite Aid   27486   4553.0          6.025649           -0.003720   \n0           Walmart US  658119   4574.0         65.649725            0.012843   \n4       Walgreen Boots   78924   8002.0          9.810927           -0.010511   \n5     CVS incl. Target   77792   9813.0          8.825959            0.255662   \n19      Dollar General   22234  13350.0          1.768885            0.132412   \n20         Dollar Tree   21464  14250.0          1.563919            0.079627   \n6               Amazon   71687      NaN               NaN                 NaN   \n11  Apple incl. Online   37664      NaN               NaN                 NaN   \n\n                 Category  \n24           Supercenters  \n21                Grocery  \n2          Warehouse Club  \n10        Warehouse Clubs  \n15                Grocery  \n16      Department Stores  \n22      Department Stores  \n23                Grocery  \n13                Grocery  \n12            Electronics  \n7            Supercenters  \n8        Home Improvement  \n3        Home Improvement  \n18                Grocery  \n9                 Grocery  \n17                Apparel  \n1                 Grocery  \n14            Drug Stores  \n0            Supercenters  \n4             Drug Stores  \n5             Drug Stores  \n19          Dollar Stores  \n20          Dollar Stores  \n6   Electronic/Mail Order  \n11                    NaN  ",
      "text/html": "<div>\n<style scoped>\n    .dataframe tbody tr th:only-of-type {\n        vertical-align: middle;\n    }\n\n    .dataframe tbody tr th {\n        vertical-align: top;\n    }\n\n    .dataframe thead th {\n        text-align: right;\n    }\n</style>\n<table border=\"1\" class=\"dataframe\">\n  <thead>\n    <tr style=\"text-align: right;\">\n      <th></th>\n      <th>Company</th>\n      <th>Sales</th>\n      <th>Stores</th>\n      <th>Sales/Avg. Store</th>\n      <th>Store Count Growth</th>\n      <th>Category</th>\n    </tr>\n  </thead>\n  <tbody>\n    <tr>\n      <th>24</th>\n      <td>Meijer</td>\n      <td>16592</td>\n      <td>231.0</td>\n      <td>74.738739</td>\n      <td>0.084507</td>\n      <td>Supercenters</td>\n    </tr>\n    <tr>\n      <th>21</th>\n      <td>HEB</td>\n      <td>21384</td>\n      <td>323.0</td>\n      <td>66.825000</td>\n      <td>0.018927</td>\n      <td>Grocery</td>\n    </tr>\n    <tr>\n      <th>2</th>\n      <td>Costco</td>\n      <td>90048</td>\n      <td>495.0</td>\n      <td>187.795620</td>\n      <td>0.066810</td>\n      <td>Warehouse Club</td>\n    </tr>\n    <tr>\n      <th>10</th>\n      <td>Sam's Club</td>\n      <td>56828</td>\n      <td>655.0</td>\n      <td>87.293395</td>\n      <td>0.012365</td>\n      <td>Warehouse Clubs</td>\n    </tr>\n    <tr>\n      <th>15</th>\n      <td>Ahold</td>\n      <td>26903</td>\n      <td>794.0</td>\n      <td>34.446863</td>\n      <td>0.033854</td>\n      <td>Grocery</td>\n    </tr>\n    <tr>\n      <th>16</th>\n      <td>Macy's</td>\n      <td>26028</td>\n      <td>889.0</td>\n      <td>30.442105</td>\n      <td>0.082826</td>\n      <td>Department Stores</td>\n    </tr>\n    <tr>\n      <th>22</th>\n      <td>Kohl's</td>\n      <td>19060</td>\n      <td>1169.0</td>\n      <td>16.353496</td>\n      <td>0.006024</td>\n      <td>Department Stores</td>\n    </tr>\n    <tr>\n      <th>23</th>\n      <td>Delhaize</td>\n      <td>18201</td>\n      <td>1280.0</td>\n      <td>13.783415</td>\n      <td>-0.059515</td>\n      <td>Grocery</td>\n    </tr>\n    <tr>\n      <th>13</th>\n      <td>Publix</td>\n      <td>34408</td>\n      <td>1351.0</td>\n      <td>25.997733</td>\n      <td>0.042438</td>\n      <td>Grocery</td>\n    </tr>\n    <tr>\n      <th>12</th>\n      <td>Best Buy</td>\n      <td>34980</td>\n      <td>1389.0</td>\n      <td>24.685956</td>\n      <td>-0.038754</td>\n      <td>Electronics</td>\n    </tr>\n    <tr>\n      <th>7</th>\n      <td>Target</td>\n      <td>71208</td>\n      <td>1772.0</td>\n      <td>39.982033</td>\n      <td>-0.010056</td>\n      <td>Supercenters</td>\n    </tr>\n    <tr>\n      <th>8</th>\n      <td>Lowe's</td>\n      <td>60311</td>\n      <td>1828.0</td>\n      <td>33.311792</td>\n      <td>0.019520</td>\n      <td>Home Improvement</td>\n    </tr>\n    <tr>\n      <th>3</th>\n      <td>Home Depot</td>\n      <td>83976</td>\n      <td>1965.0</td>\n      <td>42.735878</td>\n      <td>0.000000</td>\n      <td>Home Improvement</td>\n    </tr>\n    <tr>\n      <th>18</th>\n      <td>Aldi</td>\n      <td>24402</td>\n      <td>2021.0</td>\n      <td>12.715998</td>\n      <td>0.112273</td>\n      <td>Grocery</td>\n    </tr>\n    <tr>\n      <th>9</th>\n      <td>Albertsons</td>\n      <td>56829</td>\n      <td>2326.0</td>\n      <td>23.877731</td>\n      <td>-0.044371</td>\n      <td>Grocery</td>\n    </tr>\n    <tr>\n      <th>17</th>\n      <td>TJX</td>\n      <td>25012</td>\n      <td>2770.0</td>\n      <td>9.369545</td>\n      <td>0.078241</td>\n      <td>Apparel</td>\n    </tr>\n    <tr>\n      <th>1</th>\n      <td>Kroger</td>\n      <td>115037</td>\n      <td>3931.0</td>\n      <td>30.031850</td>\n      <td>0.053887</td>\n      <td>Grocery</td>\n    </tr>\n    <tr>\n      <th>14</th>\n      <td>Rite Aid</td>\n      <td>27486</td>\n      <td>4553.0</td>\n      <td>6.025649</td>\n      <td>-0.003720</td>\n      <td>Drug Stores</td>\n    </tr>\n    <tr>\n      <th>0</th>\n      <td>Walmart US</td>\n      <td>658119</td>\n      <td>4574.0</td>\n      <td>65.649725</td>\n      <td>0.012843</td>\n      <td>Supercenters</td>\n    </tr>\n    <tr>\n      <th>4</th>\n      <td>Walgreen Boots</td>\n      <td>78924</td>\n      <td>8002.0</td>\n      <td>9.810927</td>\n      <td>-0.010511</td>\n      <td>Drug Stores</td>\n    </tr>\n    <tr>\n      <th>5</th>\n      <td>CVS incl. Target</td>\n      <td>77792</td>\n      <td>9813.0</td>\n      <td>8.825959</td>\n      <td>0.255662</td>\n      <td>Drug Stores</td>\n    </tr>\n    <tr>\n      <th>19</th>\n      <td>Dollar General</td>\n      <td>22234</td>\n      <td>13350.0</td>\n      <td>1.768885</td>\n      <td>0.132412</td>\n      <td>Dollar Stores</td>\n    </tr>\n    <tr>\n      <th>20</th>\n      <td>Dollar Tree</td>\n      <td>21464</td>\n      <td>14250.0</td>\n      <td>1.563919</td>\n      <td>0.079627</td>\n      <td>Dollar Stores</td>\n    </tr>\n    <tr>\n      <th>6</th>\n      <td>Amazon</td>\n      <td>71687</td>\n      <td>NaN</td>\n      <td>NaN</td>\n      <td>NaN</td>\n      <td>Electronic/Mail Order</td>\n    </tr>\n    <tr>\n      <th>11</th>\n      <td>Apple incl. Online</td>\n      <td>37664</td>\n      <td>NaN</td>\n      <td>NaN</td>\n      <td>NaN</td>\n      <td>NaN</td>\n    </tr>\n  </tbody>\n</table>\n</div>"
     },
     "metadata": {}
    }
   ],
   "execution_count": null
  },
  {
   "cell_type": "code",
   "source": "datos_store_m = datos['Stores'].median()\ndatos_store_m",
   "metadata": {
    "cell_id": "3eea22ed-38c0-47b7-93dc-0f10b9051c73",
    "tags": [],
    "deepnote_to_be_reexecuted": false,
    "source_hash": "b2ebe10e",
    "execution_start": 1645725260385,
    "execution_millis": 2325736,
    "deepnote_cell_type": "code"
   },
   "outputs": [
    {
     "output_type": "execute_result",
     "execution_count": 15,
     "data": {
      "text/plain": "1828.0"
     },
     "metadata": {}
    }
   ],
   "execution_count": null
  },
  {
   "cell_type": "code",
   "metadata": {
    "cell_id": "8e557945-dbe1-4d46-a332-d2a4a2bfe952",
    "tags": [],
    "deepnote_cell_height": 634.421875,
    "deepnote_to_be_reexecuted": false,
    "source_hash": "b52426da",
    "execution_start": 1645725260390,
    "execution_millis": 336,
    "deepnote_cell_type": "code"
   },
   "source": "fig,ax=plt.subplots()\nax.axvline(datos_store_m ,0,7,color='red',label='Mediana %s'%datos_store_m)\nax.legend\nsns.histplot(data=datos,x='Stores',kde=True,bins=7,ax=ax, color = \"darkorange\")\nax.grid()\ndatos.min()\nplt.title(\"Tiendas que tiene la mayoria de las compañias\", size=18)\nplt.xlabel('Store')\n\n",
   "outputs": [
    {
     "output_type": "execute_result",
     "execution_count": 16,
     "data": {
      "text/plain": "Text(0.5, 0, 'Store')"
     },
     "metadata": {}
    },
    {
     "data": {
      "text/plain": "<Figure size 432x288 with 1 Axes>",
      "image/png": "[encoded data removed]"
     },
     "metadata": {
      "needs_background": "light",
      "image/png": {
       "width": 440,
       "height": 282
      }
     },
     "output_type": "display_data"
    }
   ],
   "execution_count": null
  },
  {
   "cell_type": "markdown",
   "source": "### 4. ¿La cantidad de tiendas está relacionada con la cantidad de ventas? Es decir, ¿si una empresa tiene más tiendas tendrá más dinero de ventas?",
   "metadata": {
    "cell_id": "c9b5de28-cd12-4088-9bc0-93df660401f3",
    "tags": [],
    "deepnote_cell_height": 94.15625,
    "deepnote_cell_type": "markdown"
   }
  },
  {
   "cell_type": "markdown",
   "source": "#### No hay correlación entre la cantidad de tiendas con la cantidad de ventas, como puede evidenciarse en el siguiente gráfico. Por lo qué puede mencionarse que tener más tiendas no garantiza más ingreso de dinero por ventas. Incluso hay ejemplos de tiendas como Dollar Tree, General, CSV incl. que tienen aproximadamente entre 9000 a 14000 tiendas, pero sus ventas no son superiores de las que tienen menor tiendas, como Walmart US, Kroger que poseen entre 3000 a 4000 tiendas y cuentan con un gran margen de ganancias anuales.",
   "metadata": {
    "cell_id": "c2775bb0-e9f8-42af-b0e3-bdba4bd07580",
    "tags": [],
    "deepnote_cell_type": "markdown"
   }
  },
  {
   "cell_type": "code",
   "source": "datos_scatter = datos.sort_values('Stores',ascending=False)\ndatos_scatter",
   "metadata": {
    "cell_id": "27e8e176-41e8-4cd2-a0a9-793df40d10ad",
    "tags": [],
    "deepnote_to_be_reexecuted": false,
    "source_hash": "e8653e65",
    "execution_start": 1645725260755,
    "execution_millis": 13,
    "deepnote_table_state": {
     "pageSize": 10,
     "pageIndex": 0,
     "filters": [],
     "sortBy": []
    },
    "deepnote_table_loading": false,
    "deepnote_cell_type": "code"
   },
   "outputs": [
    {
     "output_type": "execute_result",
     "execution_count": 17,
     "data": {
      "application/vnd.deepnote.dataframe.v3+json": {
       "column_count": 6,
       "row_count": 25,
       "columns": [
        {
         "name": "Company",
         "dtype": "object",
         "stats": {
          "unique_count": 25,
          "nan_count": 0,
          "categories": [
           {
            "name": "Dollar Tree",
            "count": 1
           },
           {
            "name": "Dollar General",
            "count": 1
           },
           {
            "name": "23 others",
            "count": 23
           }
          ]
         }
        },
        {
         "name": "Sales",
         "dtype": "int64",
         "stats": {
          "unique_count": 25,
          "nan_count": 0,
          "min": "16592",
          "max": "658119",
          "histogram": [
           {
            "bin_start": 16592,
            "bin_end": 80744.7,
            "count": 21
           },
           {
            "bin_start": 80744.7,
            "bin_end": 144897.4,
            "count": 3
           },
           {
            "bin_start": 144897.4,
            "bin_end": 209050.09999999998,
            "count": 0
           },
           {
            "bin_start": 209050.09999999998,
            "bin_end": 273202.8,
            "count": 0
           },
           {
            "bin_start": 273202.8,
            "bin_end": 337355.5,
            "count": 0
           },
           {
            "bin_start": 337355.5,
            "bin_end": 401508.19999999995,
            "count": 0
           },
           {
            "bin_start": 401508.19999999995,
            "bin_end": 465660.89999999997,
            "count": 0
           },
           {
            "bin_start": 465660.89999999997,
            "bin_end": 529813.6,
            "count": 0
           },
           {
            "bin_start": 529813.6,
            "bin_end": 593966.2999999999,
            "count": 0
           },
           {
            "bin_start": 593966.2999999999,
            "bin_end": 658119,
            "count": 1
           }
          ]
         }
        },
        {
         "name": "Stores",
         "dtype": "float64",
         "stats": {
          "unique_count": 23,
          "nan_count": 2,
          "min": "231.0",
          "max": "14250.0",
          "histogram": [
           {
            "bin_start": 231,
            "bin_end": 1632.9,
            "count": 10
           },
           {
            "bin_start": 1632.9,
            "bin_end": 3034.8,
            "count": 6
           },
           {
            "bin_start": 3034.8,
            "bin_end": 4436.700000000001,
            "count": 1
           },
           {
            "bin_start": 4436.700000000001,
            "bin_end": 5838.6,
            "count": 2
           },
           {
            "bin_start": 5838.6,
            "bin_end": 7240.5,
            "count": 0
           },
           {
            "bin_start": 7240.5,
            "bin_end": 8642.400000000001,
            "count": 1
           },
           {
            "bin_start": 8642.400000000001,
            "bin_end": 10044.300000000001,
            "count": 1
           },
           {
            "bin_start": 10044.300000000001,
            "bin_end": 11446.2,
            "count": 0
           },
           {
            "bin_start": 11446.2,
            "bin_end": 12848.1,
            "count": 0
           },
           {
            "bin_start": 12848.1,
            "bin_end": 14250,
            "count": 2
           }
          ]
         }
        },
        {
         "name": "Sales/Avg. Store",
         "dtype": "float64",
         "stats": {
          "unique_count": 23,
          "nan_count": 2,
          "min": "1.56391854",
          "max": "187.7956204",
          "histogram": [
           {
            "bin_start": 1.56391854,
            "bin_end": 20.187088726,
            "count": 9
           },
           {
            "bin_start": 20.187088726,
            "bin_end": 38.810258912,
            "count": 7
           },
           {
            "bin_start": 38.810258912,
            "bin_end": 57.433429098000005,
            "count": 2
           },
           {
            "bin_start": 57.433429098000005,
            "bin_end": 76.056599284,
            "count": 3
           },
           {
            "bin_start": 76.056599284,
            "bin_end": 94.67976947,
            "count": 1
           },
           {
            "bin_start": 94.67976947,
            "bin_end": 113.302939656,
            "count": 0
           },
           {
            "bin_start": 113.302939656,
            "bin_end": 131.926109842,
            "count": 0
           },
           {
            "bin_start": 131.926109842,
            "bin_end": 150.549280028,
            "count": 0
           },
           {
            "bin_start": 150.549280028,
            "bin_end": 169.172450214,
            "count": 0
           },
           {
            "bin_start": 169.172450214,
            "bin_end": 187.7956204,
            "count": 1
           }
          ]
         }
        },
        {
         "name": "Store Count Growth",
         "dtype": "float64",
         "stats": {
          "unique_count": 23,
          "nan_count": 2,
          "min": "-0.05951506245",
          "max": "0.2556621881",
          "histogram": [
           {
            "bin_start": -0.05951506245,
            "bin_end": -0.027997337395000002,
            "count": 3
           },
           {
            "bin_start": -0.027997337395000002,
            "bin_end": 0.003520387659999999,
            "count": 4
           },
           {
            "bin_start": 0.003520387659999999,
            "bin_end": 0.035038112715,
            "count": 6
           },
           {
            "bin_start": 0.035038112715,
            "bin_end": 0.06655583777,
            "count": 2
           },
           {
            "bin_start": 0.06655583777,
            "bin_end": 0.098073562825,
            "count": 5
           },
           {
            "bin_start": 0.098073562825,
            "bin_end": 0.12959128788000002,
            "count": 1
           },
           {
            "bin_start": 0.12959128788000002,
            "bin_end": 0.16110901293500002,
            "count": 1
           },
           {
            "bin_start": 0.16110901293500002,
            "bin_end": 0.19262673799000002,
            "count": 0
           },
           {
            "bin_start": 0.19262673799000002,
            "bin_end": 0.22414446304500002,
            "count": 0
           },
           {
            "bin_start": 0.22414446304500002,
            "bin_end": 0.2556621881,
            "count": 1
           }
          ]
         }
        },
        {
         "name": "Category",
         "dtype": "object",
         "stats": {
          "unique_count": 11,
          "nan_count": 1,
          "categories": [
           {
            "name": "Grocery",
            "count": 7
           },
           {
            "name": "10 others",
            "count": 17
           },
           {
            "name": "Missing",
            "count": 1
           }
          ]
         }
        },
        {
         "name": "_deepnote_index_column",
         "dtype": "int64"
        }
       ],
       "rows": [
        {
         "Company": "Dollar Tree",
         "Sales": 21464,
         "Stores": 14250,
         "Sales/Avg. Store": 1.56391854,
         "Store Count Growth": 0.07962724449,
         "Category": "Dollar Stores",
         "_deepnote_index_column": 20
        },
        {
         "Company": "Dollar General",
         "Sales": 22234,
         "Stores": 13350,
         "Sales/Avg. Store": 1.768884999,
         "Store Count Growth": 0.1324115701,
         "Category": "Dollar Stores",
         "_deepnote_index_column": 19
        },
        {
         "Company": "CVS incl. Target",
         "Sales": 77792,
         "Stores": 9813,
         "Sales/Avg. Store": 8.825958702,
         "Store Count Growth": 0.2556621881,
         "Category": "Drug Stores",
         "_deepnote_index_column": 5
        },
        {
         "Company": "Walgreen Boots",
         "Sales": 78924,
         "Stores": 8002,
         "Sales/Avg. Store": 9.81092672,
         "Store Count Growth": -0.01051069618,
         "Category": "Drug Stores",
         "_deepnote_index_column": 4
        },
        {
         "Company": "Walmart US",
         "Sales": 658119,
         "Stores": 4574,
         "Sales/Avg. Store": 65.64972497,
         "Store Count Growth": 0.01284322409,
         "Category": "Supercenters",
         "_deepnote_index_column": 0
        },
        {
         "Company": "Rite Aid",
         "Sales": 27486,
         "Stores": 4553,
         "Sales/Avg. Store": 6.025649457,
         "Store Count Growth": -0.003719912473,
         "Category": "Drug Stores",
         "_deepnote_index_column": 14
        },
        {
         "Company": "Kroger",
         "Sales": 115037,
         "Stores": 3931,
         "Sales/Avg. Store": 30.03184963,
         "Store Count Growth": 0.05388739946,
         "Category": "Grocery",
         "_deepnote_index_column": 1
        },
        {
         "Company": "TJX",
         "Sales": 25012,
         "Stores": 2770,
         "Sales/Avg. Store": 9.369544859,
         "Store Count Growth": 0.07824056053,
         "Category": "Apparel",
         "_deepnote_index_column": 17
        },
        {
         "Company": "Albertsons",
         "Sales": 56829,
         "Stores": 2326,
         "Sales/Avg. Store": 23.87773109,
         "Store Count Growth": -0.04437140509,
         "Category": "Grocery",
         "_deepnote_index_column": 9
        },
        {
         "Company": "Aldi",
         "Sales": 24402,
         "Stores": 2021,
         "Sales/Avg. Store": 12.71599792,
         "Store Count Growth": 0.1122729774,
         "Category": "Grocery",
         "_deepnote_index_column": 18
        }
       ]
      },
      "text/plain": "               Company   Sales   Stores  Sales/Avg. Store  Store Count Growth  \\\n20         Dollar Tree   21464  14250.0          1.563919            0.079627   \n19      Dollar General   22234  13350.0          1.768885            0.132412   \n5     CVS incl. Target   77792   9813.0          8.825959            0.255662   \n4       Walgreen Boots   78924   8002.0          9.810927           -0.010511   \n0           Walmart US  658119   4574.0         65.649725            0.012843   \n14            Rite Aid   27486   4553.0          6.025649           -0.003720   \n1               Kroger  115037   3931.0         30.031850            0.053887   \n17                 TJX   25012   2770.0          9.369545            0.078241   \n9           Albertsons   56829   2326.0         23.877731           -0.044371   \n18                Aldi   24402   2021.0         12.715998            0.112273   \n3           Home Depot   83976   1965.0         42.735878            0.000000   \n8               Lowe's   60311   1828.0         33.311792            0.019520   \n7               Target   71208   1772.0         39.982033           -0.010056   \n12            Best Buy   34980   1389.0         24.685956           -0.038754   \n13              Publix   34408   1351.0         25.997733            0.042438   \n23            Delhaize   18201   1280.0         13.783415           -0.059515   \n22              Kohl's   19060   1169.0         16.353496            0.006024   \n16              Macy's   26028    889.0         30.442105            0.082826   \n15               Ahold   26903    794.0         34.446863            0.033854   \n10          Sam's Club   56828    655.0         87.293395            0.012365   \n2               Costco   90048    495.0        187.795620            0.066810   \n21                 HEB   21384    323.0         66.825000            0.018927   \n24              Meijer   16592    231.0         74.738739            0.084507   \n6               Amazon   71687      NaN               NaN                 NaN   \n11  Apple incl. Online   37664      NaN               NaN                 NaN   \n\n                 Category  \n20          Dollar Stores  \n19          Dollar Stores  \n5             Drug Stores  \n4             Drug Stores  \n0            Supercenters  \n14            Drug Stores  \n1                 Grocery  \n17                Apparel  \n9                 Grocery  \n18                Grocery  \n3        Home Improvement  \n8        Home Improvement  \n7            Supercenters  \n12            Electronics  \n13                Grocery  \n23                Grocery  \n22      Department Stores  \n16      Department Stores  \n15                Grocery  \n10        Warehouse Clubs  \n2          Warehouse Club  \n21                Grocery  \n24           Supercenters  \n6   Electronic/Mail Order  \n11                    NaN  ",
      "text/html": "<div>\n<style scoped>\n    .dataframe tbody tr th:only-of-type {\n        vertical-align: middle;\n    }\n\n    .dataframe tbody tr th {\n        vertical-align: top;\n    }\n\n    .dataframe thead th {\n        text-align: right;\n    }\n</style>\n<table border=\"1\" class=\"dataframe\">\n  <thead>\n    <tr style=\"text-align: right;\">\n      <th></th>\n      <th>Company</th>\n      <th>Sales</th>\n      <th>Stores</th>\n      <th>Sales/Avg. Store</th>\n      <th>Store Count Growth</th>\n      <th>Category</th>\n    </tr>\n  </thead>\n  <tbody>\n    <tr>\n      <th>20</th>\n      <td>Dollar Tree</td>\n      <td>21464</td>\n      <td>14250.0</td>\n      <td>1.563919</td>\n      <td>0.079627</td>\n      <td>Dollar Stores</td>\n    </tr>\n    <tr>\n      <th>19</th>\n      <td>Dollar General</td>\n      <td>22234</td>\n      <td>13350.0</td>\n      <td>1.768885</td>\n      <td>0.132412</td>\n      <td>Dollar Stores</td>\n    </tr>\n    <tr>\n      <th>5</th>\n      <td>CVS incl. Target</td>\n      <td>77792</td>\n      <td>9813.0</td>\n      <td>8.825959</td>\n      <td>0.255662</td>\n      <td>Drug Stores</td>\n    </tr>\n    <tr>\n      <th>4</th>\n      <td>Walgreen Boots</td>\n      <td>78924</td>\n      <td>8002.0</td>\n      <td>9.810927</td>\n      <td>-0.010511</td>\n      <td>Drug Stores</td>\n    </tr>\n    <tr>\n      <th>0</th>\n      <td>Walmart US</td>\n      <td>658119</td>\n      <td>4574.0</td>\n      <td>65.649725</td>\n      <td>0.012843</td>\n      <td>Supercenters</td>\n    </tr>\n    <tr>\n      <th>14</th>\n      <td>Rite Aid</td>\n      <td>27486</td>\n      <td>4553.0</td>\n      <td>6.025649</td>\n      <td>-0.003720</td>\n      <td>Drug Stores</td>\n    </tr>\n    <tr>\n      <th>1</th>\n      <td>Kroger</td>\n      <td>115037</td>\n      <td>3931.0</td>\n      <td>30.031850</td>\n      <td>0.053887</td>\n      <td>Grocery</td>\n    </tr>\n    <tr>\n      <th>17</th>\n      <td>TJX</td>\n      <td>25012</td>\n      <td>2770.0</td>\n      <td>9.369545</td>\n      <td>0.078241</td>\n      <td>Apparel</td>\n    </tr>\n    <tr>\n      <th>9</th>\n      <td>Albertsons</td>\n      <td>56829</td>\n      <td>2326.0</td>\n      <td>23.877731</td>\n      <td>-0.044371</td>\n      <td>Grocery</td>\n    </tr>\n    <tr>\n      <th>18</th>\n      <td>Aldi</td>\n      <td>24402</td>\n      <td>2021.0</td>\n      <td>12.715998</td>\n      <td>0.112273</td>\n      <td>Grocery</td>\n    </tr>\n    <tr>\n      <th>3</th>\n      <td>Home Depot</td>\n      <td>83976</td>\n      <td>1965.0</td>\n      <td>42.735878</td>\n      <td>0.000000</td>\n      <td>Home Improvement</td>\n    </tr>\n    <tr>\n      <th>8</th>\n      <td>Lowe's</td>\n      <td>60311</td>\n      <td>1828.0</td>\n      <td>33.311792</td>\n      <td>0.019520</td>\n      <td>Home Improvement</td>\n    </tr>\n    <tr>\n      <th>7</th>\n      <td>Target</td>\n      <td>71208</td>\n      <td>1772.0</td>\n      <td>39.982033</td>\n      <td>-0.010056</td>\n      <td>Supercenters</td>\n    </tr>\n    <tr>\n      <th>12</th>\n      <td>Best Buy</td>\n      <td>34980</td>\n      <td>1389.0</td>\n      <td>24.685956</td>\n      <td>-0.038754</td>\n      <td>Electronics</td>\n    </tr>\n    <tr>\n      <th>13</th>\n      <td>Publix</td>\n      <td>34408</td>\n      <td>1351.0</td>\n      <td>25.997733</td>\n      <td>0.042438</td>\n      <td>Grocery</td>\n    </tr>\n    <tr>\n      <th>23</th>\n      <td>Delhaize</td>\n      <td>18201</td>\n      <td>1280.0</td>\n      <td>13.783415</td>\n      <td>-0.059515</td>\n      <td>Grocery</td>\n    </tr>\n    <tr>\n      <th>22</th>\n      <td>Kohl's</td>\n      <td>19060</td>\n      <td>1169.0</td>\n      <td>16.353496</td>\n      <td>0.006024</td>\n      <td>Department Stores</td>\n    </tr>\n    <tr>\n      <th>16</th>\n      <td>Macy's</td>\n      <td>26028</td>\n      <td>889.0</td>\n      <td>30.442105</td>\n      <td>0.082826</td>\n      <td>Department Stores</td>\n    </tr>\n    <tr>\n      <th>15</th>\n      <td>Ahold</td>\n      <td>26903</td>\n      <td>794.0</td>\n      <td>34.446863</td>\n      <td>0.033854</td>\n      <td>Grocery</td>\n    </tr>\n    <tr>\n      <th>10</th>\n      <td>Sam's Club</td>\n      <td>56828</td>\n      <td>655.0</td>\n      <td>87.293395</td>\n      <td>0.012365</td>\n      <td>Warehouse Clubs</td>\n    </tr>\n    <tr>\n      <th>2</th>\n      <td>Costco</td>\n      <td>90048</td>\n      <td>495.0</td>\n      <td>187.795620</td>\n      <td>0.066810</td>\n      <td>Warehouse Club</td>\n    </tr>\n    <tr>\n      <th>21</th>\n      <td>HEB</td>\n      <td>21384</td>\n      <td>323.0</td>\n      <td>66.825000</td>\n      <td>0.018927</td>\n      <td>Grocery</td>\n    </tr>\n    <tr>\n      <th>24</th>\n      <td>Meijer</td>\n      <td>16592</td>\n      <td>231.0</td>\n      <td>74.738739</td>\n      <td>0.084507</td>\n      <td>Supercenters</td>\n    </tr>\n    <tr>\n      <th>6</th>\n      <td>Amazon</td>\n      <td>71687</td>\n      <td>NaN</td>\n      <td>NaN</td>\n      <td>NaN</td>\n      <td>Electronic/Mail Order</td>\n    </tr>\n    <tr>\n      <th>11</th>\n      <td>Apple incl. Online</td>\n      <td>37664</td>\n      <td>NaN</td>\n      <td>NaN</td>\n      <td>NaN</td>\n      <td>NaN</td>\n    </tr>\n  </tbody>\n</table>\n</div>"
     },
     "metadata": {}
    }
   ],
   "execution_count": null
  },
  {
   "cell_type": "code",
   "source": "datos_scatter.corr()",
   "metadata": {
    "cell_id": "d793318b-112a-4d2f-9410-4046f2a3acfc",
    "tags": [],
    "deepnote_to_be_reexecuted": false,
    "source_hash": "bf062cce",
    "execution_start": 1645725260773,
    "execution_millis": 30,
    "deepnote_cell_type": "code"
   },
   "outputs": [
    {
     "output_type": "execute_result",
     "execution_count": 18,
     "data": {
      "application/vnd.deepnote.dataframe.v3+json": {
       "column_count": 4,
       "row_count": 4,
       "columns": [
        {
         "name": "Sales",
         "dtype": "float64",
         "stats": {
          "unique_count": 4,
          "nan_count": 0,
          "min": "-0.07831518858577673",
          "max": "1.0",
          "histogram": [
           {
            "bin_start": -0.07831518858577673,
            "bin_end": 0.029516330272800942,
            "count": 1
           },
           {
            "bin_start": 0.029516330272800942,
            "bin_end": 0.1373478491313786,
            "count": 1
           },
           {
            "bin_start": 0.1373478491313786,
            "bin_end": 0.24517936798995627,
            "count": 1
           },
           {
            "bin_start": 0.24517936798995627,
            "bin_end": 0.35301088684853393,
            "count": 0
           },
           {
            "bin_start": 0.35301088684853393,
            "bin_end": 0.4608424057071116,
            "count": 0
           },
           {
            "bin_start": 0.4608424057071116,
            "bin_end": 0.5686739245656893,
            "count": 0
           },
           {
            "bin_start": 0.5686739245656893,
            "bin_end": 0.676505443424267,
            "count": 0
           },
           {
            "bin_start": 0.676505443424267,
            "bin_end": 0.7843369622828447,
            "count": 0
           },
           {
            "bin_start": 0.7843369622828447,
            "bin_end": 0.8921684811414223,
            "count": 0
           },
           {
            "bin_start": 0.8921684811414223,
            "bin_end": 1,
            "count": 1
           }
          ]
         }
        },
        {
         "name": "Stores",
         "dtype": "float64",
         "stats": {
          "unique_count": 4,
          "nan_count": 0,
          "min": "-0.44616585302635814",
          "max": "1.0",
          "histogram": [
           {
            "bin_start": -0.44616585302635814,
            "bin_end": -0.3015492677237223,
            "count": 1
           },
           {
            "bin_start": -0.3015492677237223,
            "bin_end": -0.1569326824210865,
            "count": 0
           },
           {
            "bin_start": -0.1569326824210865,
            "bin_end": -0.012316097118450664,
            "count": 0
           },
           {
            "bin_start": -0.012316097118450664,
            "bin_end": 0.13230048818418516,
            "count": 1
           },
           {
            "bin_start": 0.13230048818418516,
            "bin_end": 0.27691707348682093,
            "count": 0
           },
           {
            "bin_start": 0.27691707348682093,
            "bin_end": 0.4215336587894568,
            "count": 0
           },
           {
            "bin_start": 0.4215336587894568,
            "bin_end": 0.5661502440920927,
            "count": 1
           },
           {
            "bin_start": 0.5661502440920927,
            "bin_end": 0.7107668293947285,
            "count": 0
           },
           {
            "bin_start": 0.7107668293947285,
            "bin_end": 0.8553834146973642,
            "count": 0
           },
           {
            "bin_start": 0.8553834146973642,
            "bin_end": 1,
            "count": 1
           }
          ]
         }
        },
        {
         "name": "Sales/Avg. Store",
         "dtype": "float64",
         "stats": {
          "unique_count": 4,
          "nan_count": 0,
          "min": "-0.44616585302635814",
          "max": "1.0",
          "histogram": [
           {
            "bin_start": -0.44616585302635814,
            "bin_end": -0.3015492677237223,
            "count": 1
           },
           {
            "bin_start": -0.3015492677237223,
            "bin_end": -0.1569326824210865,
            "count": 0
           },
           {
            "bin_start": -0.1569326824210865,
            "bin_end": -0.012316097118450664,
            "count": 1
           },
           {
            "bin_start": -0.012316097118450664,
            "bin_end": 0.13230048818418516,
            "count": 0
           },
           {
            "bin_start": 0.13230048818418516,
            "bin_end": 0.27691707348682093,
            "count": 1
           },
           {
            "bin_start": 0.27691707348682093,
            "bin_end": 0.4215336587894568,
            "count": 0
           },
           {
            "bin_start": 0.4215336587894568,
            "bin_end": 0.5661502440920927,
            "count": 0
           },
           {
            "bin_start": 0.5661502440920927,
            "bin_end": 0.7107668293947285,
            "count": 0
           },
           {
            "bin_start": 0.7107668293947285,
            "bin_end": 0.8553834146973642,
            "count": 0
           },
           {
            "bin_start": 0.8553834146973642,
            "bin_end": 1,
            "count": 1
           }
          ]
         }
        },
        {
         "name": "Store Count Growth",
         "dtype": "float64",
         "stats": {
          "unique_count": 4,
          "nan_count": 0,
          "min": "-0.07831518858577673",
          "max": "1.0",
          "histogram": [
           {
            "bin_start": -0.07831518858577673,
            "bin_end": 0.029516330272800942,
            "count": 2
           },
           {
            "bin_start": 0.029516330272800942,
            "bin_end": 0.1373478491313786,
            "count": 0
           },
           {
            "bin_start": 0.1373478491313786,
            "bin_end": 0.24517936798995627,
            "count": 0
           },
           {
            "bin_start": 0.24517936798995627,
            "bin_end": 0.35301088684853393,
            "count": 0
           },
           {
            "bin_start": 0.35301088684853393,
            "bin_end": 0.4608424057071116,
            "count": 0
           },
           {
            "bin_start": 0.4608424057071116,
            "bin_end": 0.5686739245656893,
            "count": 1
           },
           {
            "bin_start": 0.5686739245656893,
            "bin_end": 0.676505443424267,
            "count": 0
           },
           {
            "bin_start": 0.676505443424267,
            "bin_end": 0.7843369622828447,
            "count": 0
           },
           {
            "bin_start": 0.7843369622828447,
            "bin_end": 0.8921684811414223,
            "count": 0
           },
           {
            "bin_start": 0.8921684811414223,
            "bin_end": 1,
            "count": 1
           }
          ]
         }
        },
        {
         "name": "_deepnote_index_column",
         "dtype": "object"
        }
       ],
       "rows": [
        {
         "Sales": 1,
         "Stores": 0.06330142261164258,
         "Sales/Avg. Store": 0.22084728347216293,
         "Store Count Growth": -0.07831518858577673,
         "_deepnote_index_column": "Sales"
        },
        {
         "Sales": 0.06330142261164258,
         "Stores": 1,
         "Sales/Avg. Store": -0.44616585302635814,
         "Store Count Growth": 0.46513502356571534,
         "_deepnote_index_column": "Stores"
        },
        {
         "Sales": 0.22084728347216293,
         "Stores": -0.44616585302635814,
         "Sales/Avg. Store": 1,
         "Store Count Growth": -0.057068420703069944,
         "_deepnote_index_column": "Sales/Avg. Store"
        },
        {
         "Sales": -0.07831518858577673,
         "Stores": 0.46513502356571534,
         "Sales/Avg. Store": -0.057068420703069944,
         "Store Count Growth": 1,
         "_deepnote_index_column": "Store Count Growth"
        }
       ]
      },
      "text/plain": "                       Sales    Stores  Sales/Avg. Store  Store Count Growth\nSales               1.000000  0.063301          0.220847           -0.078315\nStores              0.063301  1.000000         -0.446166            0.465135\nSales/Avg. Store    0.220847 -0.446166          1.000000           -0.057068\nStore Count Growth -0.078315  0.465135         -0.057068            1.000000",
      "text/html": "<div>\n<style scoped>\n    .dataframe tbody tr th:only-of-type {\n        vertical-align: middle;\n    }\n\n    .dataframe tbody tr th {\n        vertical-align: top;\n    }\n\n    .dataframe thead th {\n        text-align: right;\n    }\n</style>\n<table border=\"1\" class=\"dataframe\">\n  <thead>\n    <tr style=\"text-align: right;\">\n      <th></th>\n      <th>Sales</th>\n      <th>Stores</th>\n      <th>Sales/Avg. Store</th>\n      <th>Store Count Growth</th>\n    </tr>\n  </thead>\n  <tbody>\n    <tr>\n      <th>Sales</th>\n      <td>1.000000</td>\n      <td>0.063301</td>\n      <td>0.220847</td>\n      <td>-0.078315</td>\n    </tr>\n    <tr>\n      <th>Stores</th>\n      <td>0.063301</td>\n      <td>1.000000</td>\n      <td>-0.446166</td>\n      <td>0.465135</td>\n    </tr>\n    <tr>\n      <th>Sales/Avg. Store</th>\n      <td>0.220847</td>\n      <td>-0.446166</td>\n      <td>1.000000</td>\n      <td>-0.057068</td>\n    </tr>\n    <tr>\n      <th>Store Count Growth</th>\n      <td>-0.078315</td>\n      <td>0.465135</td>\n      <td>-0.057068</td>\n      <td>1.000000</td>\n    </tr>\n  </tbody>\n</table>\n</div>"
     },
     "metadata": {}
    }
   ],
   "execution_count": null
  },
  {
   "cell_type": "code",
   "metadata": {
    "cell_id": "72dda234-6fca-477e-a088-99682e9766a2",
    "tags": [],
    "deepnote_to_be_reexecuted": false,
    "source_hash": "2e080f3d",
    "execution_start": 1645725260815,
    "deepnote_cell_height": 81.15625,
    "execution_millis": 878,
    "deepnote_cell_type": "code"
   },
   "source": "sns.jointplot(x=datos_scatter['Sales'],y= datos_scatter['Stores'],color=\"orangered\")",
   "outputs": [
    {
     "output_type": "execute_result",
     "execution_count": 19,
     "data": {
      "text/plain": "<seaborn.axisgrid.JointGrid at 0x7f116134c8d0>"
     },
     "metadata": {}
    },
    {
     "data": {
      "text/plain": "<Figure size 432x432 with 3 Axes>",
      "image/png": "[encoded data removed]"
     },
     "metadata": {
      "needs_background": "light",
      "image/png": {
       "width": 440,
       "height": 424
      }
     },
     "output_type": "display_data"
    }
   ],
   "execution_count": null
  },
  {
   "cell_type": "markdown",
   "source": "### 5. ¿Cuál es el rango que existe entre las ventas?",
   "metadata": {
    "cell_id": "d296130b-b739-4424-8c5d-8dc8b6fc8ee5",
    "tags": [],
    "deepnote_cell_height": 62.15625,
    "deepnote_cell_type": "markdown"
   }
  },
  {
   "cell_type": "markdown",
   "source": "##### El rango que hay entre las ventas máximas y mínimas, es de USD 641527",
   "metadata": {
    "cell_id": "fdb2631f-a5f7-4fba-b609-1c6c5f05d9d2",
    "tags": [],
    "deepnote_cell_type": "markdown"
   }
  },
  {
   "cell_type": "code",
   "metadata": {
    "cell_id": "277da6f7-0300-4156-91e5-9765eb1f3752",
    "tags": [],
    "deepnote_to_be_reexecuted": false,
    "source_hash": "97e97c89",
    "execution_start": 1645726317982,
    "deepnote_cell_height": 81.15625,
    "execution_millis": 5,
    "deepnote_cell_type": "code"
   },
   "source": "rango = datos['Sales'].max() - datos['Sales'].min()\nrango\n",
   "outputs": [
    {
     "output_type": "execute_result",
     "execution_count": 45,
     "data": {
      "text/plain": "641527"
     },
     "metadata": {}
    }
   ],
   "execution_count": null
  },
  {
   "cell_type": "markdown",
   "source": "### 6. ¿Cuáles son las 5 empresas que más tiendas físicas tienen? ¿Cuáles de ellas están dentro de las 5 empresas que más ventas tuvieron?",
   "metadata": {
    "cell_id": "6c36ddc3-51ef-4017-a6f9-06cbb8b970e4",
    "tags": [],
    "deepnote_cell_height": 94.15625,
    "deepnote_cell_type": "markdown"
   }
  },
  {
   "cell_type": "markdown",
   "source": "#### Orden de las 5 empresas que mas tiendas físicas tienen: Dollar Tree lidera con 14250, luego sigue Dollar General con 13350, continúa CSV incl. Target con 9813, y ya en la posición 4ta figura Walgreen boots con 8002, y por último de este ranking es Walmart US con 4574. \n#### Asimismo vemos que una de las empresas de este ranking también estuvo entre las que más ventas obtuvo, y ella es Wallmart US. ",
   "metadata": {
    "cell_id": "0446c073-6e42-4143-ace7-81d8db1b4b8b",
    "tags": [],
    "deepnote_cell_type": "markdown"
   }
  },
  {
   "cell_type": "code",
   "metadata": {
    "cell_id": "1295319d-09d0-42f0-9de0-ff0e689f400f",
    "tags": [],
    "deepnote_to_be_reexecuted": false,
    "source_hash": "f5d137a8",
    "execution_start": 1645725261479,
    "deepnote_cell_height": 81.15625,
    "execution_millis": 216,
    "deepnote_table_state": {
     "pageSize": 10,
     "pageIndex": 0,
     "filters": [],
     "sortBy": [
      {
       "id": "Stores",
       "type": "desc"
      }
     ]
    },
    "deepnote_table_loading": false,
    "deepnote_cell_type": "code"
   },
   "source": "datos_top5f = datos.sort_values('Stores', ascending = False) #Orden por las tiendas con mas tfisicas\ndatos_top5f.iloc[:5, :]   #top 5\n\n\n",
   "outputs": [
    {
     "output_type": "execute_result",
     "execution_count": 21,
     "data": {
      "application/vnd.deepnote.dataframe.v3+json": {
       "column_count": 6,
       "row_count": 5,
       "columns": [
        {
         "name": "Company",
         "dtype": "object",
         "stats": {
          "unique_count": 5,
          "nan_count": 0,
          "categories": [
           {
            "name": "Dollar Tree",
            "count": 1
           },
           {
            "name": "Dollar General",
            "count": 1
           },
           {
            "name": "3 others",
            "count": 3
           }
          ]
         }
        },
        {
         "name": "Sales",
         "dtype": "int64",
         "stats": {
          "unique_count": 5,
          "nan_count": 0,
          "min": "21464",
          "max": "658119",
          "histogram": [
           {
            "bin_start": 21464,
            "bin_end": 85129.5,
            "count": 4
           },
           {
            "bin_start": 85129.5,
            "bin_end": 148795,
            "count": 0
           },
           {
            "bin_start": 148795,
            "bin_end": 212460.5,
            "count": 0
           },
           {
            "bin_start": 212460.5,
            "bin_end": 276126,
            "count": 0
           },
           {
            "bin_start": 276126,
            "bin_end": 339791.5,
            "count": 0
           },
           {
            "bin_start": 339791.5,
            "bin_end": 403457,
            "count": 0
           },
           {
            "bin_start": 403457,
            "bin_end": 467122.5,
            "count": 0
           },
           {
            "bin_start": 467122.5,
            "bin_end": 530788,
            "count": 0
           },
           {
            "bin_start": 530788,
            "bin_end": 594453.5,
            "count": 0
           },
           {
            "bin_start": 594453.5,
            "bin_end": 658119,
            "count": 1
           }
          ]
         }
        },
        {
         "name": "Stores",
         "dtype": "float64",
         "stats": {
          "unique_count": 5,
          "nan_count": 0,
          "min": "4574.0",
          "max": "14250.0",
          "histogram": [
           {
            "bin_start": 4574,
            "bin_end": 5541.6,
            "count": 1
           },
           {
            "bin_start": 5541.6,
            "bin_end": 6509.2,
            "count": 0
           },
           {
            "bin_start": 6509.2,
            "bin_end": 7476.8,
            "count": 0
           },
           {
            "bin_start": 7476.8,
            "bin_end": 8444.4,
            "count": 1
           },
           {
            "bin_start": 8444.4,
            "bin_end": 9412,
            "count": 0
           },
           {
            "bin_start": 9412,
            "bin_end": 10379.6,
            "count": 1
           },
           {
            "bin_start": 10379.6,
            "bin_end": 11347.2,
            "count": 0
           },
           {
            "bin_start": 11347.2,
            "bin_end": 12314.8,
            "count": 0
           },
           {
            "bin_start": 12314.8,
            "bin_end": 13282.4,
            "count": 0
           },
           {
            "bin_start": 13282.4,
            "bin_end": 14250,
            "count": 2
           }
          ]
         }
        },
        {
         "name": "Sales/Avg. Store",
         "dtype": "float64",
         "stats": {
          "unique_count": 5,
          "nan_count": 0,
          "min": "1.56391854",
          "max": "65.64972497",
          "histogram": [
           {
            "bin_start": 1.56391854,
            "bin_end": 7.972499182999998,
            "count": 2
           },
           {
            "bin_start": 7.972499182999998,
            "bin_end": 14.381079825999997,
            "count": 2
           },
           {
            "bin_start": 14.381079825999997,
            "bin_end": 20.789660468999994,
            "count": 0
           },
           {
            "bin_start": 20.789660468999994,
            "bin_end": 27.198241111999995,
            "count": 0
           },
           {
            "bin_start": 27.198241111999995,
            "bin_end": 33.606821755,
            "count": 0
           },
           {
            "bin_start": 33.606821755,
            "bin_end": 40.01540239799999,
            "count": 0
           },
           {
            "bin_start": 40.01540239799999,
            "bin_end": 46.42398304099999,
            "count": 0
           },
           {
            "bin_start": 46.42398304099999,
            "bin_end": 52.83256368399999,
            "count": 0
           },
           {
            "bin_start": 52.83256368399999,
            "bin_end": 59.24114432699999,
            "count": 0
           },
           {
            "bin_start": 59.24114432699999,
            "bin_end": 65.64972497,
            "count": 1
           }
          ]
         }
        },
        {
         "name": "Store Count Growth",
         "dtype": "float64",
         "stats": {
          "unique_count": 5,
          "nan_count": 0,
          "min": "-0.01051069618",
          "max": "0.2556621881",
          "histogram": [
           {
            "bin_start": -0.01051069618,
            "bin_end": 0.016106592248000005,
            "count": 2
           },
           {
            "bin_start": 0.016106592248000005,
            "bin_end": 0.042723880676000005,
            "count": 0
           },
           {
            "bin_start": 0.042723880676000005,
            "bin_end": 0.06934116910400001,
            "count": 0
           },
           {
            "bin_start": 0.06934116910400001,
            "bin_end": 0.09595845753200001,
            "count": 1
           },
           {
            "bin_start": 0.09595845753200001,
            "bin_end": 0.12257574596000001,
            "count": 0
           },
           {
            "bin_start": 0.12257574596000001,
            "bin_end": 0.14919303438800002,
            "count": 1
           },
           {
            "bin_start": 0.14919303438800002,
            "bin_end": 0.175810322816,
            "count": 0
           },
           {
            "bin_start": 0.175810322816,
            "bin_end": 0.20242761124400002,
            "count": 0
           },
           {
            "bin_start": 0.20242761124400002,
            "bin_end": 0.22904489967200004,
            "count": 0
           },
           {
            "bin_start": 0.22904489967200004,
            "bin_end": 0.2556621881,
            "count": 1
           }
          ]
         }
        },
        {
         "name": "Category",
         "dtype": "object",
         "stats": {
          "unique_count": 3,
          "nan_count": 0,
          "categories": [
           {
            "name": "Dollar Stores",
            "count": 2
           },
           {
            "name": "Drug Stores",
            "count": 2
           },
           {
            "name": "Supercenters",
            "count": 1
           }
          ]
         }
        },
        {
         "name": "_deepnote_index_column",
         "dtype": "int64"
        }
       ],
       "rows": [
        {
         "Company": "Dollar Tree",
         "Sales": 21464,
         "Stores": 14250,
         "Sales/Avg. Store": 1.56391854,
         "Store Count Growth": 0.07962724449,
         "Category": "Dollar Stores",
         "_deepnote_index_column": 20
        },
        {
         "Company": "Dollar General",
         "Sales": 22234,
         "Stores": 13350,
         "Sales/Avg. Store": 1.768884999,
         "Store Count Growth": 0.1324115701,
         "Category": "Dollar Stores",
         "_deepnote_index_column": 19
        },
        {
         "Company": "CVS incl. Target",
         "Sales": 77792,
         "Stores": 9813,
         "Sales/Avg. Store": 8.825958702,
         "Store Count Growth": 0.2556621881,
         "Category": "Drug Stores",
         "_deepnote_index_column": 5
        },
        {
         "Company": "Walgreen Boots",
         "Sales": 78924,
         "Stores": 8002,
         "Sales/Avg. Store": 9.81092672,
         "Store Count Growth": -0.01051069618,
         "Category": "Drug Stores",
         "_deepnote_index_column": 4
        },
        {
         "Company": "Walmart US",
         "Sales": 658119,
         "Stores": 4574,
         "Sales/Avg. Store": 65.64972497,
         "Store Count Growth": 0.01284322409,
         "Category": "Supercenters",
         "_deepnote_index_column": 0
        }
       ]
      },
      "text/plain": "             Company   Sales   Stores  Sales/Avg. Store  Store Count Growth  \\\n20       Dollar Tree   21464  14250.0          1.563919            0.079627   \n19    Dollar General   22234  13350.0          1.768885            0.132412   \n5   CVS incl. Target   77792   9813.0          8.825959            0.255662   \n4     Walgreen Boots   78924   8002.0          9.810927           -0.010511   \n0         Walmart US  658119   4574.0         65.649725            0.012843   \n\n         Category  \n20  Dollar Stores  \n19  Dollar Stores  \n5     Drug Stores  \n4     Drug Stores  \n0    Supercenters  ",
      "text/html": "<div>\n<style scoped>\n    .dataframe tbody tr th:only-of-type {\n        vertical-align: middle;\n    }\n\n    .dataframe tbody tr th {\n        vertical-align: top;\n    }\n\n    .dataframe thead th {\n        text-align: right;\n    }\n</style>\n<table border=\"1\" class=\"dataframe\">\n  <thead>\n    <tr style=\"text-align: right;\">\n      <th></th>\n      <th>Company</th>\n      <th>Sales</th>\n      <th>Stores</th>\n      <th>Sales/Avg. Store</th>\n      <th>Store Count Growth</th>\n      <th>Category</th>\n    </tr>\n  </thead>\n  <tbody>\n    <tr>\n      <th>20</th>\n      <td>Dollar Tree</td>\n      <td>21464</td>\n      <td>14250.0</td>\n      <td>1.563919</td>\n      <td>0.079627</td>\n      <td>Dollar Stores</td>\n    </tr>\n    <tr>\n      <th>19</th>\n      <td>Dollar General</td>\n      <td>22234</td>\n      <td>13350.0</td>\n      <td>1.768885</td>\n      <td>0.132412</td>\n      <td>Dollar Stores</td>\n    </tr>\n    <tr>\n      <th>5</th>\n      <td>CVS incl. Target</td>\n      <td>77792</td>\n      <td>9813.0</td>\n      <td>8.825959</td>\n      <td>0.255662</td>\n      <td>Drug Stores</td>\n    </tr>\n    <tr>\n      <th>4</th>\n      <td>Walgreen Boots</td>\n      <td>78924</td>\n      <td>8002.0</td>\n      <td>9.810927</td>\n      <td>-0.010511</td>\n      <td>Drug Stores</td>\n    </tr>\n    <tr>\n      <th>0</th>\n      <td>Walmart US</td>\n      <td>658119</td>\n      <td>4574.0</td>\n      <td>65.649725</td>\n      <td>0.012843</td>\n      <td>Supercenters</td>\n    </tr>\n  </tbody>\n</table>\n</div>"
     },
     "metadata": {}
    }
   ],
   "execution_count": null
  },
  {
   "cell_type": "code",
   "source": "#Vemos en detalle y resaltado lo solicitado:\n\nprint(\"\\nModified Stlying DataFrame:\") \ndatos_top5f.style.highlight_max(axis=0)",
   "metadata": {
    "cell_id": "9a755d0e-9319-4ff1-bc25-8a625ea138bc",
    "tags": [],
    "deepnote_to_be_reexecuted": false,
    "source_hash": "4607ffa1",
    "execution_start": 1645725261487,
    "execution_millis": 210,
    "deepnote_cell_type": "code"
   },
   "outputs": [
    {
     "name": "stdout",
     "text": "\nModified Stlying DataFrame:\n",
     "output_type": "stream"
    },
    {
     "output_type": "execute_result",
     "execution_count": 22,
     "data": {
      "text/plain": "<pandas.io.formats.style.Styler at 0x7f11567b2d10>",
      "text/html": "<style  type=\"text/css\" >\n#T_5a1ad_row0_col2,#T_5a1ad_row2_col4,#T_5a1ad_row4_col1,#T_5a1ad_row20_col3{\n            background-color:  yellow;\n        }</style><table id=\"T_5a1ad_\" ><thead>    <tr>        <th class=\"blank level0\" ></th>        <th class=\"col_heading level0 col0\" >Company</th>        <th class=\"col_heading level0 col1\" >Sales</th>        <th class=\"col_heading level0 col2\" >Stores</th>        <th class=\"col_heading level0 col3\" >Sales/Avg. Store</th>        <th class=\"col_heading level0 col4\" >Store Count Growth</th>        <th class=\"col_heading level0 col5\" >Category</th>    </tr></thead><tbody>\n                <tr>\n                        <th id=\"T_5a1ad_level0_row0\" class=\"row_heading level0 row0\" >20</th>\n                        <td id=\"T_5a1ad_row0_col0\" class=\"data row0 col0\" >Dollar Tree</td>\n                        <td id=\"T_5a1ad_row0_col1\" class=\"data row0 col1\" >21464</td>\n                        <td id=\"T_5a1ad_row0_col2\" class=\"data row0 col2\" >14250.000000</td>\n                        <td id=\"T_5a1ad_row0_col3\" class=\"data row0 col3\" >1.563919</td>\n                        <td id=\"T_5a1ad_row0_col4\" class=\"data row0 col4\" >0.079627</td>\n                        <td id=\"T_5a1ad_row0_col5\" class=\"data row0 col5\" >Dollar Stores</td>\n            </tr>\n            <tr>\n                        <th id=\"T_5a1ad_level0_row1\" class=\"row_heading level0 row1\" >19</th>\n                        <td id=\"T_5a1ad_row1_col0\" class=\"data row1 col0\" >Dollar General</td>\n                        <td id=\"T_5a1ad_row1_col1\" class=\"data row1 col1\" >22234</td>\n                        <td id=\"T_5a1ad_row1_col2\" class=\"data row1 col2\" >13350.000000</td>\n                        <td id=\"T_5a1ad_row1_col3\" class=\"data row1 col3\" >1.768885</td>\n                        <td id=\"T_5a1ad_row1_col4\" class=\"data row1 col4\" >0.132412</td>\n                        <td id=\"T_5a1ad_row1_col5\" class=\"data row1 col5\" >Dollar Stores</td>\n            </tr>\n            <tr>\n                        <th id=\"T_5a1ad_level0_row2\" class=\"row_heading level0 row2\" >5</th>\n                        <td id=\"T_5a1ad_row2_col0\" class=\"data row2 col0\" >CVS incl. Target</td>\n                        <td id=\"T_5a1ad_row2_col1\" class=\"data row2 col1\" >77792</td>\n                        <td id=\"T_5a1ad_row2_col2\" class=\"data row2 col2\" >9813.000000</td>\n                        <td id=\"T_5a1ad_row2_col3\" class=\"data row2 col3\" >8.825959</td>\n                        <td id=\"T_5a1ad_row2_col4\" class=\"data row2 col4\" >0.255662</td>\n                        <td id=\"T_5a1ad_row2_col5\" class=\"data row2 col5\" >Drug Stores</td>\n            </tr>\n            <tr>\n                        <th id=\"T_5a1ad_level0_row3\" class=\"row_heading level0 row3\" >4</th>\n                        <td id=\"T_5a1ad_row3_col0\" class=\"data row3 col0\" >Walgreen Boots</td>\n                        <td id=\"T_5a1ad_row3_col1\" class=\"data row3 col1\" >78924</td>\n                        <td id=\"T_5a1ad_row3_col2\" class=\"data row3 col2\" >8002.000000</td>\n                        <td id=\"T_5a1ad_row3_col3\" class=\"data row3 col3\" >9.810927</td>\n                        <td id=\"T_5a1ad_row3_col4\" class=\"data row3 col4\" >-0.010511</td>\n                        <td id=\"T_5a1ad_row3_col5\" class=\"data row3 col5\" >Drug Stores</td>\n            </tr>\n            <tr>\n                        <th id=\"T_5a1ad_level0_row4\" class=\"row_heading level0 row4\" >0</th>\n                        <td id=\"T_5a1ad_row4_col0\" class=\"data row4 col0\" >Walmart US</td>\n                        <td id=\"T_5a1ad_row4_col1\" class=\"data row4 col1\" >658119</td>\n                        <td id=\"T_5a1ad_row4_col2\" class=\"data row4 col2\" >4574.000000</td>\n                        <td id=\"T_5a1ad_row4_col3\" class=\"data row4 col3\" >65.649725</td>\n                        <td id=\"T_5a1ad_row4_col4\" class=\"data row4 col4\" >0.012843</td>\n                        <td id=\"T_5a1ad_row4_col5\" class=\"data row4 col5\" >Supercenters</td>\n            </tr>\n            <tr>\n                        <th id=\"T_5a1ad_level0_row5\" class=\"row_heading level0 row5\" >14</th>\n                        <td id=\"T_5a1ad_row5_col0\" class=\"data row5 col0\" >Rite Aid</td>\n                        <td id=\"T_5a1ad_row5_col1\" class=\"data row5 col1\" >27486</td>\n                        <td id=\"T_5a1ad_row5_col2\" class=\"data row5 col2\" >4553.000000</td>\n                        <td id=\"T_5a1ad_row5_col3\" class=\"data row5 col3\" >6.025649</td>\n                        <td id=\"T_5a1ad_row5_col4\" class=\"data row5 col4\" >-0.003720</td>\n                        <td id=\"T_5a1ad_row5_col5\" class=\"data row5 col5\" >Drug Stores</td>\n            </tr>\n            <tr>\n                        <th id=\"T_5a1ad_level0_row6\" class=\"row_heading level0 row6\" >1</th>\n                        <td id=\"T_5a1ad_row6_col0\" class=\"data row6 col0\" >Kroger</td>\n                        <td id=\"T_5a1ad_row6_col1\" class=\"data row6 col1\" >115037</td>\n                        <td id=\"T_5a1ad_row6_col2\" class=\"data row6 col2\" >3931.000000</td>\n                        <td id=\"T_5a1ad_row6_col3\" class=\"data row6 col3\" >30.031850</td>\n                        <td id=\"T_5a1ad_row6_col4\" class=\"data row6 col4\" >0.053887</td>\n                        <td id=\"T_5a1ad_row6_col5\" class=\"data row6 col5\" >Grocery</td>\n            </tr>\n            <tr>\n                        <th id=\"T_5a1ad_level0_row7\" class=\"row_heading level0 row7\" >17</th>\n                        <td id=\"T_5a1ad_row7_col0\" class=\"data row7 col0\" >TJX</td>\n                        <td id=\"T_5a1ad_row7_col1\" class=\"data row7 col1\" >25012</td>\n                        <td id=\"T_5a1ad_row7_col2\" class=\"data row7 col2\" >2770.000000</td>\n                        <td id=\"T_5a1ad_row7_col3\" class=\"data row7 col3\" >9.369545</td>\n                        <td id=\"T_5a1ad_row7_col4\" class=\"data row7 col4\" >0.078241</td>\n                        <td id=\"T_5a1ad_row7_col5\" class=\"data row7 col5\" >Apparel</td>\n            </tr>\n            <tr>\n                        <th id=\"T_5a1ad_level0_row8\" class=\"row_heading level0 row8\" >9</th>\n                        <td id=\"T_5a1ad_row8_col0\" class=\"data row8 col0\" >Albertsons</td>\n                        <td id=\"T_5a1ad_row8_col1\" class=\"data row8 col1\" >56829</td>\n                        <td id=\"T_5a1ad_row8_col2\" class=\"data row8 col2\" >2326.000000</td>\n                        <td id=\"T_5a1ad_row8_col3\" class=\"data row8 col3\" >23.877731</td>\n                        <td id=\"T_5a1ad_row8_col4\" class=\"data row8 col4\" >-0.044371</td>\n                        <td id=\"T_5a1ad_row8_col5\" class=\"data row8 col5\" >Grocery</td>\n            </tr>\n            <tr>\n                        <th id=\"T_5a1ad_level0_row9\" class=\"row_heading level0 row9\" >18</th>\n                        <td id=\"T_5a1ad_row9_col0\" class=\"data row9 col0\" >Aldi</td>\n                        <td id=\"T_5a1ad_row9_col1\" class=\"data row9 col1\" >24402</td>\n                        <td id=\"T_5a1ad_row9_col2\" class=\"data row9 col2\" >2021.000000</td>\n                        <td id=\"T_5a1ad_row9_col3\" class=\"data row9 col3\" >12.715998</td>\n                        <td id=\"T_5a1ad_row9_col4\" class=\"data row9 col4\" >0.112273</td>\n                        <td id=\"T_5a1ad_row9_col5\" class=\"data row9 col5\" >Grocery</td>\n            </tr>\n            <tr>\n                        <th id=\"T_5a1ad_level0_row10\" class=\"row_heading level0 row10\" >3</th>\n                        <td id=\"T_5a1ad_row10_col0\" class=\"data row10 col0\" >Home Depot</td>\n                        <td id=\"T_5a1ad_row10_col1\" class=\"data row10 col1\" >83976</td>\n                        <td id=\"T_5a1ad_row10_col2\" class=\"data row10 col2\" >1965.000000</td>\n                        <td id=\"T_5a1ad_row10_col3\" class=\"data row10 col3\" >42.735878</td>\n                        <td id=\"T_5a1ad_row10_col4\" class=\"data row10 col4\" >0.000000</td>\n                        <td id=\"T_5a1ad_row10_col5\" class=\"data row10 col5\" >Home Improvement</td>\n            </tr>\n            <tr>\n                        <th id=\"T_5a1ad_level0_row11\" class=\"row_heading level0 row11\" >8</th>\n                        <td id=\"T_5a1ad_row11_col0\" class=\"data row11 col0\" >Lowe's</td>\n                        <td id=\"T_5a1ad_row11_col1\" class=\"data row11 col1\" >60311</td>\n                        <td id=\"T_5a1ad_row11_col2\" class=\"data row11 col2\" >1828.000000</td>\n                        <td id=\"T_5a1ad_row11_col3\" class=\"data row11 col3\" >33.311792</td>\n                        <td id=\"T_5a1ad_row11_col4\" class=\"data row11 col4\" >0.019520</td>\n                        <td id=\"T_5a1ad_row11_col5\" class=\"data row11 col5\" >Home Improvement</td>\n            </tr>\n            <tr>\n                        <th id=\"T_5a1ad_level0_row12\" class=\"row_heading level0 row12\" >7</th>\n                        <td id=\"T_5a1ad_row12_col0\" class=\"data row12 col0\" >Target</td>\n                        <td id=\"T_5a1ad_row12_col1\" class=\"data row12 col1\" >71208</td>\n                        <td id=\"T_5a1ad_row12_col2\" class=\"data row12 col2\" >1772.000000</td>\n                        <td id=\"T_5a1ad_row12_col3\" class=\"data row12 col3\" >39.982033</td>\n                        <td id=\"T_5a1ad_row12_col4\" class=\"data row12 col4\" >-0.010056</td>\n                        <td id=\"T_5a1ad_row12_col5\" class=\"data row12 col5\" >Supercenters</td>\n            </tr>\n            <tr>\n                        <th id=\"T_5a1ad_level0_row13\" class=\"row_heading level0 row13\" >12</th>\n                        <td id=\"T_5a1ad_row13_col0\" class=\"data row13 col0\" >Best Buy</td>\n                        <td id=\"T_5a1ad_row13_col1\" class=\"data row13 col1\" >34980</td>\n                        <td id=\"T_5a1ad_row13_col2\" class=\"data row13 col2\" >1389.000000</td>\n                        <td id=\"T_5a1ad_row13_col3\" class=\"data row13 col3\" >24.685956</td>\n                        <td id=\"T_5a1ad_row13_col4\" class=\"data row13 col4\" >-0.038754</td>\n                        <td id=\"T_5a1ad_row13_col5\" class=\"data row13 col5\" >Electronics</td>\n            </tr>\n            <tr>\n                        <th id=\"T_5a1ad_level0_row14\" class=\"row_heading level0 row14\" >13</th>\n                        <td id=\"T_5a1ad_row14_col0\" class=\"data row14 col0\" >Publix</td>\n                        <td id=\"T_5a1ad_row14_col1\" class=\"data row14 col1\" >34408</td>\n                        <td id=\"T_5a1ad_row14_col2\" class=\"data row14 col2\" >1351.000000</td>\n                        <td id=\"T_5a1ad_row14_col3\" class=\"data row14 col3\" >25.997733</td>\n                        <td id=\"T_5a1ad_row14_col4\" class=\"data row14 col4\" >0.042438</td>\n                        <td id=\"T_5a1ad_row14_col5\" class=\"data row14 col5\" >Grocery</td>\n            </tr>\n            <tr>\n                        <th id=\"T_5a1ad_level0_row15\" class=\"row_heading level0 row15\" >23</th>\n                        <td id=\"T_5a1ad_row15_col0\" class=\"data row15 col0\" >Delhaize</td>\n                        <td id=\"T_5a1ad_row15_col1\" class=\"data row15 col1\" >18201</td>\n                        <td id=\"T_5a1ad_row15_col2\" class=\"data row15 col2\" >1280.000000</td>\n                        <td id=\"T_5a1ad_row15_col3\" class=\"data row15 col3\" >13.783415</td>\n                        <td id=\"T_5a1ad_row15_col4\" class=\"data row15 col4\" >-0.059515</td>\n                        <td id=\"T_5a1ad_row15_col5\" class=\"data row15 col5\" >Grocery</td>\n            </tr>\n            <tr>\n                        <th id=\"T_5a1ad_level0_row16\" class=\"row_heading level0 row16\" >22</th>\n                        <td id=\"T_5a1ad_row16_col0\" class=\"data row16 col0\" >Kohl's</td>\n                        <td id=\"T_5a1ad_row16_col1\" class=\"data row16 col1\" >19060</td>\n                        <td id=\"T_5a1ad_row16_col2\" class=\"data row16 col2\" >1169.000000</td>\n                        <td id=\"T_5a1ad_row16_col3\" class=\"data row16 col3\" >16.353496</td>\n                        <td id=\"T_5a1ad_row16_col4\" class=\"data row16 col4\" >0.006024</td>\n                        <td id=\"T_5a1ad_row16_col5\" class=\"data row16 col5\" >Department Stores</td>\n            </tr>\n            <tr>\n                        <th id=\"T_5a1ad_level0_row17\" class=\"row_heading level0 row17\" >16</th>\n                        <td id=\"T_5a1ad_row17_col0\" class=\"data row17 col0\" >Macy's</td>\n                        <td id=\"T_5a1ad_row17_col1\" class=\"data row17 col1\" >26028</td>\n                        <td id=\"T_5a1ad_row17_col2\" class=\"data row17 col2\" >889.000000</td>\n                        <td id=\"T_5a1ad_row17_col3\" class=\"data row17 col3\" >30.442105</td>\n                        <td id=\"T_5a1ad_row17_col4\" class=\"data row17 col4\" >0.082826</td>\n                        <td id=\"T_5a1ad_row17_col5\" class=\"data row17 col5\" >Department Stores</td>\n            </tr>\n            <tr>\n                        <th id=\"T_5a1ad_level0_row18\" class=\"row_heading level0 row18\" >15</th>\n                        <td id=\"T_5a1ad_row18_col0\" class=\"data row18 col0\" >Ahold</td>\n                        <td id=\"T_5a1ad_row18_col1\" class=\"data row18 col1\" >26903</td>\n                        <td id=\"T_5a1ad_row18_col2\" class=\"data row18 col2\" >794.000000</td>\n                        <td id=\"T_5a1ad_row18_col3\" class=\"data row18 col3\" >34.446863</td>\n                        <td id=\"T_5a1ad_row18_col4\" class=\"data row18 col4\" >0.033854</td>\n                        <td id=\"T_5a1ad_row18_col5\" class=\"data row18 col5\" >Grocery</td>\n            </tr>\n            <tr>\n                        <th id=\"T_5a1ad_level0_row19\" class=\"row_heading level0 row19\" >10</th>\n                        <td id=\"T_5a1ad_row19_col0\" class=\"data row19 col0\" >Sam's Club</td>\n                        <td id=\"T_5a1ad_row19_col1\" class=\"data row19 col1\" >56828</td>\n                        <td id=\"T_5a1ad_row19_col2\" class=\"data row19 col2\" >655.000000</td>\n                        <td id=\"T_5a1ad_row19_col3\" class=\"data row19 col3\" >87.293395</td>\n                        <td id=\"T_5a1ad_row19_col4\" class=\"data row19 col4\" >0.012365</td>\n                        <td id=\"T_5a1ad_row19_col5\" class=\"data row19 col5\" >Warehouse Clubs</td>\n            </tr>\n            <tr>\n                        <th id=\"T_5a1ad_level0_row20\" class=\"row_heading level0 row20\" >2</th>\n                        <td id=\"T_5a1ad_row20_col0\" class=\"data row20 col0\" >Costco</td>\n                        <td id=\"T_5a1ad_row20_col1\" class=\"data row20 col1\" >90048</td>\n                        <td id=\"T_5a1ad_row20_col2\" class=\"data row20 col2\" >495.000000</td>\n                        <td id=\"T_5a1ad_row20_col3\" class=\"data row20 col3\" >187.795620</td>\n                        <td id=\"T_5a1ad_row20_col4\" class=\"data row20 col4\" >0.066810</td>\n                        <td id=\"T_5a1ad_row20_col5\" class=\"data row20 col5\" >Warehouse Club</td>\n            </tr>\n            <tr>\n                        <th id=\"T_5a1ad_level0_row21\" class=\"row_heading level0 row21\" >21</th>\n                        <td id=\"T_5a1ad_row21_col0\" class=\"data row21 col0\" >HEB</td>\n                        <td id=\"T_5a1ad_row21_col1\" class=\"data row21 col1\" >21384</td>\n                        <td id=\"T_5a1ad_row21_col2\" class=\"data row21 col2\" >323.000000</td>\n                        <td id=\"T_5a1ad_row21_col3\" class=\"data row21 col3\" >66.825000</td>\n                        <td id=\"T_5a1ad_row21_col4\" class=\"data row21 col4\" >0.018927</td>\n                        <td id=\"T_5a1ad_row21_col5\" class=\"data row21 col5\" >Grocery</td>\n            </tr>\n            <tr>\n                        <th id=\"T_5a1ad_level0_row22\" class=\"row_heading level0 row22\" >24</th>\n                        <td id=\"T_5a1ad_row22_col0\" class=\"data row22 col0\" >Meijer</td>\n                        <td id=\"T_5a1ad_row22_col1\" class=\"data row22 col1\" >16592</td>\n                        <td id=\"T_5a1ad_row22_col2\" class=\"data row22 col2\" >231.000000</td>\n                        <td id=\"T_5a1ad_row22_col3\" class=\"data row22 col3\" >74.738739</td>\n                        <td id=\"T_5a1ad_row22_col4\" class=\"data row22 col4\" >0.084507</td>\n                        <td id=\"T_5a1ad_row22_col5\" class=\"data row22 col5\" >Supercenters</td>\n            </tr>\n            <tr>\n                        <th id=\"T_5a1ad_level0_row23\" class=\"row_heading level0 row23\" >6</th>\n                        <td id=\"T_5a1ad_row23_col0\" class=\"data row23 col0\" >Amazon</td>\n                        <td id=\"T_5a1ad_row23_col1\" class=\"data row23 col1\" >71687</td>\n                        <td id=\"T_5a1ad_row23_col2\" class=\"data row23 col2\" >nan</td>\n                        <td id=\"T_5a1ad_row23_col3\" class=\"data row23 col3\" >nan</td>\n                        <td id=\"T_5a1ad_row23_col4\" class=\"data row23 col4\" >nan</td>\n                        <td id=\"T_5a1ad_row23_col5\" class=\"data row23 col5\" >Electronic/Mail Order</td>\n            </tr>\n            <tr>\n                        <th id=\"T_5a1ad_level0_row24\" class=\"row_heading level0 row24\" >11</th>\n                        <td id=\"T_5a1ad_row24_col0\" class=\"data row24 col0\" >Apple incl. Online</td>\n                        <td id=\"T_5a1ad_row24_col1\" class=\"data row24 col1\" >37664</td>\n                        <td id=\"T_5a1ad_row24_col2\" class=\"data row24 col2\" >nan</td>\n                        <td id=\"T_5a1ad_row24_col3\" class=\"data row24 col3\" >nan</td>\n                        <td id=\"T_5a1ad_row24_col4\" class=\"data row24 col4\" >nan</td>\n                        <td id=\"T_5a1ad_row24_col5\" class=\"data row24 col5\" >nan</td>\n            </tr>\n    </tbody></table>"
     },
     "metadata": {}
    }
   ],
   "execution_count": null
  },
  {
   "cell_type": "markdown",
   "source": "## II. Preguntas opcionales",
   "metadata": {
    "cell_id": "7d1d5db9-ad1d-4081-968b-bea1357e236a",
    "tags": [],
    "deepnote_cell_height": 70.171875,
    "deepnote_cell_type": "markdown"
   }
  },
  {
   "cell_type": "markdown",
   "source": "### 7. ¿Qué categoría de compañía generó más ventas?",
   "metadata": {
    "cell_id": "27e5ddcb-8674-4809-844e-8c3442430be1",
    "tags": [],
    "deepnote_cell_height": 62.15625,
    "deepnote_cell_type": "markdown"
   }
  },
  {
   "cell_type": "markdown",
   "source": "#### La categoria que más ventas tuvo fue \"Supercenters\" con un total de USD 745919, luego sigue \"Grocery\", con  297164... ",
   "metadata": {
    "cell_id": "8d940168-05ac-43b5-9d4e-56e0d31da3d1",
    "tags": [],
    "deepnote_cell_type": "markdown"
   }
  },
  {
   "cell_type": "code",
   "metadata": {
    "cell_id": "fcc0ff72-f954-4023-b187-f43c7ecc77ce",
    "tags": [],
    "deepnote_to_be_reexecuted": false,
    "source_hash": "a6acbcb",
    "execution_start": 1645725261611,
    "deepnote_cell_height": 81.15625,
    "execution_millis": 89,
    "deepnote_table_state": {
     "pageSize": 10,
     "pageIndex": 0,
     "filters": [],
     "sortBy": []
    },
    "deepnote_table_loading": false,
    "deepnote_cell_type": "code"
   },
   "source": "datos_cat = datos_sorted.groupby(['Category']).agg({'Sales' : 'sum'})\ndatos_cat = datos_cat.reset_index()\ndatos_cat = datos_cat.sort_values('Sales',ascending=False)\ndatos_cat\n\n#Distinción por degrade de color: \ndatos_cat2 = sns.light_palette(\"orange\", as_cmap=True)  \nprint(\"\\nModified Stlying DataFrame:\") \ndatos_cat.style.background_gradient(cmap=datos_cat2).set_precision(2)",
   "outputs": [
    {
     "name": "stdout",
     "text": "\nModified Stlying DataFrame:\n",
     "output_type": "stream"
    },
    {
     "output_type": "execute_result",
     "execution_count": 23,
     "data": {
      "text/plain": "<pandas.io.formats.style.Styler at 0x7f115670dd50>",
      "text/html": "<style  type=\"text/css\" >\n#T_fbeb1_row0_col1{\n            background-color:  #ffa500;\n            color:  #000000;\n        }#T_fbeb1_row1_col1{\n            background-color:  #f7d495;\n            color:  #000000;\n        }#T_fbeb1_row2_col1{\n            background-color:  #f6e0ba;\n            color:  #000000;\n        }#T_fbeb1_row3_col1{\n            background-color:  #f5e4c7;\n            color:  #000000;\n        }#T_fbeb1_row4_col1{\n            background-color:  #f4e9d9;\n            color:  #000000;\n        }#T_fbeb1_row5_col1{\n            background-color:  #f4ebdf;\n            color:  #000000;\n        }#T_fbeb1_row6_col1{\n            background-color:  #f3ede4;\n            color:  #000000;\n        }#T_fbeb1_row7_col1{\n            background-color:  #f3eee8;\n            color:  #000000;\n        }#T_fbeb1_row8_col1{\n            background-color:  #f3eee9;\n            color:  #000000;\n        }#T_fbeb1_row9_col1{\n            background-color:  #f3efec;\n            color:  #000000;\n        }#T_fbeb1_row10_col1{\n            background-color:  #f3f0ee;\n            color:  #000000;\n        }</style><table id=\"T_fbeb1_\" ><thead>    <tr>        <th class=\"blank level0\" ></th>        <th class=\"col_heading level0 col0\" >Category</th>        <th class=\"col_heading level0 col1\" >Sales</th>    </tr></thead><tbody>\n                <tr>\n                        <th id=\"T_fbeb1_level0_row0\" class=\"row_heading level0 row0\" >8</th>\n                        <td id=\"T_fbeb1_row0_col0\" class=\"data row0 col0\" >Supercenters</td>\n                        <td id=\"T_fbeb1_row0_col1\" class=\"data row0 col1\" >745919</td>\n            </tr>\n            <tr>\n                        <th id=\"T_fbeb1_level0_row1\" class=\"row_heading level0 row1\" >6</th>\n                        <td id=\"T_fbeb1_row1_col0\" class=\"data row1 col0\" >Grocery</td>\n                        <td id=\"T_fbeb1_row1_col1\" class=\"data row1 col1\" >297164</td>\n            </tr>\n            <tr>\n                        <th id=\"T_fbeb1_level0_row2\" class=\"row_heading level0 row2\" >3</th>\n                        <td id=\"T_fbeb1_row2_col0\" class=\"data row2 col0\" >Drug Stores</td>\n                        <td id=\"T_fbeb1_row2_col1\" class=\"data row2 col1\" >184202</td>\n            </tr>\n            <tr>\n                        <th id=\"T_fbeb1_level0_row3\" class=\"row_heading level0 row3\" >7</th>\n                        <td id=\"T_fbeb1_row3_col0\" class=\"data row3 col0\" >Home Improvement</td>\n                        <td id=\"T_fbeb1_row3_col1\" class=\"data row3 col1\" >144287</td>\n            </tr>\n            <tr>\n                        <th id=\"T_fbeb1_level0_row4\" class=\"row_heading level0 row4\" >9</th>\n                        <td id=\"T_fbeb1_row4_col0\" class=\"data row4 col0\" >Warehouse Club</td>\n                        <td id=\"T_fbeb1_row4_col1\" class=\"data row4 col1\" >90048</td>\n            </tr>\n            <tr>\n                        <th id=\"T_fbeb1_level0_row5\" class=\"row_heading level0 row5\" >4</th>\n                        <td id=\"T_fbeb1_row5_col0\" class=\"data row5 col0\" >Electronic/Mail Order</td>\n                        <td id=\"T_fbeb1_row5_col1\" class=\"data row5 col1\" >71687</td>\n            </tr>\n            <tr>\n                        <th id=\"T_fbeb1_level0_row6\" class=\"row_heading level0 row6\" >10</th>\n                        <td id=\"T_fbeb1_row6_col0\" class=\"data row6 col0\" >Warehouse Clubs</td>\n                        <td id=\"T_fbeb1_row6_col1\" class=\"data row6 col1\" >56828</td>\n            </tr>\n            <tr>\n                        <th id=\"T_fbeb1_level0_row7\" class=\"row_heading level0 row7\" >1</th>\n                        <td id=\"T_fbeb1_row7_col0\" class=\"data row7 col0\" >Department Stores</td>\n                        <td id=\"T_fbeb1_row7_col1\" class=\"data row7 col1\" >45088</td>\n            </tr>\n            <tr>\n                        <th id=\"T_fbeb1_level0_row8\" class=\"row_heading level0 row8\" >2</th>\n                        <td id=\"T_fbeb1_row8_col0\" class=\"data row8 col0\" >Dollar Stores</td>\n                        <td id=\"T_fbeb1_row8_col1\" class=\"data row8 col1\" >43698</td>\n            </tr>\n            <tr>\n                        <th id=\"T_fbeb1_level0_row9\" class=\"row_heading level0 row9\" >5</th>\n                        <td id=\"T_fbeb1_row9_col0\" class=\"data row9 col0\" >Electronics</td>\n                        <td id=\"T_fbeb1_row9_col1\" class=\"data row9 col1\" >34980</td>\n            </tr>\n            <tr>\n                        <th id=\"T_fbeb1_level0_row10\" class=\"row_heading level0 row10\" >0</th>\n                        <td id=\"T_fbeb1_row10_col0\" class=\"data row10 col0\" >Apparel</td>\n                        <td id=\"T_fbeb1_row10_col1\" class=\"data row10 col1\" >25012</td>\n            </tr>\n    </tbody></table>"
     },
     "metadata": {}
    }
   ],
   "execution_count": null
  },
  {
   "cell_type": "markdown",
   "source": "### 8. ¿Cuál es la compañía que en relación con su cantidad de tiendas físicas genera más ventas?",
   "metadata": {
    "cell_id": "33668883-9f01-485c-bdf9-822cd13ad952",
    "tags": [],
    "deepnote_cell_height": 94.15625,
    "deepnote_cell_type": "markdown"
   }
  },
  {
   "cell_type": "markdown",
   "source": "#### Puede verse que la compañia en relación a sus tiendas físicas que genera más venta es \"Costco\" liderando el ranking en cuánto a estas caracteristicas. ",
   "metadata": {
    "cell_id": "52342e58-9884-48ec-ba61-aa053f5194cc",
    "tags": [],
    "deepnote_cell_type": "markdown"
   }
  },
  {
   "cell_type": "code",
   "metadata": {
    "cell_id": "903008ff-c22d-431e-8130-a954a94b16e8",
    "tags": [],
    "deepnote_to_be_reexecuted": false,
    "source_hash": "ea06c8c5",
    "execution_start": 1645725261676,
    "deepnote_cell_height": 81.15625,
    "execution_millis": 25,
    "deepnote_table_state": {
     "pageSize": 10,
     "pageIndex": 2,
     "filters": [],
     "sortBy": []
    },
    "deepnote_table_loading": false,
    "deepnote_cell_type": "code"
   },
   "source": "datos_com_ventas = datos_sorted.groupby(['Company']).agg({'Sales/Avg. Store': 'sum'})\ndatos_com_ventas = datos_com_ventas.reset_index()\ndatos_com_ventas = datos_com_ventas.sort_values('Sales/Avg. Store',ascending=False)\ndatos_com_ventas",
   "outputs": [
    {
     "output_type": "execute_result",
     "execution_count": 101,
     "data": {
      "application/vnd.deepnote.dataframe.v3+json": {
       "column_count": 2,
       "row_count": 25,
       "columns": [
        {
         "name": "Company",
         "dtype": "object",
         "stats": {
          "unique_count": 25,
          "nan_count": 0,
          "categories": [
           {
            "name": "Costco",
            "count": 1
           },
           {
            "name": "Sam's Club",
            "count": 1
           },
           {
            "name": "23 others",
            "count": 23
           }
          ]
         }
        },
        {
         "name": "Sales/Avg. Store",
         "dtype": "float64",
         "stats": {
          "unique_count": 24,
          "nan_count": 0,
          "min": "0.0",
          "max": "187.7956204",
          "histogram": [
           {
            "bin_start": 0,
            "bin_end": 18.77956204,
            "count": 11
           },
           {
            "bin_start": 18.77956204,
            "bin_end": 37.55912408,
            "count": 7
           },
           {
            "bin_start": 37.55912408,
            "bin_end": 56.33868611999999,
            "count": 2
           },
           {
            "bin_start": 56.33868611999999,
            "bin_end": 75.11824816,
            "count": 3
           },
           {
            "bin_start": 75.11824816,
            "bin_end": 93.8978102,
            "count": 1
           },
           {
            "bin_start": 93.8978102,
            "bin_end": 112.67737223999998,
            "count": 0
           },
           {
            "bin_start": 112.67737223999998,
            "bin_end": 131.45693427999998,
            "count": 0
           },
           {
            "bin_start": 131.45693427999998,
            "bin_end": 150.23649632,
            "count": 0
           },
           {
            "bin_start": 150.23649632,
            "bin_end": 169.01605836,
            "count": 0
           },
           {
            "bin_start": 169.01605836,
            "bin_end": 187.7956204,
            "count": 1
           }
          ]
         }
        },
        {
         "name": "_deepnote_index_column",
         "dtype": "int64"
        }
       ],
       "rows": [
        {
         "Company": "Rite Aid",
         "Sales/Avg. Store": 6.025649457,
         "_deepnote_index_column": 19
        },
        {
         "Company": "Dollar General",
         "Sales/Avg. Store": 1.768884999,
         "_deepnote_index_column": 9
        },
        {
         "Company": "Dollar Tree",
         "Sales/Avg. Store": 1.56391854,
         "_deepnote_index_column": 10
        },
        {
         "Company": "Apple incl. Online",
         "Sales/Avg. Store": 0,
         "_deepnote_index_column": 4
        },
        {
         "Company": "Amazon",
         "Sales/Avg. Store": 0,
         "_deepnote_index_column": 3
        }
       ]
      },
      "text/plain": "               Company  Sales/Avg. Store\n7               Costco        187.795620\n20          Sam's Club         87.293395\n17              Meijer         74.738739\n11                 HEB         66.825000\n24          Walmart US         65.649725\n12          Home Depot         42.735878\n22              Target         39.982033\n0                Ahold         34.446863\n15              Lowe's         33.311792\n16              Macy's         30.442105\n14              Kroger         30.031850\n18              Publix         25.997733\n5             Best Buy         24.685956\n1           Albertsons         23.877731\n13              Kohl's         16.353496\n8             Delhaize         13.783415\n2                 Aldi         12.715998\n23      Walgreen Boots          9.810927\n21                 TJX          9.369545\n6     CVS incl. Target          8.825959\n19            Rite Aid          6.025649\n9       Dollar General          1.768885\n10         Dollar Tree          1.563919\n4   Apple incl. Online          0.000000\n3               Amazon          0.000000",
      "text/html": "<div>\n<style scoped>\n    .dataframe tbody tr th:only-of-type {\n        vertical-align: middle;\n    }\n\n    .dataframe tbody tr th {\n        vertical-align: top;\n    }\n\n    .dataframe thead th {\n        text-align: right;\n    }\n</style>\n<table border=\"1\" class=\"dataframe\">\n  <thead>\n    <tr style=\"text-align: right;\">\n      <th></th>\n      <th>Company</th>\n      <th>Sales/Avg. Store</th>\n    </tr>\n  </thead>\n  <tbody>\n    <tr>\n      <th>7</th>\n      <td>Costco</td>\n      <td>187.795620</td>\n    </tr>\n    <tr>\n      <th>20</th>\n      <td>Sam's Club</td>\n      <td>87.293395</td>\n    </tr>\n    <tr>\n      <th>17</th>\n      <td>Meijer</td>\n      <td>74.738739</td>\n    </tr>\n    <tr>\n      <th>11</th>\n      <td>HEB</td>\n      <td>66.825000</td>\n    </tr>\n    <tr>\n      <th>24</th>\n      <td>Walmart US</td>\n      <td>65.649725</td>\n    </tr>\n    <tr>\n      <th>12</th>\n      <td>Home Depot</td>\n      <td>42.735878</td>\n    </tr>\n    <tr>\n      <th>22</th>\n      <td>Target</td>\n      <td>39.982033</td>\n    </tr>\n    <tr>\n      <th>0</th>\n      <td>Ahold</td>\n      <td>34.446863</td>\n    </tr>\n    <tr>\n      <th>15</th>\n      <td>Lowe's</td>\n      <td>33.311792</td>\n    </tr>\n    <tr>\n      <th>16</th>\n      <td>Macy's</td>\n      <td>30.442105</td>\n    </tr>\n    <tr>\n      <th>14</th>\n      <td>Kroger</td>\n      <td>30.031850</td>\n    </tr>\n    <tr>\n      <th>18</th>\n      <td>Publix</td>\n      <td>25.997733</td>\n    </tr>\n    <tr>\n      <th>5</th>\n      <td>Best Buy</td>\n      <td>24.685956</td>\n    </tr>\n    <tr>\n      <th>1</th>\n      <td>Albertsons</td>\n      <td>23.877731</td>\n    </tr>\n    <tr>\n      <th>13</th>\n      <td>Kohl's</td>\n      <td>16.353496</td>\n    </tr>\n    <tr>\n      <th>8</th>\n      <td>Delhaize</td>\n      <td>13.783415</td>\n    </tr>\n    <tr>\n      <th>2</th>\n      <td>Aldi</td>\n      <td>12.715998</td>\n    </tr>\n    <tr>\n      <th>23</th>\n      <td>Walgreen Boots</td>\n      <td>9.810927</td>\n    </tr>\n    <tr>\n      <th>21</th>\n      <td>TJX</td>\n      <td>9.369545</td>\n    </tr>\n    <tr>\n      <th>6</th>\n      <td>CVS incl. Target</td>\n      <td>8.825959</td>\n    </tr>\n    <tr>\n      <th>19</th>\n      <td>Rite Aid</td>\n      <td>6.025649</td>\n    </tr>\n    <tr>\n      <th>9</th>\n      <td>Dollar General</td>\n      <td>1.768885</td>\n    </tr>\n    <tr>\n      <th>10</th>\n      <td>Dollar Tree</td>\n      <td>1.563919</td>\n    </tr>\n    <tr>\n      <th>4</th>\n      <td>Apple incl. Online</td>\n      <td>0.000000</td>\n    </tr>\n    <tr>\n      <th>3</th>\n      <td>Amazon</td>\n      <td>0.000000</td>\n    </tr>\n  </tbody>\n</table>\n</div>"
     },
     "metadata": {}
    }
   ],
   "execution_count": null
  },
  {
   "cell_type": "code",
   "source": "ax = sns.barplot(x = 'Company', y = 'Sales/Avg. Store', data = datos_com_ventas)\nplt.xticks(rotation='vertical') \nplt.show()",
   "metadata": {
    "cell_id": "cd362454-eb02-4734-98fd-a680b90609d7",
    "tags": [],
    "deepnote_to_be_reexecuted": false,
    "source_hash": "bb9c9a66",
    "execution_start": 1645725261677,
    "execution_millis": 455,
    "deepnote_cell_type": "code"
   },
   "outputs": [
    {
     "data": {
      "text/plain": "<Figure size 432x288 with 1 Axes>",
      "image/png": "[encoded data removed]"
     },
     "metadata": {
      "needs_background": "light",
      "image/png": {
       "width": 389,
       "height": 340
      }
     },
     "output_type": "display_data"
    }
   ],
   "execution_count": null
  },
  {
   "cell_type": "markdown",
   "source": "### 9. ¿Cuáles compañías venden de forma exclusivamente online? ¿Sus ventas destacan sobre las que también tienen tiendas físicas?",
   "metadata": {
    "cell_id": "e9a00ffe-de8a-41f0-98e7-67b905d0d14f",
    "tags": [],
    "deepnote_cell_height": 94.15625,
    "deepnote_cell_type": "markdown"
   }
  },
  {
   "cell_type": "markdown",
   "source": "#### En el dataset no está especificado si hay o no tiendas online, pero interpreto que las que figuran con un \"0\" en Store/Avg. Store, considero que se tratan de empresas sin tiendas físicas, en este caso figuran Amazon & Apple incl. como las \"Online\". Asimismo en su promedio ventas se muestran por debajo de la mayoría de las empresas, llegando casi a un 70mil USD anuales por ventas. ",
   "metadata": {
    "cell_id": "9cc17138-7ba3-47b3-b7e5-4cf81c0a7fd8",
    "tags": [],
    "deepnote_cell_type": "markdown"
   }
  },
  {
   "cell_type": "code",
   "source": "store_online = datos_sorted.groupby(['Stores', 'Sales']).agg({'Sales/Avg. Store': 'sum'})\nstore_online = datos_com_ventas.reset_index()\nstore_online = datos_com_ventas.sort_values('Sales/Avg. Store',ascending=True)\nstore_online",
   "metadata": {
    "cell_id": "44068884-1475-4feb-b481-56a1eabb4e1e",
    "tags": [],
    "deepnote_to_be_reexecuted": false,
    "source_hash": "f2764847",
    "execution_start": 1645732043326,
    "execution_millis": 49,
    "deepnote_table_state": {
     "pageSize": 10,
     "pageIndex": 0,
     "filters": [],
     "sortBy": []
    },
    "deepnote_table_loading": false,
    "deepnote_cell_type": "code"
   },
   "outputs": [
    {
     "output_type": "execute_result",
     "execution_count": 115,
     "data": {
      "application/vnd.deepnote.dataframe.v3+json": {
       "column_count": 2,
       "row_count": 25,
       "columns": [
        {
         "name": "Company",
         "dtype": "object",
         "stats": {
          "unique_count": 25,
          "nan_count": 0,
          "categories": [
           {
            "name": "Amazon",
            "count": 1
           },
           {
            "name": "Apple incl. Online",
            "count": 1
           },
           {
            "name": "23 others",
            "count": 23
           }
          ]
         }
        },
        {
         "name": "Sales/Avg. Store",
         "dtype": "float64",
         "stats": {
          "unique_count": 24,
          "nan_count": 0,
          "min": "0.0",
          "max": "187.7956204",
          "histogram": [
           {
            "bin_start": 0,
            "bin_end": 18.77956204,
            "count": 11
           },
           {
            "bin_start": 18.77956204,
            "bin_end": 37.55912408,
            "count": 7
           },
           {
            "bin_start": 37.55912408,
            "bin_end": 56.33868611999999,
            "count": 2
           },
           {
            "bin_start": 56.33868611999999,
            "bin_end": 75.11824816,
            "count": 3
           },
           {
            "bin_start": 75.11824816,
            "bin_end": 93.8978102,
            "count": 1
           },
           {
            "bin_start": 93.8978102,
            "bin_end": 112.67737223999998,
            "count": 0
           },
           {
            "bin_start": 112.67737223999998,
            "bin_end": 131.45693427999998,
            "count": 0
           },
           {
            "bin_start": 131.45693427999998,
            "bin_end": 150.23649632,
            "count": 0
           },
           {
            "bin_start": 150.23649632,
            "bin_end": 169.01605836,
            "count": 0
           },
           {
            "bin_start": 169.01605836,
            "bin_end": 187.7956204,
            "count": 1
           }
          ]
         }
        },
        {
         "name": "_deepnote_index_column",
         "dtype": "int64"
        }
       ],
       "rows": [
        {
         "Company": "Amazon",
         "Sales/Avg. Store": 0,
         "_deepnote_index_column": 3
        },
        {
         "Company": "Apple incl. Online",
         "Sales/Avg. Store": 0,
         "_deepnote_index_column": 4
        },
        {
         "Company": "Dollar Tree",
         "Sales/Avg. Store": 1.56391854,
         "_deepnote_index_column": 10
        },
        {
         "Company": "Dollar General",
         "Sales/Avg. Store": 1.768884999,
         "_deepnote_index_column": 9
        },
        {
         "Company": "Rite Aid",
         "Sales/Avg. Store": 6.025649457,
         "_deepnote_index_column": 19
        },
        {
         "Company": "CVS incl. Target",
         "Sales/Avg. Store": 8.825958702,
         "_deepnote_index_column": 6
        },
        {
         "Company": "TJX",
         "Sales/Avg. Store": 9.369544859,
         "_deepnote_index_column": 21
        },
        {
         "Company": "Walgreen Boots",
         "Sales/Avg. Store": 9.81092672,
         "_deepnote_index_column": 23
        },
        {
         "Company": "Aldi",
         "Sales/Avg. Store": 12.71599792,
         "_deepnote_index_column": 2
        },
        {
         "Company": "Delhaize",
         "Sales/Avg. Store": 13.78341537,
         "_deepnote_index_column": 8
        }
       ]
      },
      "text/plain": "               Company  Sales/Avg. Store\n3               Amazon          0.000000\n4   Apple incl. Online          0.000000\n10         Dollar Tree          1.563919\n9       Dollar General          1.768885\n19            Rite Aid          6.025649\n6     CVS incl. Target          8.825959\n21                 TJX          9.369545\n23      Walgreen Boots          9.810927\n2                 Aldi         12.715998\n8             Delhaize         13.783415\n13              Kohl's         16.353496\n1           Albertsons         23.877731\n5             Best Buy         24.685956\n18              Publix         25.997733\n14              Kroger         30.031850\n16              Macy's         30.442105\n15              Lowe's         33.311792\n0                Ahold         34.446863\n22              Target         39.982033\n12          Home Depot         42.735878\n24          Walmart US         65.649725\n11                 HEB         66.825000\n17              Meijer         74.738739\n20          Sam's Club         87.293395\n7               Costco        187.795620",
      "text/html": "<div>\n<style scoped>\n    .dataframe tbody tr th:only-of-type {\n        vertical-align: middle;\n    }\n\n    .dataframe tbody tr th {\n        vertical-align: top;\n    }\n\n    .dataframe thead th {\n        text-align: right;\n    }\n</style>\n<table border=\"1\" class=\"dataframe\">\n  <thead>\n    <tr style=\"text-align: right;\">\n      <th></th>\n      <th>Company</th>\n      <th>Sales/Avg. Store</th>\n    </tr>\n  </thead>\n  <tbody>\n    <tr>\n      <th>3</th>\n      <td>Amazon</td>\n      <td>0.000000</td>\n    </tr>\n    <tr>\n      <th>4</th>\n      <td>Apple incl. Online</td>\n      <td>0.000000</td>\n    </tr>\n    <tr>\n      <th>10</th>\n      <td>Dollar Tree</td>\n      <td>1.563919</td>\n    </tr>\n    <tr>\n      <th>9</th>\n      <td>Dollar General</td>\n      <td>1.768885</td>\n    </tr>\n    <tr>\n      <th>19</th>\n      <td>Rite Aid</td>\n      <td>6.025649</td>\n    </tr>\n    <tr>\n      <th>6</th>\n      <td>CVS incl. Target</td>\n      <td>8.825959</td>\n    </tr>\n    <tr>\n      <th>21</th>\n      <td>TJX</td>\n      <td>9.369545</td>\n    </tr>\n    <tr>\n      <th>23</th>\n      <td>Walgreen Boots</td>\n      <td>9.810927</td>\n    </tr>\n    <tr>\n      <th>2</th>\n      <td>Aldi</td>\n      <td>12.715998</td>\n    </tr>\n    <tr>\n      <th>8</th>\n      <td>Delhaize</td>\n      <td>13.783415</td>\n    </tr>\n    <tr>\n      <th>13</th>\n      <td>Kohl's</td>\n      <td>16.353496</td>\n    </tr>\n    <tr>\n      <th>1</th>\n      <td>Albertsons</td>\n      <td>23.877731</td>\n    </tr>\n    <tr>\n      <th>5</th>\n      <td>Best Buy</td>\n      <td>24.685956</td>\n    </tr>\n    <tr>\n      <th>18</th>\n      <td>Publix</td>\n      <td>25.997733</td>\n    </tr>\n    <tr>\n      <th>14</th>\n      <td>Kroger</td>\n      <td>30.031850</td>\n    </tr>\n    <tr>\n      <th>16</th>\n      <td>Macy's</td>\n      <td>30.442105</td>\n    </tr>\n    <tr>\n      <th>15</th>\n      <td>Lowe's</td>\n      <td>33.311792</td>\n    </tr>\n    <tr>\n      <th>0</th>\n      <td>Ahold</td>\n      <td>34.446863</td>\n    </tr>\n    <tr>\n      <th>22</th>\n      <td>Target</td>\n      <td>39.982033</td>\n    </tr>\n    <tr>\n      <th>12</th>\n      <td>Home Depot</td>\n      <td>42.735878</td>\n    </tr>\n    <tr>\n      <th>24</th>\n      <td>Walmart US</td>\n      <td>65.649725</td>\n    </tr>\n    <tr>\n      <th>11</th>\n      <td>HEB</td>\n      <td>66.825000</td>\n    </tr>\n    <tr>\n      <th>17</th>\n      <td>Meijer</td>\n      <td>74.738739</td>\n    </tr>\n    <tr>\n      <th>20</th>\n      <td>Sam's Club</td>\n      <td>87.293395</td>\n    </tr>\n    <tr>\n      <th>7</th>\n      <td>Costco</td>\n      <td>187.795620</td>\n    </tr>\n  </tbody>\n</table>\n</div>"
     },
     "metadata": {}
    }
   ],
   "execution_count": null
  },
  {
   "cell_type": "code",
   "source": "store_online.iloc[0:2] #Online",
   "metadata": {
    "cell_id": "05b73ea0-aada-4b02-964a-0dee372819f7",
    "tags": [],
    "deepnote_to_be_reexecuted": false,
    "source_hash": "785b86d3",
    "execution_start": 1645730871798,
    "execution_millis": 11,
    "deepnote_cell_type": "code"
   },
   "outputs": [
    {
     "output_type": "execute_result",
     "execution_count": 100,
     "data": {
      "application/vnd.deepnote.dataframe.v3+json": {
       "column_count": 2,
       "row_count": 2,
       "columns": [
        {
         "name": "Company",
         "dtype": "object",
         "stats": {
          "unique_count": 2,
          "nan_count": 0,
          "categories": [
           {
            "name": "Amazon",
            "count": 1
           },
           {
            "name": "Apple incl. Online",
            "count": 1
           }
          ]
         }
        },
        {
         "name": "Sales/Avg. Store",
         "dtype": "float64",
         "stats": {
          "unique_count": 1,
          "nan_count": 0,
          "min": "0.0",
          "max": "0.0",
          "histogram": [
           {
            "bin_start": -0.5,
            "bin_end": -0.4,
            "count": 0
           },
           {
            "bin_start": -0.4,
            "bin_end": -0.3,
            "count": 0
           },
           {
            "bin_start": -0.3,
            "bin_end": -0.19999999999999996,
            "count": 0
           },
           {
            "bin_start": -0.19999999999999996,
            "bin_end": -0.09999999999999998,
            "count": 0
           },
           {
            "bin_start": -0.09999999999999998,
            "bin_end": 0,
            "count": 0
           },
           {
            "bin_start": 0,
            "bin_end": 0.10000000000000009,
            "count": 2
           },
           {
            "bin_start": 0.10000000000000009,
            "bin_end": 0.20000000000000007,
            "count": 0
           },
           {
            "bin_start": 0.20000000000000007,
            "bin_end": 0.30000000000000004,
            "count": 0
           },
           {
            "bin_start": 0.30000000000000004,
            "bin_end": 0.4,
            "count": 0
           },
           {
            "bin_start": 0.4,
            "bin_end": 0.5,
            "count": 0
           }
          ]
         }
        },
        {
         "name": "_deepnote_index_column",
         "dtype": "int64"
        }
       ],
       "rows": [
        {
         "Company": "Amazon",
         "Sales/Avg. Store": 0,
         "_deepnote_index_column": 3
        },
        {
         "Company": "Apple incl. Online",
         "Sales/Avg. Store": 0,
         "_deepnote_index_column": 4
        }
       ]
      },
      "text/plain": "              Company  Sales/Avg. Store\n3              Amazon               0.0\n4  Apple incl. Online               0.0",
      "text/html": "<div>\n<style scoped>\n    .dataframe tbody tr th:only-of-type {\n        vertical-align: middle;\n    }\n\n    .dataframe tbody tr th {\n        vertical-align: top;\n    }\n\n    .dataframe thead th {\n        text-align: right;\n    }\n</style>\n<table border=\"1\" class=\"dataframe\">\n  <thead>\n    <tr style=\"text-align: right;\">\n      <th></th>\n      <th>Company</th>\n      <th>Sales/Avg. Store</th>\n    </tr>\n  </thead>\n  <tbody>\n    <tr>\n      <th>3</th>\n      <td>Amazon</td>\n      <td>0.0</td>\n    </tr>\n    <tr>\n      <th>4</th>\n      <td>Apple incl. Online</td>\n      <td>0.0</td>\n    </tr>\n  </tbody>\n</table>\n</div>"
     },
     "metadata": {}
    }
   ],
   "execution_count": null
  },
  {
   "cell_type": "code",
   "metadata": {
    "cell_id": "cb6d5d30-783d-44af-9c84-f31689cb3487",
    "tags": [],
    "deepnote_to_be_reexecuted": false,
    "source_hash": "311eba73",
    "execution_start": 1645730272985,
    "deepnote_cell_height": 81.15625,
    "execution_millis": 508,
    "deepnote_table_state": {
     "pageSize": 10,
     "pageIndex": 0,
     "filters": [],
     "sortBy": []
    },
    "deepnote_table_loading": false,
    "deepnote_table_invalid": false,
    "deepnote_cell_type": "code"
   },
   "source": "ax = sns.barplot(x = 'Company', y = 'Sales/Avg. Store', data =store_online)\nplt.xticks(rotation='vertical') \nplt.show()",
   "outputs": [
    {
     "data": {
      "text/plain": "<Figure size 756x519.12 with 1 Axes>",
      "image/png": "[encoded data removed]"
     },
     "metadata": {
      "image/png": {
       "width": 647,
       "height": 529
      }
     },
     "output_type": "display_data"
    }
   ],
   "execution_count": null
  },
  {
   "cell_type": "markdown",
   "source": "## III. Tus propias preguntas",
   "metadata": {
    "cell_id": "58c80612-3fb2-4c71-9aab-813b121430a0",
    "tags": [],
    "deepnote_cell_height": 70.171875,
    "deepnote_cell_type": "markdown"
   }
  },
  {
   "cell_type": "markdown",
   "source": "### 10. Pregunta",
   "metadata": {
    "cell_id": "fa60966b-7d95-43f0-9a1e-201f1373f1be",
    "tags": [],
    "deepnote_cell_height": 62.15625,
    "deepnote_cell_type": "markdown"
   }
  },
  {
   "cell_type": "markdown",
   "source": "#### ¿Cuáles son los outliers?",
   "metadata": {
    "cell_id": "2f035818-82e2-4f44-a19d-c6c6c76f09b3",
    "tags": [],
    "deepnote_cell_type": "markdown"
   }
  },
  {
   "cell_type": "code",
   "metadata": {
    "cell_id": "52ea290f-004f-4aaa-8e1a-0d0908996b0a",
    "tags": [],
    "deepnote_to_be_reexecuted": false,
    "source_hash": "cab8fce8",
    "execution_start": 1645725262203,
    "deepnote_cell_height": 81.15625,
    "execution_millis": 6,
    "deepnote_cell_type": "code"
   },
   "source": "datos_sorted",
   "outputs": [
    {
     "output_type": "execute_result",
     "execution_count": 27,
     "data": {
      "application/vnd.deepnote.dataframe.v3+json": {
       "column_count": 6,
       "row_count": 25,
       "columns": [
        {
         "name": "Company",
         "dtype": "object",
         "stats": {
          "unique_count": 25,
          "nan_count": 0,
          "categories": [
           {
            "name": "Walmart US",
            "count": 1
           },
           {
            "name": "Kroger",
            "count": 1
           },
           {
            "name": "23 others",
            "count": 23
           }
          ]
         }
        },
        {
         "name": "Sales",
         "dtype": "int64",
         "stats": {
          "unique_count": 25,
          "nan_count": 0,
          "min": "16592",
          "max": "658119",
          "histogram": [
           {
            "bin_start": 16592,
            "bin_end": 80744.7,
            "count": 21
           },
           {
            "bin_start": 80744.7,
            "bin_end": 144897.4,
            "count": 3
           },
           {
            "bin_start": 144897.4,
            "bin_end": 209050.09999999998,
            "count": 0
           },
           {
            "bin_start": 209050.09999999998,
            "bin_end": 273202.8,
            "count": 0
           },
           {
            "bin_start": 273202.8,
            "bin_end": 337355.5,
            "count": 0
           },
           {
            "bin_start": 337355.5,
            "bin_end": 401508.19999999995,
            "count": 0
           },
           {
            "bin_start": 401508.19999999995,
            "bin_end": 465660.89999999997,
            "count": 0
           },
           {
            "bin_start": 465660.89999999997,
            "bin_end": 529813.6,
            "count": 0
           },
           {
            "bin_start": 529813.6,
            "bin_end": 593966.2999999999,
            "count": 0
           },
           {
            "bin_start": 593966.2999999999,
            "bin_end": 658119,
            "count": 1
           }
          ]
         }
        },
        {
         "name": "Stores",
         "dtype": "float64",
         "stats": {
          "unique_count": 23,
          "nan_count": 2,
          "min": "231.0",
          "max": "14250.0",
          "histogram": [
           {
            "bin_start": 231,
            "bin_end": 1632.9,
            "count": 10
           },
           {
            "bin_start": 1632.9,
            "bin_end": 3034.8,
            "count": 6
           },
           {
            "bin_start": 3034.8,
            "bin_end": 4436.700000000001,
            "count": 1
           },
           {
            "bin_start": 4436.700000000001,
            "bin_end": 5838.6,
            "count": 2
           },
           {
            "bin_start": 5838.6,
            "bin_end": 7240.5,
            "count": 0
           },
           {
            "bin_start": 7240.5,
            "bin_end": 8642.400000000001,
            "count": 1
           },
           {
            "bin_start": 8642.400000000001,
            "bin_end": 10044.300000000001,
            "count": 1
           },
           {
            "bin_start": 10044.300000000001,
            "bin_end": 11446.2,
            "count": 0
           },
           {
            "bin_start": 11446.2,
            "bin_end": 12848.1,
            "count": 0
           },
           {
            "bin_start": 12848.1,
            "bin_end": 14250,
            "count": 2
           }
          ]
         }
        },
        {
         "name": "Sales/Avg. Store",
         "dtype": "float64",
         "stats": {
          "unique_count": 23,
          "nan_count": 2,
          "min": "1.56391854",
          "max": "187.7956204",
          "histogram": [
           {
            "bin_start": 1.56391854,
            "bin_end": 20.187088726,
            "count": 9
           },
           {
            "bin_start": 20.187088726,
            "bin_end": 38.810258912,
            "count": 7
           },
           {
            "bin_start": 38.810258912,
            "bin_end": 57.433429098000005,
            "count": 2
           },
           {
            "bin_start": 57.433429098000005,
            "bin_end": 76.056599284,
            "count": 3
           },
           {
            "bin_start": 76.056599284,
            "bin_end": 94.67976947,
            "count": 1
           },
           {
            "bin_start": 94.67976947,
            "bin_end": 113.302939656,
            "count": 0
           },
           {
            "bin_start": 113.302939656,
            "bin_end": 131.926109842,
            "count": 0
           },
           {
            "bin_start": 131.926109842,
            "bin_end": 150.549280028,
            "count": 0
           },
           {
            "bin_start": 150.549280028,
            "bin_end": 169.172450214,
            "count": 0
           },
           {
            "bin_start": 169.172450214,
            "bin_end": 187.7956204,
            "count": 1
           }
          ]
         }
        },
        {
         "name": "Store Count Growth",
         "dtype": "float64",
         "stats": {
          "unique_count": 23,
          "nan_count": 2,
          "min": "-0.05951506245",
          "max": "0.2556621881",
          "histogram": [
           {
            "bin_start": -0.05951506245,
            "bin_end": -0.027997337395000002,
            "count": 3
           },
           {
            "bin_start": -0.027997337395000002,
            "bin_end": 0.003520387659999999,
            "count": 4
           },
           {
            "bin_start": 0.003520387659999999,
            "bin_end": 0.035038112715,
            "count": 6
           },
           {
            "bin_start": 0.035038112715,
            "bin_end": 0.06655583777,
            "count": 2
           },
           {
            "bin_start": 0.06655583777,
            "bin_end": 0.098073562825,
            "count": 5
           },
           {
            "bin_start": 0.098073562825,
            "bin_end": 0.12959128788000002,
            "count": 1
           },
           {
            "bin_start": 0.12959128788000002,
            "bin_end": 0.16110901293500002,
            "count": 1
           },
           {
            "bin_start": 0.16110901293500002,
            "bin_end": 0.19262673799000002,
            "count": 0
           },
           {
            "bin_start": 0.19262673799000002,
            "bin_end": 0.22414446304500002,
            "count": 0
           },
           {
            "bin_start": 0.22414446304500002,
            "bin_end": 0.2556621881,
            "count": 1
           }
          ]
         }
        },
        {
         "name": "Category",
         "dtype": "object",
         "stats": {
          "unique_count": 11,
          "nan_count": 1,
          "categories": [
           {
            "name": "Grocery",
            "count": 7
           },
           {
            "name": "10 others",
            "count": 17
           },
           {
            "name": "Missing",
            "count": 1
           }
          ]
         }
        },
        {
         "name": "_deepnote_index_column",
         "dtype": "int64"
        }
       ],
       "rows": [
        {
         "Company": "Walmart US",
         "Sales": 658119,
         "Stores": 4574,
         "Sales/Avg. Store": 65.64972497,
         "Store Count Growth": 0.01284322409,
         "Category": "Supercenters",
         "_deepnote_index_column": 0
        },
        {
         "Company": "Kroger",
         "Sales": 115037,
         "Stores": 3931,
         "Sales/Avg. Store": 30.03184963,
         "Store Count Growth": 0.05388739946,
         "Category": "Grocery",
         "_deepnote_index_column": 1
        },
        {
         "Company": "Costco",
         "Sales": 90048,
         "Stores": 495,
         "Sales/Avg. Store": 187.7956204,
         "Store Count Growth": 0.06681034483,
         "Category": "Warehouse Club",
         "_deepnote_index_column": 2
        },
        {
         "Company": "Home Depot",
         "Sales": 83976,
         "Stores": 1965,
         "Sales/Avg. Store": 42.73587786,
         "Store Count Growth": 0,
         "Category": "Home Improvement",
         "_deepnote_index_column": 3
        },
        {
         "Company": "Walgreen Boots",
         "Sales": 78924,
         "Stores": 8002,
         "Sales/Avg. Store": 9.81092672,
         "Store Count Growth": -0.01051069618,
         "Category": "Drug Stores",
         "_deepnote_index_column": 4
        },
        {
         "Company": "CVS incl. Target",
         "Sales": 77792,
         "Stores": 9813,
         "Sales/Avg. Store": 8.825958702,
         "Store Count Growth": 0.2556621881,
         "Category": "Drug Stores",
         "_deepnote_index_column": 5
        },
        {
         "Company": "Amazon",
         "Sales": 71687,
         "Stores": "nan",
         "Sales/Avg. Store": "nan",
         "Store Count Growth": "nan",
         "Category": "Electronic/Mail Order",
         "_deepnote_index_column": 6
        },
        {
         "Company": "Target",
         "Sales": 71208,
         "Stores": 1772,
         "Sales/Avg. Store": 39.98203257,
         "Store Count Growth": -0.01005586592,
         "Category": "Supercenters",
         "_deepnote_index_column": 7
        },
        {
         "Company": "Lowe's",
         "Sales": 60311,
         "Stores": 1828,
         "Sales/Avg. Store": 33.31179232,
         "Store Count Growth": 0.01952035694,
         "Category": "Home Improvement",
         "_deepnote_index_column": 8
        },
        {
         "Company": "Albertsons",
         "Sales": 56829,
         "Stores": 2326,
         "Sales/Avg. Store": 23.87773109,
         "Store Count Growth": -0.04437140509,
         "Category": "Grocery",
         "_deepnote_index_column": 9
        }
       ]
      },
      "text/plain": "               Company   Sales   Stores  Sales/Avg. Store  Store Count Growth  \\\n0           Walmart US  658119   4574.0         65.649725            0.012843   \n1               Kroger  115037   3931.0         30.031850            0.053887   \n2               Costco   90048    495.0        187.795620            0.066810   \n3           Home Depot   83976   1965.0         42.735878            0.000000   \n4       Walgreen Boots   78924   8002.0          9.810927           -0.010511   \n5     CVS incl. Target   77792   9813.0          8.825959            0.255662   \n6               Amazon   71687      NaN               NaN                 NaN   \n7               Target   71208   1772.0         39.982033           -0.010056   \n8               Lowe's   60311   1828.0         33.311792            0.019520   \n9           Albertsons   56829   2326.0         23.877731           -0.044371   \n10          Sam's Club   56828    655.0         87.293395            0.012365   \n11  Apple incl. Online   37664      NaN               NaN                 NaN   \n12            Best Buy   34980   1389.0         24.685956           -0.038754   \n13              Publix   34408   1351.0         25.997733            0.042438   \n14            Rite Aid   27486   4553.0          6.025649           -0.003720   \n15               Ahold   26903    794.0         34.446863            0.033854   \n16              Macy's   26028    889.0         30.442105            0.082826   \n17                 TJX   25012   2770.0          9.369545            0.078241   \n18                Aldi   24402   2021.0         12.715998            0.112273   \n19      Dollar General   22234  13350.0          1.768885            0.132412   \n20         Dollar Tree   21464  14250.0          1.563919            0.079627   \n21                 HEB   21384    323.0         66.825000            0.018927   \n22              Kohl's   19060   1169.0         16.353496            0.006024   \n23            Delhaize   18201   1280.0         13.783415           -0.059515   \n24              Meijer   16592    231.0         74.738739            0.084507   \n\n                 Category  \n0            Supercenters  \n1                 Grocery  \n2          Warehouse Club  \n3        Home Improvement  \n4             Drug Stores  \n5             Drug Stores  \n6   Electronic/Mail Order  \n7            Supercenters  \n8        Home Improvement  \n9                 Grocery  \n10        Warehouse Clubs  \n11                    NaN  \n12            Electronics  \n13                Grocery  \n14            Drug Stores  \n15                Grocery  \n16      Department Stores  \n17                Apparel  \n18                Grocery  \n19          Dollar Stores  \n20          Dollar Stores  \n21                Grocery  \n22      Department Stores  \n23                Grocery  \n24           Supercenters  ",
      "text/html": "<div>\n<style scoped>\n    .dataframe tbody tr th:only-of-type {\n        vertical-align: middle;\n    }\n\n    .dataframe tbody tr th {\n        vertical-align: top;\n    }\n\n    .dataframe thead th {\n        text-align: right;\n    }\n</style>\n<table border=\"1\" class=\"dataframe\">\n  <thead>\n    <tr style=\"text-align: right;\">\n      <th></th>\n      <th>Company</th>\n      <th>Sales</th>\n      <th>Stores</th>\n      <th>Sales/Avg. Store</th>\n      <th>Store Count Growth</th>\n      <th>Category</th>\n    </tr>\n  </thead>\n  <tbody>\n    <tr>\n      <th>0</th>\n      <td>Walmart US</td>\n      <td>658119</td>\n      <td>4574.0</td>\n      <td>65.649725</td>\n      <td>0.012843</td>\n      <td>Supercenters</td>\n    </tr>\n    <tr>\n      <th>1</th>\n      <td>Kroger</td>\n      <td>115037</td>\n      <td>3931.0</td>\n      <td>30.031850</td>\n      <td>0.053887</td>\n      <td>Grocery</td>\n    </tr>\n    <tr>\n      <th>2</th>\n      <td>Costco</td>\n      <td>90048</td>\n      <td>495.0</td>\n      <td>187.795620</td>\n      <td>0.066810</td>\n      <td>Warehouse Club</td>\n    </tr>\n    <tr>\n      <th>3</th>\n      <td>Home Depot</td>\n      <td>83976</td>\n      <td>1965.0</td>\n      <td>42.735878</td>\n      <td>0.000000</td>\n      <td>Home Improvement</td>\n    </tr>\n    <tr>\n      <th>4</th>\n      <td>Walgreen Boots</td>\n      <td>78924</td>\n      <td>8002.0</td>\n      <td>9.810927</td>\n      <td>-0.010511</td>\n      <td>Drug Stores</td>\n    </tr>\n    <tr>\n      <th>5</th>\n      <td>CVS incl. Target</td>\n      <td>77792</td>\n      <td>9813.0</td>\n      <td>8.825959</td>\n      <td>0.255662</td>\n      <td>Drug Stores</td>\n    </tr>\n    <tr>\n      <th>6</th>\n      <td>Amazon</td>\n      <td>71687</td>\n      <td>NaN</td>\n      <td>NaN</td>\n      <td>NaN</td>\n      <td>Electronic/Mail Order</td>\n    </tr>\n    <tr>\n      <th>7</th>\n      <td>Target</td>\n      <td>71208</td>\n      <td>1772.0</td>\n      <td>39.982033</td>\n      <td>-0.010056</td>\n      <td>Supercenters</td>\n    </tr>\n    <tr>\n      <th>8</th>\n      <td>Lowe's</td>\n      <td>60311</td>\n      <td>1828.0</td>\n      <td>33.311792</td>\n      <td>0.019520</td>\n      <td>Home Improvement</td>\n    </tr>\n    <tr>\n      <th>9</th>\n      <td>Albertsons</td>\n      <td>56829</td>\n      <td>2326.0</td>\n      <td>23.877731</td>\n      <td>-0.044371</td>\n      <td>Grocery</td>\n    </tr>\n    <tr>\n      <th>10</th>\n      <td>Sam's Club</td>\n      <td>56828</td>\n      <td>655.0</td>\n      <td>87.293395</td>\n      <td>0.012365</td>\n      <td>Warehouse Clubs</td>\n    </tr>\n    <tr>\n      <th>11</th>\n      <td>Apple incl. Online</td>\n      <td>37664</td>\n      <td>NaN</td>\n      <td>NaN</td>\n      <td>NaN</td>\n      <td>NaN</td>\n    </tr>\n    <tr>\n      <th>12</th>\n      <td>Best Buy</td>\n      <td>34980</td>\n      <td>1389.0</td>\n      <td>24.685956</td>\n      <td>-0.038754</td>\n      <td>Electronics</td>\n    </tr>\n    <tr>\n      <th>13</th>\n      <td>Publix</td>\n      <td>34408</td>\n      <td>1351.0</td>\n      <td>25.997733</td>\n      <td>0.042438</td>\n      <td>Grocery</td>\n    </tr>\n    <tr>\n      <th>14</th>\n      <td>Rite Aid</td>\n      <td>27486</td>\n      <td>4553.0</td>\n      <td>6.025649</td>\n      <td>-0.003720</td>\n      <td>Drug Stores</td>\n    </tr>\n    <tr>\n      <th>15</th>\n      <td>Ahold</td>\n      <td>26903</td>\n      <td>794.0</td>\n      <td>34.446863</td>\n      <td>0.033854</td>\n      <td>Grocery</td>\n    </tr>\n    <tr>\n      <th>16</th>\n      <td>Macy's</td>\n      <td>26028</td>\n      <td>889.0</td>\n      <td>30.442105</td>\n      <td>0.082826</td>\n      <td>Department Stores</td>\n    </tr>\n    <tr>\n      <th>17</th>\n      <td>TJX</td>\n      <td>25012</td>\n      <td>2770.0</td>\n      <td>9.369545</td>\n      <td>0.078241</td>\n      <td>Apparel</td>\n    </tr>\n    <tr>\n      <th>18</th>\n      <td>Aldi</td>\n      <td>24402</td>\n      <td>2021.0</td>\n      <td>12.715998</td>\n      <td>0.112273</td>\n      <td>Grocery</td>\n    </tr>\n    <tr>\n      <th>19</th>\n      <td>Dollar General</td>\n      <td>22234</td>\n      <td>13350.0</td>\n      <td>1.768885</td>\n      <td>0.132412</td>\n      <td>Dollar Stores</td>\n    </tr>\n    <tr>\n      <th>20</th>\n      <td>Dollar Tree</td>\n      <td>21464</td>\n      <td>14250.0</td>\n      <td>1.563919</td>\n      <td>0.079627</td>\n      <td>Dollar Stores</td>\n    </tr>\n    <tr>\n      <th>21</th>\n      <td>HEB</td>\n      <td>21384</td>\n      <td>323.0</td>\n      <td>66.825000</td>\n      <td>0.018927</td>\n      <td>Grocery</td>\n    </tr>\n    <tr>\n      <th>22</th>\n      <td>Kohl's</td>\n      <td>19060</td>\n      <td>1169.0</td>\n      <td>16.353496</td>\n      <td>0.006024</td>\n      <td>Department Stores</td>\n    </tr>\n    <tr>\n      <th>23</th>\n      <td>Delhaize</td>\n      <td>18201</td>\n      <td>1280.0</td>\n      <td>13.783415</td>\n      <td>-0.059515</td>\n      <td>Grocery</td>\n    </tr>\n    <tr>\n      <th>24</th>\n      <td>Meijer</td>\n      <td>16592</td>\n      <td>231.0</td>\n      <td>74.738739</td>\n      <td>0.084507</td>\n      <td>Supercenters</td>\n    </tr>\n  </tbody>\n</table>\n</div>"
     },
     "metadata": {}
    }
   ],
   "execution_count": null
  },
  {
   "cell_type": "code",
   "source": "#Veo la cantidad de valores nulos\nprint('Valores nulos:',sum(datos.isna().sum()))",
   "metadata": {
    "cell_id": "56a7c559-a3ed-46c5-93a5-313a31ab1f9a",
    "tags": [],
    "deepnote_to_be_reexecuted": false,
    "source_hash": "66cf1cd7",
    "execution_start": 1645725262223,
    "execution_millis": 6,
    "deepnote_cell_type": "code"
   },
   "outputs": [
    {
     "name": "stdout",
     "text": "Valores nulos: 7\n",
     "output_type": "stream"
    }
   ],
   "execution_count": null
  },
  {
   "cell_type": "code",
   "source": "datos.dropna(inplace=True)\ndatos",
   "metadata": {
    "cell_id": "df52a3d5-e983-4e5c-b09a-6c64f5837c72",
    "tags": [],
    "deepnote_to_be_reexecuted": false,
    "source_hash": "c285e12a",
    "execution_start": 1645725262227,
    "execution_millis": 29,
    "deepnote_cell_type": "code"
   },
   "outputs": [
    {
     "output_type": "execute_result",
     "execution_count": 29,
     "data": {
      "application/vnd.deepnote.dataframe.v3+json": {
       "column_count": 6,
       "row_count": 23,
       "columns": [
        {
         "name": "Company",
         "dtype": "object",
         "stats": {
          "unique_count": 23,
          "nan_count": 0,
          "categories": [
           {
            "name": "Walmart US",
            "count": 1
           },
           {
            "name": "Kroger",
            "count": 1
           },
           {
            "name": "21 others",
            "count": 21
           }
          ]
         }
        },
        {
         "name": "Sales",
         "dtype": "int64",
         "stats": {
          "unique_count": 23,
          "nan_count": 0,
          "min": "16592",
          "max": "658119",
          "histogram": [
           {
            "bin_start": 16592,
            "bin_end": 80744.7,
            "count": 19
           },
           {
            "bin_start": 80744.7,
            "bin_end": 144897.4,
            "count": 3
           },
           {
            "bin_start": 144897.4,
            "bin_end": 209050.09999999998,
            "count": 0
           },
           {
            "bin_start": 209050.09999999998,
            "bin_end": 273202.8,
            "count": 0
           },
           {
            "bin_start": 273202.8,
            "bin_end": 337355.5,
            "count": 0
           },
           {
            "bin_start": 337355.5,
            "bin_end": 401508.19999999995,
            "count": 0
           },
           {
            "bin_start": 401508.19999999995,
            "bin_end": 465660.89999999997,
            "count": 0
           },
           {
            "bin_start": 465660.89999999997,
            "bin_end": 529813.6,
            "count": 0
           },
           {
            "bin_start": 529813.6,
            "bin_end": 593966.2999999999,
            "count": 0
           },
           {
            "bin_start": 593966.2999999999,
            "bin_end": 658119,
            "count": 1
           }
          ]
         }
        },
        {
         "name": "Stores",
         "dtype": "float64",
         "stats": {
          "unique_count": 23,
          "nan_count": 0,
          "min": "231.0",
          "max": "14250.0",
          "histogram": [
           {
            "bin_start": 231,
            "bin_end": 1632.9,
            "count": 10
           },
           {
            "bin_start": 1632.9,
            "bin_end": 3034.8,
            "count": 6
           },
           {
            "bin_start": 3034.8,
            "bin_end": 4436.700000000001,
            "count": 1
           },
           {
            "bin_start": 4436.700000000001,
            "bin_end": 5838.6,
            "count": 2
           },
           {
            "bin_start": 5838.6,
            "bin_end": 7240.5,
            "count": 0
           },
           {
            "bin_start": 7240.5,
            "bin_end": 8642.400000000001,
            "count": 1
           },
           {
            "bin_start": 8642.400000000001,
            "bin_end": 10044.300000000001,
            "count": 1
           },
           {
            "bin_start": 10044.300000000001,
            "bin_end": 11446.2,
            "count": 0
           },
           {
            "bin_start": 11446.2,
            "bin_end": 12848.1,
            "count": 0
           },
           {
            "bin_start": 12848.1,
            "bin_end": 14250,
            "count": 2
           }
          ]
         }
        },
        {
         "name": "Sales/Avg. Store",
         "dtype": "float64",
         "stats": {
          "unique_count": 23,
          "nan_count": 0,
          "min": "1.56391854",
          "max": "187.7956204",
          "histogram": [
           {
            "bin_start": 1.56391854,
            "bin_end": 20.187088726,
            "count": 9
           },
           {
            "bin_start": 20.187088726,
            "bin_end": 38.810258912,
            "count": 7
           },
           {
            "bin_start": 38.810258912,
            "bin_end": 57.433429098000005,
            "count": 2
           },
           {
            "bin_start": 57.433429098000005,
            "bin_end": 76.056599284,
            "count": 3
           },
           {
            "bin_start": 76.056599284,
            "bin_end": 94.67976947,
            "count": 1
           },
           {
            "bin_start": 94.67976947,
            "bin_end": 113.302939656,
            "count": 0
           },
           {
            "bin_start": 113.302939656,
            "bin_end": 131.926109842,
            "count": 0
           },
           {
            "bin_start": 131.926109842,
            "bin_end": 150.549280028,
            "count": 0
           },
           {
            "bin_start": 150.549280028,
            "bin_end": 169.172450214,
            "count": 0
           },
           {
            "bin_start": 169.172450214,
            "bin_end": 187.7956204,
            "count": 1
           }
          ]
         }
        },
        {
         "name": "Store Count Growth",
         "dtype": "float64",
         "stats": {
          "unique_count": 23,
          "nan_count": 0,
          "min": "-0.05951506245",
          "max": "0.2556621881",
          "histogram": [
           {
            "bin_start": -0.05951506245,
            "bin_end": -0.027997337395000002,
            "count": 3
           },
           {
            "bin_start": -0.027997337395000002,
            "bin_end": 0.003520387659999999,
            "count": 4
           },
           {
            "bin_start": 0.003520387659999999,
            "bin_end": 0.035038112715,
            "count": 6
           },
           {
            "bin_start": 0.035038112715,
            "bin_end": 0.06655583777,
            "count": 2
           },
           {
            "bin_start": 0.06655583777,
            "bin_end": 0.098073562825,
            "count": 5
           },
           {
            "bin_start": 0.098073562825,
            "bin_end": 0.12959128788000002,
            "count": 1
           },
           {
            "bin_start": 0.12959128788000002,
            "bin_end": 0.16110901293500002,
            "count": 1
           },
           {
            "bin_start": 0.16110901293500002,
            "bin_end": 0.19262673799000002,
            "count": 0
           },
           {
            "bin_start": 0.19262673799000002,
            "bin_end": 0.22414446304500002,
            "count": 0
           },
           {
            "bin_start": 0.22414446304500002,
            "bin_end": 0.2556621881,
            "count": 1
           }
          ]
         }
        },
        {
         "name": "Category",
         "dtype": "object",
         "stats": {
          "unique_count": 10,
          "nan_count": 0,
          "categories": [
           {
            "name": "Grocery",
            "count": 7
           },
           {
            "name": "Supercenters",
            "count": 3
           },
           {
            "name": "8 others",
            "count": 13
           }
          ]
         }
        },
        {
         "name": "_deepnote_index_column",
         "dtype": "int64"
        }
       ],
       "rows": [
        {
         "Company": "Walmart US",
         "Sales": 658119,
         "Stores": 4574,
         "Sales/Avg. Store": 65.64972497,
         "Store Count Growth": 0.01284322409,
         "Category": "Supercenters",
         "_deepnote_index_column": 0
        },
        {
         "Company": "Kroger",
         "Sales": 115037,
         "Stores": 3931,
         "Sales/Avg. Store": 30.03184963,
         "Store Count Growth": 0.05388739946,
         "Category": "Grocery",
         "_deepnote_index_column": 1
        },
        {
         "Company": "Costco",
         "Sales": 90048,
         "Stores": 495,
         "Sales/Avg. Store": 187.7956204,
         "Store Count Growth": 0.06681034483,
         "Category": "Warehouse Club",
         "_deepnote_index_column": 2
        },
        {
         "Company": "Home Depot",
         "Sales": 83976,
         "Stores": 1965,
         "Sales/Avg. Store": 42.73587786,
         "Store Count Growth": 0,
         "Category": "Home Improvement",
         "_deepnote_index_column": 3
        },
        {
         "Company": "Walgreen Boots",
         "Sales": 78924,
         "Stores": 8002,
         "Sales/Avg. Store": 9.81092672,
         "Store Count Growth": -0.01051069618,
         "Category": "Drug Stores",
         "_deepnote_index_column": 4
        },
        {
         "Company": "CVS incl. Target",
         "Sales": 77792,
         "Stores": 9813,
         "Sales/Avg. Store": 8.825958702,
         "Store Count Growth": 0.2556621881,
         "Category": "Drug Stores",
         "_deepnote_index_column": 5
        },
        {
         "Company": "Target",
         "Sales": 71208,
         "Stores": 1772,
         "Sales/Avg. Store": 39.98203257,
         "Store Count Growth": -0.01005586592,
         "Category": "Supercenters",
         "_deepnote_index_column": 7
        },
        {
         "Company": "Lowe's",
         "Sales": 60311,
         "Stores": 1828,
         "Sales/Avg. Store": 33.31179232,
         "Store Count Growth": 0.01952035694,
         "Category": "Home Improvement",
         "_deepnote_index_column": 8
        },
        {
         "Company": "Albertsons",
         "Sales": 56829,
         "Stores": 2326,
         "Sales/Avg. Store": 23.87773109,
         "Store Count Growth": -0.04437140509,
         "Category": "Grocery",
         "_deepnote_index_column": 9
        },
        {
         "Company": "Sam's Club",
         "Sales": 56828,
         "Stores": 655,
         "Sales/Avg. Store": 87.29339478,
         "Store Count Growth": 0.01236476043,
         "Category": "Warehouse Clubs",
         "_deepnote_index_column": 10
        }
       ]
      },
      "text/plain": "             Company   Sales   Stores  Sales/Avg. Store  Store Count Growth  \\\n0         Walmart US  658119   4574.0         65.649725            0.012843   \n1             Kroger  115037   3931.0         30.031850            0.053887   \n2             Costco   90048    495.0        187.795620            0.066810   \n3         Home Depot   83976   1965.0         42.735878            0.000000   \n4     Walgreen Boots   78924   8002.0          9.810927           -0.010511   \n5   CVS incl. Target   77792   9813.0          8.825959            0.255662   \n7             Target   71208   1772.0         39.982033           -0.010056   \n8             Lowe's   60311   1828.0         33.311792            0.019520   \n9         Albertsons   56829   2326.0         23.877731           -0.044371   \n10        Sam's Club   56828    655.0         87.293395            0.012365   \n12          Best Buy   34980   1389.0         24.685956           -0.038754   \n13            Publix   34408   1351.0         25.997733            0.042438   \n14          Rite Aid   27486   4553.0          6.025649           -0.003720   \n15             Ahold   26903    794.0         34.446863            0.033854   \n16            Macy's   26028    889.0         30.442105            0.082826   \n17               TJX   25012   2770.0          9.369545            0.078241   \n18              Aldi   24402   2021.0         12.715998            0.112273   \n19    Dollar General   22234  13350.0          1.768885            0.132412   \n20       Dollar Tree   21464  14250.0          1.563919            0.079627   \n21               HEB   21384    323.0         66.825000            0.018927   \n22            Kohl's   19060   1169.0         16.353496            0.006024   \n23          Delhaize   18201   1280.0         13.783415           -0.059515   \n24            Meijer   16592    231.0         74.738739            0.084507   \n\n             Category  \n0        Supercenters  \n1             Grocery  \n2      Warehouse Club  \n3    Home Improvement  \n4         Drug Stores  \n5         Drug Stores  \n7        Supercenters  \n8    Home Improvement  \n9             Grocery  \n10    Warehouse Clubs  \n12        Electronics  \n13            Grocery  \n14        Drug Stores  \n15            Grocery  \n16  Department Stores  \n17            Apparel  \n18            Grocery  \n19      Dollar Stores  \n20      Dollar Stores  \n21            Grocery  \n22  Department Stores  \n23            Grocery  \n24       Supercenters  ",
      "text/html": "<div>\n<style scoped>\n    .dataframe tbody tr th:only-of-type {\n        vertical-align: middle;\n    }\n\n    .dataframe tbody tr th {\n        vertical-align: top;\n    }\n\n    .dataframe thead th {\n        text-align: right;\n    }\n</style>\n<table border=\"1\" class=\"dataframe\">\n  <thead>\n    <tr style=\"text-align: right;\">\n      <th></th>\n      <th>Company</th>\n      <th>Sales</th>\n      <th>Stores</th>\n      <th>Sales/Avg. Store</th>\n      <th>Store Count Growth</th>\n      <th>Category</th>\n    </tr>\n  </thead>\n  <tbody>\n    <tr>\n      <th>0</th>\n      <td>Walmart US</td>\n      <td>658119</td>\n      <td>4574.0</td>\n      <td>65.649725</td>\n      <td>0.012843</td>\n      <td>Supercenters</td>\n    </tr>\n    <tr>\n      <th>1</th>\n      <td>Kroger</td>\n      <td>115037</td>\n      <td>3931.0</td>\n      <td>30.031850</td>\n      <td>0.053887</td>\n      <td>Grocery</td>\n    </tr>\n    <tr>\n      <th>2</th>\n      <td>Costco</td>\n      <td>90048</td>\n      <td>495.0</td>\n      <td>187.795620</td>\n      <td>0.066810</td>\n      <td>Warehouse Club</td>\n    </tr>\n    <tr>\n      <th>3</th>\n      <td>Home Depot</td>\n      <td>83976</td>\n      <td>1965.0</td>\n      <td>42.735878</td>\n      <td>0.000000</td>\n      <td>Home Improvement</td>\n    </tr>\n    <tr>\n      <th>4</th>\n      <td>Walgreen Boots</td>\n      <td>78924</td>\n      <td>8002.0</td>\n      <td>9.810927</td>\n      <td>-0.010511</td>\n      <td>Drug Stores</td>\n    </tr>\n    <tr>\n      <th>5</th>\n      <td>CVS incl. Target</td>\n      <td>77792</td>\n      <td>9813.0</td>\n      <td>8.825959</td>\n      <td>0.255662</td>\n      <td>Drug Stores</td>\n    </tr>\n    <tr>\n      <th>7</th>\n      <td>Target</td>\n      <td>71208</td>\n      <td>1772.0</td>\n      <td>39.982033</td>\n      <td>-0.010056</td>\n      <td>Supercenters</td>\n    </tr>\n    <tr>\n      <th>8</th>\n      <td>Lowe's</td>\n      <td>60311</td>\n      <td>1828.0</td>\n      <td>33.311792</td>\n      <td>0.019520</td>\n      <td>Home Improvement</td>\n    </tr>\n    <tr>\n      <th>9</th>\n      <td>Albertsons</td>\n      <td>56829</td>\n      <td>2326.0</td>\n      <td>23.877731</td>\n      <td>-0.044371</td>\n      <td>Grocery</td>\n    </tr>\n    <tr>\n      <th>10</th>\n      <td>Sam's Club</td>\n      <td>56828</td>\n      <td>655.0</td>\n      <td>87.293395</td>\n      <td>0.012365</td>\n      <td>Warehouse Clubs</td>\n    </tr>\n    <tr>\n      <th>12</th>\n      <td>Best Buy</td>\n      <td>34980</td>\n      <td>1389.0</td>\n      <td>24.685956</td>\n      <td>-0.038754</td>\n      <td>Electronics</td>\n    </tr>\n    <tr>\n      <th>13</th>\n      <td>Publix</td>\n      <td>34408</td>\n      <td>1351.0</td>\n      <td>25.997733</td>\n      <td>0.042438</td>\n      <td>Grocery</td>\n    </tr>\n    <tr>\n      <th>14</th>\n      <td>Rite Aid</td>\n      <td>27486</td>\n      <td>4553.0</td>\n      <td>6.025649</td>\n      <td>-0.003720</td>\n      <td>Drug Stores</td>\n    </tr>\n    <tr>\n      <th>15</th>\n      <td>Ahold</td>\n      <td>26903</td>\n      <td>794.0</td>\n      <td>34.446863</td>\n      <td>0.033854</td>\n      <td>Grocery</td>\n    </tr>\n    <tr>\n      <th>16</th>\n      <td>Macy's</td>\n      <td>26028</td>\n      <td>889.0</td>\n      <td>30.442105</td>\n      <td>0.082826</td>\n      <td>Department Stores</td>\n    </tr>\n    <tr>\n      <th>17</th>\n      <td>TJX</td>\n      <td>25012</td>\n      <td>2770.0</td>\n      <td>9.369545</td>\n      <td>0.078241</td>\n      <td>Apparel</td>\n    </tr>\n    <tr>\n      <th>18</th>\n      <td>Aldi</td>\n      <td>24402</td>\n      <td>2021.0</td>\n      <td>12.715998</td>\n      <td>0.112273</td>\n      <td>Grocery</td>\n    </tr>\n    <tr>\n      <th>19</th>\n      <td>Dollar General</td>\n      <td>22234</td>\n      <td>13350.0</td>\n      <td>1.768885</td>\n      <td>0.132412</td>\n      <td>Dollar Stores</td>\n    </tr>\n    <tr>\n      <th>20</th>\n      <td>Dollar Tree</td>\n      <td>21464</td>\n      <td>14250.0</td>\n      <td>1.563919</td>\n      <td>0.079627</td>\n      <td>Dollar Stores</td>\n    </tr>\n    <tr>\n      <th>21</th>\n      <td>HEB</td>\n      <td>21384</td>\n      <td>323.0</td>\n      <td>66.825000</td>\n      <td>0.018927</td>\n      <td>Grocery</td>\n    </tr>\n    <tr>\n      <th>22</th>\n      <td>Kohl's</td>\n      <td>19060</td>\n      <td>1169.0</td>\n      <td>16.353496</td>\n      <td>0.006024</td>\n      <td>Department Stores</td>\n    </tr>\n    <tr>\n      <th>23</th>\n      <td>Delhaize</td>\n      <td>18201</td>\n      <td>1280.0</td>\n      <td>13.783415</td>\n      <td>-0.059515</td>\n      <td>Grocery</td>\n    </tr>\n    <tr>\n      <th>24</th>\n      <td>Meijer</td>\n      <td>16592</td>\n      <td>231.0</td>\n      <td>74.738739</td>\n      <td>0.084507</td>\n      <td>Supercenters</td>\n    </tr>\n  </tbody>\n</table>\n</div>"
     },
     "metadata": {}
    }
   ],
   "execution_count": null
  },
  {
   "cell_type": "code",
   "source": "# Quartiles\nQ1 = datos_sorted ['Sales'].quantile(q=0.25)\nQ3 = datos_sorted ['Sales'].quantile(q=0.75)\nmin_val = datos_sorted ['Sales'].quantile(q=0)\nmax_val = datos_sorted ['Sales'].quantile(q=1.0)\nprint(min_val, Q1,Q3, max_val)",
   "metadata": {
    "cell_id": "eb4712c3-86b1-4e96-895e-c095fcbadabb",
    "tags": [],
    "deepnote_to_be_reexecuted": false,
    "source_hash": "21d39347",
    "execution_start": 1645725262263,
    "execution_millis": 11,
    "deepnote_cell_type": "code"
   },
   "outputs": [
    {
     "name": "stdout",
     "text": "16592.0 24402.0 71687.0 658119.0\n",
     "output_type": "stream"
    }
   ],
   "execution_count": null
  },
  {
   "cell_type": "code",
   "source": "iqr = Q3 - Q1\niqr",
   "metadata": {
    "cell_id": "4170546a-204d-4d0e-a35f-28e63e254fdf",
    "tags": [],
    "deepnote_to_be_reexecuted": false,
    "source_hash": "7e09e3cb",
    "execution_start": 1645725262281,
    "execution_millis": 7,
    "deepnote_cell_type": "code"
   },
   "outputs": [
    {
     "output_type": "execute_result",
     "execution_count": 31,
     "data": {
      "text/plain": "47285.0"
     },
     "metadata": {}
    }
   ],
   "execution_count": null
  },
  {
   "cell_type": "code",
   "source": "datos_sorted['Sales'].std() #Desviación Standars",
   "metadata": {
    "cell_id": "df09b049-3071-4f2a-a8b3-09da1446a2dd",
    "tags": [],
    "deepnote_to_be_reexecuted": false,
    "source_hash": "18b8d378",
    "execution_start": 1645725262284,
    "execution_millis": 11,
    "deepnote_cell_type": "code"
   },
   "outputs": [
    {
     "output_type": "execute_result",
     "execution_count": 32,
     "data": {
      "text/plain": "125405.72764395573"
     },
     "metadata": {}
    }
   ],
   "execution_count": null
  },
  {
   "cell_type": "markdown",
   "source": "### Detección de outliers",
   "metadata": {
    "cell_id": "e7d900b4-3b80-4907-9526-053089fdde67",
    "tags": [],
    "deepnote_cell_type": "markdown"
   }
  },
  {
   "cell_type": "code",
   "source": "sns.set(rc={'figure.figsize':(10.5,7.21)})\nf, (ax_hist, ax_box) = plt.subplots(2, sharex=True, gridspec_kw={\"height_ratios\": (.6, .4)})\nsns.histplot(datos_sorted['Sales'], ax=ax_hist, color= 'orangered')\nsns.boxplot(datos_sorted['Sales'], ax=ax_box, color='orange')\nax_hist.set(xlabel='')",
   "metadata": {
    "cell_id": "4f258361-996a-4ada-bee2-ee58f594fed9",
    "tags": [],
    "deepnote_to_be_reexecuted": false,
    "source_hash": "275f3ff2",
    "execution_start": 1645725262320,
    "execution_millis": 566,
    "deepnote_cell_type": "code"
   },
   "outputs": [
    {
     "name": "stderr",
     "text": "/shared-libs/python3.7/py/lib/python3.7/site-packages/seaborn/_decorators.py:43: FutureWarning: Pass the following variable as a keyword arg: x. From version 0.12, the only valid positional argument will be `data`, and passing other arguments without an explicit keyword will result in an error or misinterpretation.\n  FutureWarning\n",
     "output_type": "stream"
    },
    {
     "output_type": "execute_result",
     "execution_count": 33,
     "data": {
      "text/plain": "[Text(0.5, 0, '')]"
     },
     "metadata": {}
    },
    {
     "data": {
      "text/plain": "<Figure size 756x519.12 with 2 Axes>",
      "image/png": "[encoded data removed]"
     },
     "metadata": {
      "image/png": {
       "width": 640,
       "height": 442
      }
     },
     "output_type": "display_data"
    }
   ],
   "execution_count": null
  },
  {
   "cell_type": "markdown",
   "source": "### 11. Pregunta",
   "metadata": {
    "cell_id": "83e0e566-969d-4872-b32d-915ac945a370",
    "tags": [],
    "deepnote_cell_height": 62.15625,
    "deepnote_cell_type": "markdown"
   }
  },
  {
   "cell_type": "markdown",
   "source": "### ¿Cuál es la empresa que tuvo menor ventas?",
   "metadata": {
    "cell_id": "fd392a47-d264-4787-9b9b-688524e00ded",
    "tags": [],
    "deepnote_cell_type": "markdown"
   }
  },
  {
   "cell_type": "markdown",
   "source": "#### La compañia con menor ventas es \"Ahold\", con un total de USD 16592- ",
   "metadata": {
    "cell_id": "841d8759-76be-4faa-bc11-47247db4bc3b",
    "tags": [],
    "deepnote_cell_type": "markdown"
   }
  },
  {
   "cell_type": "code",
   "source": "compania_min = datos.min()\ncompania_min",
   "metadata": {
    "cell_id": "69068abc-e47b-439d-b996-7e66021d0bec",
    "tags": [],
    "deepnote_to_be_reexecuted": false,
    "source_hash": "820db0d4",
    "execution_start": 1645725262893,
    "execution_millis": 8,
    "deepnote_cell_type": "code"
   },
   "outputs": [
    {
     "output_type": "execute_result",
     "execution_count": 34,
     "data": {
      "text/plain": "Company                  Ahold\nSales                    16592\nStores                   231.0\nSales/Avg. Store      1.563919\nStore Count Growth   -0.059515\nCategory               Apparel\ndtype: object"
     },
     "metadata": {}
    }
   ],
   "execution_count": null
  },
  {
   "cell_type": "markdown",
   "source": "### 12. Pregunta",
   "metadata": {
    "cell_id": "d5a17c31-5e8f-4d67-9679-c5705053de69",
    "tags": [],
    "deepnote_cell_height": 62.15625,
    "deepnote_cell_type": "markdown"
   }
  },
  {
   "cell_type": "code",
   "metadata": {
    "cell_id": "b168ad4f-adf7-4f82-9126-461a1fc64b84",
    "tags": [],
    "deepnote_to_be_reexecuted": false,
    "source_hash": "b623e53d",
    "execution_start": 1645725262899,
    "deepnote_cell_height": 81.15625,
    "execution_millis": 3,
    "deepnote_cell_type": "code"
   },
   "source": "",
   "outputs": [],
   "execution_count": null
  },
  {
   "cell_type": "markdown",
   "source": "<a style='text-decoration:none;line-height:16px;display:flex;color:#5B5B62;padding:10px;justify-content:end;' href='https://deepnote.com?utm_source=created-in-deepnote-cell&projectId=6980027d-c8f4-4155-9b70-2bbcaf624b00' target=\"_blank\">\n<img alt='Created in deepnote.com' style='display:inline;max-height:16px;margin:0px;margin-right:7.5px;' src='data:image/svg+xml;base64,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' > </img>\nCreated in <span style='font-weight:600;margin-left:4px;'>Deepnote</span></a>",
   "metadata": {
    "tags": [],
    "created_in_deepnote_cell": true,
    "deepnote_cell_type": "markdown"
   }
  }
 ],
 "nbformat": 4,
 "nbformat_minor": 2,
 "metadata": {
  "orig_nbformat": 2,
  "deepnote": {
   "is_reactive": false
  },
  "deepnote_notebook_id": "85b76ea9-ace4-4c85-8b21-59120be91703",
  "deepnote_execution_queue": []
 }
}